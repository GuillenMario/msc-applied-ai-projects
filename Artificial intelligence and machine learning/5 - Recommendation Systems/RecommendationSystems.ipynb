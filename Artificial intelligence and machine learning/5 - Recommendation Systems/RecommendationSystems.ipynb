{
 "cells": [
  {
   "cell_type": "markdown",
   "metadata": {
    "id": "VFj0sSM06dYa"
   },
   "source": [
    "# **Master’s in Applied Artificial Intelligence**\n",
    "## **Course: Artificial Intelligence and Machine Learning**\n",
    "### Prof. Luis Eduardo Falcón Morales\n",
    "#### Tecnológico de Monterrey\n",
    "\n",
    "### **Dimensionality reduction and recommendation systems**\n",
    "##### **Name and student ID:**\n",
    "* Mario Guillen de la Torre - A01796701"
   ]
  },
  {
   "cell_type": "code",
   "execution_count": 3,
   "metadata": {
    "id": "exXsscs-Dh-2"
   },
   "outputs": [],
   "source": [
    "# Add all additional libraries and packages here.\n",
    "import numpy as np\n",
    "import pandas as pd\n",
    "from sklearn.decomposition import TruncatedSVD\n",
    "from sklearn.preprocessing import OneHotEncoder\n",
    "from sklearn.metrics.pairwise import cosine_similarity"
   ]
  },
  {
   "cell_type": "markdown",
   "metadata": {
    "id": "8LCCGOCnB20k"
   },
   "source": [
    "UCI Data League \"Restaurant & Consumer Data\".\n",
    "Download \"Rcdata.zip\" and from there we will need the \"rating_final.csv\" and \"geoplaces2.csv\" files.\n",
    "\n",
    "https://archive.ics.uci.edu/dataset/232/restaurant+consumer+data\n",
    "\n",
    "You can also use the following league:\n",
    "\n",
    "https://www.kaggy.com/datasets/prajitdatta/movielens-100k-dataset"
   ]
  },
  {
   "cell_type": "code",
   "execution_count": 5,
   "metadata": {
    "colab": {
     "base_uri": "https://localhost:8080/"
    },
    "id": "3nU2GuWYCy6C",
    "outputId": "a98d57e4-8c5c-4db9-f573-692c6fcc4dc3"
   },
   "outputs": [
    {
     "name": "stdout",
     "output_type": "stream",
     "text": [
      "(1161, 5) (130, 21)\n"
     ]
    }
   ],
   "source": [
    "# Download the files on the ICU page from which we will generate\n",
    "# Our utility matrices.\n",
    "data_rating = pd.read_csv(\"rating_final.csv\", header='infer', sep=\",\")\n",
    "data_geo = pd.read_csv(\"geoplaces2.csv\", header='infer',  encoding='latin-1')\n",
    "print(data_rating.shape, data_geo.shape)"
   ]
  },
  {
   "cell_type": "markdown",
   "metadata": {
    "id": "9ejOXFX0wRbr"
   },
   "source": [
    "## **Exercise - 1**"
   ]
  },
  {
   "cell_type": "markdown",
   "metadata": {
    "id": "SXZCu8d24qhg"
   },
   "source": [
    "### **Explain what is the purpose of using the argument \"Latin-1\" when loading the second file.**"
   ]
  },
  {
   "cell_type": "markdown",
   "metadata": {
    "id": "QnVxVjpd5Ulw"
   },
   "source": [
    "+++++++ Section to add text starts: +++++++++++\n",
    "\n",
    "Latin-1 is used as an argument of the Read_CSV function so that pandas can properly process the special characters of our alphabet, such as the \"Ñ\" and the letters with accents, thus avoiding errors when reading the file.\n",
    "\n",
    "++++++++ Section to add text ends ++++++++++"
   ]
  },
  {
   "cell_type": "markdown",
   "metadata": {
    "id": "DbEshKJnwPp3"
   },
   "source": [
    "## **Exercise - 2**"
   ]
  },
  {
   "cell_type": "markdown",
   "metadata": {
    "id": "0M4bdUWEDPt2"
   },
   "source": [
    "#### **Each restaurant must have a different name:**"
   ]
  },
  {
   "cell_type": "code",
   "execution_count": 11,
   "metadata": {
    "colab": {
     "base_uri": "https://localhost:8080/"
    },
    "id": "gmt8o2u8wcDm",
    "outputId": "bf10b4e0-6855-4733-b069-9b4c788b61af"
   },
   "outputs": [
    {
     "data": {
      "text/plain": [
       "array(['Kiku Cuernavaca', 'puesto de tacos', 'El Rincón de San Francisco',\n",
       "       'little pizza Emilio Portes Gil', 'carnitas_mata',\n",
       "       'Restaurant los Compadres', 'Taqueria EL amigo ', 'shi ro ie',\n",
       "       'Pollo_Frito_Buenos_Aires', 'la Estrella de Dimas',\n",
       "       'Restaurante 75', 'Abondance Restaurante Bar',\n",
       "       'El angel Restaurante', 'Restaurante Pueblo Bonito',\n",
       "       'Mcdonalds Parque Tangamanga', 'Tortas y hamburguesas el gordo',\n",
       "       'Sirlone', 'rockabilly ', 'Unicols Pizza', 'TACOS EL GUERO',\n",
       "       'Restaurant El Muladar de Calzada', 'La Posada del Virrey',\n",
       "       'Restaurant and Bar and Clothesline Carlos N Charlies', 'KFC',\n",
       "       'Giovannis', 'Restaurant Oriental Express', 'Mariscos Tia Licha',\n",
       "       'cafe ambar', 'Restaurante la Gran Via', 'don burguers',\n",
       "       'Restaurante y Pescaderia Tampico', 'Rincon del Bife',\n",
       "       'La Fontana Pizza Restaurante and Cafe',\n",
       "       'Restaurante la Estrella de Dima', 'El Rincon de San Francisco',\n",
       "       'Preambulo Wifi Zone Cafe', 'El Herradero Restaurante and Bar',\n",
       "       'Koye Sushi', 'Restaurant Teely', 'la parroquia', 'Luna Cafe',\n",
       "       'Hamburguesas La perica', 'Restaurante El Reyecito', 'churchs',\n",
       "       'Dominos Pizza', 'el pueblito', 'emilianos',\n",
       "       'Restaurant Bar Hacienda los Martinez', 'Vips',\n",
       "       'Restaurante Alhondiga', 'los Toneles', 'Restaurant los Pinos',\n",
       "       'Restaurante Guerra', 'Michiko Restaurant Japones',\n",
       "       'Restaurante Marisco Sam',\n",
       "       'la Cochinita Pibil Restaurante Yucateco', 'Potzocalli',\n",
       "       'Restaurante la Parroquia Potosina', 'El Oceano Dorado',\n",
       "       'Restaurante El Chivero S.A. de C.V.', 'Restaurant la Chalita',\n",
       "       'El Club', 'Gordas de morales', 'Restaurante Versalles', 'Subway',\n",
       "       'La Cantina Restaurante', 'Cenaduria El RincÃ³n de Tlaquepaque',\n",
       "       'Los Vikingos', 'Hamburguesas Valle Dorado', 'la Cantina',\n",
       "       'dairy queen', 'Arrachela Grill', 'vips', 'palomo tec',\n",
       "       'Restaurante Casa de las Flores', 'VIPS', 'TACOS CORRECAMINOS',\n",
       "       'Restaurant Wu Zhuo Yi', 'El Mundo de la Pasta',\n",
       "       'Restaurante la Cantina', 'Gorditas Doa Gloria',\n",
       "       'el lechon potosino ', 'Restaurante Bar Fu-hao', 'tortas hawai',\n",
       "       'Carls Jr', 'Hamburguesas saul', 'Carreton de Flautas y Migadas',\n",
       "       'Rincon Huasteco', 'El cotorreo', 'Gorditas Dona Tota',\n",
       "       'Pizzeria Julios', 'Chilis Cuernavaca', 'Cafe Chaires',\n",
       "       'tacos los volcanes', 'Little Cesarz', 'cafe punta del cielo',\n",
       "       'tacos de la estacion', 'Restaurant Orizatlan',\n",
       "       'Restaurant Familiar El Chino', 'Restaurant de Mariscos de Picon',\n",
       "       'Sanborns Casa Piedra', 'La Estrella de Dimas', 'pizza clasica',\n",
       "       'Carnitas Mata  Calle 16 de Septiembre',\n",
       "       'Restaurante de Mariscos la Langosta',\n",
       "       'Restaurante Bar El Gallinero', 'puesto de gorditas', 'Log Yin',\n",
       "       'Mariscos El Pescador', 'carnitas mata calle Emilio Portes Gil',\n",
       "       'crudalia', 'tacos de barbacoa enfrente del Tec',\n",
       "       'Restaurant Las Mananitas', 'Restaurante El Cielo Potosino',\n",
       "       'Mikasa', 'Cafeteria cenidet', 'Restaurante Tiberius',\n",
       "       'Cabana Huasteca', 'Gorditas Dona Tota',\n",
       "       'Cafeteria y Restaurant El Pacifico', 'La Virreina',\n",
       "       'Tortas Locas Hipocampo', 'tacos abi', 'la perica hamburguesa',\n",
       "       'McDonalds Centro', 'Chaires', 'Sushi Itto', 'Paniroles',\n",
       "       'Restaurant Bar Coty y Pablo', 'sirloin stockade'], dtype=object)"
      ]
     },
     "execution_count": 11,
     "metadata": {},
     "output_type": "execute_result"
    }
   ],
   "source": [
    "# Let's look at the restaurant list.\n",
    "\n",
    "# All of them are restaurants located in some city in the country of Mexico:\n",
    "\n",
    "\n",
    "data_geo['name'].values"
   ]
  },
  {
   "cell_type": "markdown",
   "metadata": {
    "id": "_TPm5DHjwTMg"
   },
   "source": [
    "* **All restaurants that appear on this list are different businesses, in the sense that they are physically located in different cities in Mexico, although some belong to a franchise, such as Vips.**\n",
    "\n",
    "* **For the purposes of this exercise, we will be considering all restaurants as different. However, in the case of Vips, there are three restaurants in this list captured with names: Vips, Vips and Vips. That due to their coordinates of latitude and length we know that they are located in SLP, Cuernavaca and CDVictoria. The names could be changed by adding the city, but as the names were captured differently with tiny and capital letters, we will leave them for the moment in this way.**\n",
    "\n",
    "* **At the moment we will not be doing the recommendations for the place where they are, but only for the evaluation of the restaurant and other features that have nothing to do with the location.**\n",
    "\n",
    "* **There are other franchises also captured differently, except in the case of 'Gorditas Dona Tota', in which two of these restaurants that are located in CD. Victoria were recorded exactly with the same name. So that our recommendation system can differentiate them, you must change the name of one of them as indicated below.**"
   ]
  },
  {
   "cell_type": "markdown",
   "metadata": {
    "id": "RYe-1NVb7Rts"
   },
   "source": [
    "### **of the two restaurants registered with the name of 'Gorditas Dona Tota', finds its indexes and changes the one with the largest index in data_geo [name] to 'Gorditas Dona Tota 2'.**"
   ]
  },
  {
   "cell_type": "code",
   "execution_count": 14,
   "metadata": {
    "colab": {
     "base_uri": "https://localhost:8080/"
    },
    "id": "BCi-JC9V-sNj",
    "outputId": "a7dd4e63-fe09-4245-ea64-17485e4194ac"
   },
   "outputs": [
    {
     "name": "stdout",
     "output_type": "stream",
     "text": [
      "Verifying the name change: \n",
      " 89       Gorditas Dona Tota\n",
      "118    Gorditas Dona Tota 2\n",
      "Name: name, dtype: object\n"
     ]
    }
   ],
   "source": [
    "# Exercise-2\n",
    "\n",
    "# ************* Inlcuye your code: ******************************************************************************\n",
    "\n",
    "# List of rates of the records with the name of 'Gorditas Dona Tota':\n",
    "\n",
    "indices_Dona_Tota = data_geo[data_geo['name'] == 'Gorditas Dona Tota'].index\n",
    "data_geo.at[np.max(indices_Dona_Tota),'name'] = 'Gorditas Dona Tota 2'\n",
    "\n",
    "print('Verifying the name change: \\n', data_geo.loc[indices_Dona_Tota, 'name'])"
   ]
  },
  {
   "cell_type": "markdown",
   "metadata": {
    "id": "rr3hJTCW6c05"
   },
   "source": [
    "## **Exercise - 3**"
   ]
  },
  {
   "cell_type": "code",
   "execution_count": 16,
   "metadata": {
    "colab": {
     "base_uri": "https://localhost:8080/",
     "height": 144
    },
    "id": "0ulkqXVGCy97",
    "outputId": "13df929b-7795-4064-df94-c87e0770f5ec"
   },
   "outputs": [
    {
     "data": {
      "text/html": [
       "<div>\n",
       "<style scoped>\n",
       "    .dataframe tbody tr th:only-of-type {\n",
       "        vertical-align: middle;\n",
       "    }\n",
       "\n",
       "    .dataframe tbody tr th {\n",
       "        vertical-align: top;\n",
       "    }\n",
       "\n",
       "    .dataframe thead th {\n",
       "        text-align: right;\n",
       "    }\n",
       "</style>\n",
       "<table border=\"1\" class=\"dataframe\">\n",
       "  <thead>\n",
       "    <tr style=\"text-align: right;\">\n",
       "      <th></th>\n",
       "      <th>userID</th>\n",
       "      <th>placeID</th>\n",
       "      <th>rating</th>\n",
       "      <th>food_rating</th>\n",
       "      <th>service_rating</th>\n",
       "    </tr>\n",
       "  </thead>\n",
       "  <tbody>\n",
       "    <tr>\n",
       "      <th>0</th>\n",
       "      <td>U1077</td>\n",
       "      <td>135085</td>\n",
       "      <td>2</td>\n",
       "      <td>2</td>\n",
       "      <td>2</td>\n",
       "    </tr>\n",
       "    <tr>\n",
       "      <th>1</th>\n",
       "      <td>U1077</td>\n",
       "      <td>135038</td>\n",
       "      <td>2</td>\n",
       "      <td>2</td>\n",
       "      <td>1</td>\n",
       "    </tr>\n",
       "    <tr>\n",
       "      <th>2</th>\n",
       "      <td>U1077</td>\n",
       "      <td>132825</td>\n",
       "      <td>2</td>\n",
       "      <td>2</td>\n",
       "      <td>2</td>\n",
       "    </tr>\n",
       "  </tbody>\n",
       "</table>\n",
       "</div>"
      ],
      "text/plain": [
       "  userID  placeID  rating  food_rating  service_rating\n",
       "0  U1077   135085       2            2               2\n",
       "1  U1077   135038       2            2               1\n",
       "2  U1077   132825       2            2               2"
      ]
     },
     "execution_count": 16,
     "metadata": {},
     "output_type": "execute_result"
    }
   ],
   "source": [
    "# At the moment we have the following data. Of the first file\n",
    "# We have the general evaluation, that of food and service:\n",
    "\n",
    "data_rating.head(3)"
   ]
  },
  {
   "cell_type": "code",
   "execution_count": 17,
   "metadata": {
    "colab": {
     "base_uri": "https://localhost:8080/",
     "height": 709
    },
    "id": "y1n23keFiUQg",
    "outputId": "bb28aa89-1782-43e3-da96-291dca8eda51"
   },
   "outputs": [
    {
     "data": {
      "text/html": [
       "<div>\n",
       "<style scoped>\n",
       "    .dataframe tbody tr th:only-of-type {\n",
       "        vertical-align: middle;\n",
       "    }\n",
       "\n",
       "    .dataframe tbody tr th {\n",
       "        vertical-align: top;\n",
       "    }\n",
       "\n",
       "    .dataframe thead th {\n",
       "        text-align: right;\n",
       "    }\n",
       "</style>\n",
       "<table border=\"1\" class=\"dataframe\">\n",
       "  <thead>\n",
       "    <tr style=\"text-align: right;\">\n",
       "      <th></th>\n",
       "      <th>0</th>\n",
       "      <th>1</th>\n",
       "    </tr>\n",
       "  </thead>\n",
       "  <tbody>\n",
       "    <tr>\n",
       "      <th>placeID</th>\n",
       "      <td>134999</td>\n",
       "      <td>132825</td>\n",
       "    </tr>\n",
       "    <tr>\n",
       "      <th>latitude</th>\n",
       "      <td>18.915421</td>\n",
       "      <td>22.147392</td>\n",
       "    </tr>\n",
       "    <tr>\n",
       "      <th>longitude</th>\n",
       "      <td>-99.184871</td>\n",
       "      <td>-100.983092</td>\n",
       "    </tr>\n",
       "    <tr>\n",
       "      <th>the_geom_meter</th>\n",
       "      <td>0101000020957F000088568DE356715AC138C0A525FC46...</td>\n",
       "      <td>0101000020957F00001AD016568C4858C1243261274BA5...</td>\n",
       "    </tr>\n",
       "    <tr>\n",
       "      <th>name</th>\n",
       "      <td>Kiku Cuernavaca</td>\n",
       "      <td>puesto de tacos</td>\n",
       "    </tr>\n",
       "    <tr>\n",
       "      <th>address</th>\n",
       "      <td>Revolucion</td>\n",
       "      <td>esquina santos degollado y leon guzman</td>\n",
       "    </tr>\n",
       "    <tr>\n",
       "      <th>city</th>\n",
       "      <td>Cuernavaca</td>\n",
       "      <td>s.l.p.</td>\n",
       "    </tr>\n",
       "    <tr>\n",
       "      <th>state</th>\n",
       "      <td>Morelos</td>\n",
       "      <td>s.l.p.</td>\n",
       "    </tr>\n",
       "    <tr>\n",
       "      <th>country</th>\n",
       "      <td>Mexico</td>\n",
       "      <td>mexico</td>\n",
       "    </tr>\n",
       "    <tr>\n",
       "      <th>fax</th>\n",
       "      <td>?</td>\n",
       "      <td>?</td>\n",
       "    </tr>\n",
       "    <tr>\n",
       "      <th>zip</th>\n",
       "      <td>?</td>\n",
       "      <td>78280</td>\n",
       "    </tr>\n",
       "    <tr>\n",
       "      <th>alcohol</th>\n",
       "      <td>No_Alcohol_Served</td>\n",
       "      <td>No_Alcohol_Served</td>\n",
       "    </tr>\n",
       "    <tr>\n",
       "      <th>smoking_area</th>\n",
       "      <td>none</td>\n",
       "      <td>none</td>\n",
       "    </tr>\n",
       "    <tr>\n",
       "      <th>dress_code</th>\n",
       "      <td>informal</td>\n",
       "      <td>informal</td>\n",
       "    </tr>\n",
       "    <tr>\n",
       "      <th>accessibility</th>\n",
       "      <td>no_accessibility</td>\n",
       "      <td>completely</td>\n",
       "    </tr>\n",
       "    <tr>\n",
       "      <th>price</th>\n",
       "      <td>medium</td>\n",
       "      <td>low</td>\n",
       "    </tr>\n",
       "    <tr>\n",
       "      <th>url</th>\n",
       "      <td>kikucuernavaca.com.mx</td>\n",
       "      <td>?</td>\n",
       "    </tr>\n",
       "    <tr>\n",
       "      <th>Rambience</th>\n",
       "      <td>familiar</td>\n",
       "      <td>familiar</td>\n",
       "    </tr>\n",
       "    <tr>\n",
       "      <th>franchise</th>\n",
       "      <td>f</td>\n",
       "      <td>f</td>\n",
       "    </tr>\n",
       "    <tr>\n",
       "      <th>area</th>\n",
       "      <td>closed</td>\n",
       "      <td>open</td>\n",
       "    </tr>\n",
       "    <tr>\n",
       "      <th>other_services</th>\n",
       "      <td>none</td>\n",
       "      <td>none</td>\n",
       "    </tr>\n",
       "  </tbody>\n",
       "</table>\n",
       "</div>"
      ],
      "text/plain": [
       "                                                                0  \\\n",
       "placeID                                                    134999   \n",
       "latitude                                                18.915421   \n",
       "longitude                                              -99.184871   \n",
       "the_geom_meter  0101000020957F000088568DE356715AC138C0A525FC46...   \n",
       "name                                              Kiku Cuernavaca   \n",
       "address                                                Revolucion   \n",
       "city                                                   Cuernavaca   \n",
       "state                                                     Morelos   \n",
       "country                                                    Mexico   \n",
       "fax                                                             ?   \n",
       "zip                                                             ?   \n",
       "alcohol                                         No_Alcohol_Served   \n",
       "smoking_area                                                 none   \n",
       "dress_code                                               informal   \n",
       "accessibility                                    no_accessibility   \n",
       "price                                                      medium   \n",
       "url                                         kikucuernavaca.com.mx   \n",
       "Rambience                                                familiar   \n",
       "franchise                                                       f   \n",
       "area                                                       closed   \n",
       "other_services                                               none   \n",
       "\n",
       "                                                                1  \n",
       "placeID                                                    132825  \n",
       "latitude                                                22.147392  \n",
       "longitude                                             -100.983092  \n",
       "the_geom_meter  0101000020957F00001AD016568C4858C1243261274BA5...  \n",
       "name                                              puesto de tacos  \n",
       "address                    esquina santos degollado y leon guzman  \n",
       "city                                                       s.l.p.  \n",
       "state                                                      s.l.p.  \n",
       "country                                                    mexico  \n",
       "fax                                                             ?  \n",
       "zip                                                         78280  \n",
       "alcohol                                         No_Alcohol_Served  \n",
       "smoking_area                                                 none  \n",
       "dress_code                                               informal  \n",
       "accessibility                                          completely  \n",
       "price                                                         low  \n",
       "url                                                             ?  \n",
       "Rambience                                                familiar  \n",
       "franchise                                                       f  \n",
       "area                                                         open  \n",
       "other_services                                               none  "
      ]
     },
     "execution_count": 17,
     "metadata": {},
     "output_type": "execute_result"
    }
   ],
   "source": [
    "# And from the second file we get diverse information from each restaurant:\n",
    "data_geo.head(2).T"
   ]
  },
  {
   "cell_type": "markdown",
   "metadata": {
    "id": "f4b6eQ-VFGQS"
   },
   "source": [
    "### ** From each of these files select and combine the appropriate variables to obtain a new data whose columns are the User ID (Userid), the ID of the restaurant (Placeid), the general qualification (rating) and the name of the restaurant (Name). This new dataframe calls it df_combinado. **"
   ]
  },
  {
   "cell_type": "code",
   "execution_count": 19,
   "metadata": {
    "colab": {
     "base_uri": "https://localhost:8080/",
     "height": 224
    },
    "id": "Y3jwhxfdjMWh",
    "outputId": "8cf89c5e-570d-415c-86b0-ce2d7b0ef147"
   },
   "outputs": [
    {
     "name": "stdout",
     "output_type": "stream",
     "text": [
      "(1161, 4)\n"
     ]
    },
    {
     "data": {
      "text/html": [
       "<div>\n",
       "<style scoped>\n",
       "    .dataframe tbody tr th:only-of-type {\n",
       "        vertical-align: middle;\n",
       "    }\n",
       "\n",
       "    .dataframe tbody tr th {\n",
       "        vertical-align: top;\n",
       "    }\n",
       "\n",
       "    .dataframe thead th {\n",
       "        text-align: right;\n",
       "    }\n",
       "</style>\n",
       "<table border=\"1\" class=\"dataframe\">\n",
       "  <thead>\n",
       "    <tr style=\"text-align: right;\">\n",
       "      <th></th>\n",
       "      <th>userID</th>\n",
       "      <th>placeID</th>\n",
       "      <th>rating</th>\n",
       "      <th>name</th>\n",
       "    </tr>\n",
       "  </thead>\n",
       "  <tbody>\n",
       "    <tr>\n",
       "      <th>0</th>\n",
       "      <td>U1077</td>\n",
       "      <td>135085</td>\n",
       "      <td>2</td>\n",
       "      <td>Tortas Locas Hipocampo</td>\n",
       "    </tr>\n",
       "    <tr>\n",
       "      <th>1</th>\n",
       "      <td>U1077</td>\n",
       "      <td>135038</td>\n",
       "      <td>2</td>\n",
       "      <td>Restaurant la Chalita</td>\n",
       "    </tr>\n",
       "    <tr>\n",
       "      <th>2</th>\n",
       "      <td>U1077</td>\n",
       "      <td>132825</td>\n",
       "      <td>2</td>\n",
       "      <td>puesto de tacos</td>\n",
       "    </tr>\n",
       "    <tr>\n",
       "      <th>3</th>\n",
       "      <td>U1077</td>\n",
       "      <td>135060</td>\n",
       "      <td>1</td>\n",
       "      <td>Restaurante Marisco Sam</td>\n",
       "    </tr>\n",
       "    <tr>\n",
       "      <th>4</th>\n",
       "      <td>U1068</td>\n",
       "      <td>135104</td>\n",
       "      <td>1</td>\n",
       "      <td>vips</td>\n",
       "    </tr>\n",
       "  </tbody>\n",
       "</table>\n",
       "</div>"
      ],
      "text/plain": [
       "  userID  placeID  rating                     name\n",
       "0  U1077   135085       2   Tortas Locas Hipocampo\n",
       "1  U1077   135038       2    Restaurant la Chalita\n",
       "2  U1077   132825       2          puesto de tacos\n",
       "3  U1077   135060       1  Restaurante Marisco Sam\n",
       "4  U1068   135104       1                     vips"
      ]
     },
     "execution_count": 19,
     "metadata": {},
     "output_type": "execute_result"
    }
   ],
   "source": [
    "# Exercise 3:\n",
    "\n",
    "# ************* Inlcuye your code: ******************************************************************************\n",
    "df_combinado = pd.merge(data_rating, data_geo,on='placeID')\n",
    "df_combinado = df_combinado[['userID','placeID','rating','name']]\n",
    "# **:00******\n",
    "# Let's display the dimension and first lines of this dataframe:\n",
    "\n",
    "print(df_combinado.shape)\n",
    "df_combinado.head()"
   ]
  },
  {
   "cell_type": "markdown",
   "metadata": {
    "id": "2EyK_O7EHBWe"
   },
   "source": [
    "## **Exercise - 4**"
   ]
  },
  {
   "cell_type": "code",
   "execution_count": 21,
   "metadata": {
    "colab": {
     "base_uri": "https://localhost:8080/",
     "height": 302
    },
    "id": "p6J7eDI-oTeH",
    "outputId": "e49eb0d2-b11e-4471-a37c-65d3b2c27ff2"
   },
   "outputs": [
    {
     "name": "stdout",
     "output_type": "stream",
     "text": [
      "Utility matrix dimension:\n",
      "(restaurants, users) = (130, 138)\n"
     ]
    },
    {
     "data": {
      "text/html": [
       "<div>\n",
       "<style scoped>\n",
       "    .dataframe tbody tr th:only-of-type {\n",
       "        vertical-align: middle;\n",
       "    }\n",
       "\n",
       "    .dataframe tbody tr th {\n",
       "        vertical-align: top;\n",
       "    }\n",
       "\n",
       "    .dataframe thead th {\n",
       "        text-align: right;\n",
       "    }\n",
       "</style>\n",
       "<table border=\"1\" class=\"dataframe\">\n",
       "  <thead>\n",
       "    <tr style=\"text-align: right;\">\n",
       "      <th>userID</th>\n",
       "      <th>U1001</th>\n",
       "      <th>U1002</th>\n",
       "      <th>U1003</th>\n",
       "      <th>U1004</th>\n",
       "      <th>U1005</th>\n",
       "      <th>U1006</th>\n",
       "      <th>U1007</th>\n",
       "      <th>U1008</th>\n",
       "      <th>U1009</th>\n",
       "      <th>U1010</th>\n",
       "      <th>...</th>\n",
       "      <th>U1129</th>\n",
       "      <th>U1130</th>\n",
       "      <th>U1131</th>\n",
       "      <th>U1132</th>\n",
       "      <th>U1133</th>\n",
       "      <th>U1134</th>\n",
       "      <th>U1135</th>\n",
       "      <th>U1136</th>\n",
       "      <th>U1137</th>\n",
       "      <th>U1138</th>\n",
       "    </tr>\n",
       "    <tr>\n",
       "      <th>name</th>\n",
       "      <th></th>\n",
       "      <th></th>\n",
       "      <th></th>\n",
       "      <th></th>\n",
       "      <th></th>\n",
       "      <th></th>\n",
       "      <th></th>\n",
       "      <th></th>\n",
       "      <th></th>\n",
       "      <th></th>\n",
       "      <th></th>\n",
       "      <th></th>\n",
       "      <th></th>\n",
       "      <th></th>\n",
       "      <th></th>\n",
       "      <th></th>\n",
       "      <th></th>\n",
       "      <th></th>\n",
       "      <th></th>\n",
       "      <th></th>\n",
       "      <th></th>\n",
       "    </tr>\n",
       "  </thead>\n",
       "  <tbody>\n",
       "    <tr>\n",
       "      <th>Abondance Restaurante Bar</th>\n",
       "      <td>0.0</td>\n",
       "      <td>0.0</td>\n",
       "      <td>0.0</td>\n",
       "      <td>0.0</td>\n",
       "      <td>0.0</td>\n",
       "      <td>0.0</td>\n",
       "      <td>0.0</td>\n",
       "      <td>1.0</td>\n",
       "      <td>0.0</td>\n",
       "      <td>0.0</td>\n",
       "      <td>...</td>\n",
       "      <td>0.0</td>\n",
       "      <td>0.0</td>\n",
       "      <td>0.0</td>\n",
       "      <td>0.0</td>\n",
       "      <td>0.0</td>\n",
       "      <td>0.0</td>\n",
       "      <td>0.0</td>\n",
       "      <td>0.0</td>\n",
       "      <td>0.0</td>\n",
       "      <td>0.0</td>\n",
       "    </tr>\n",
       "    <tr>\n",
       "      <th>Arrachela Grill</th>\n",
       "      <td>0.0</td>\n",
       "      <td>0.0</td>\n",
       "      <td>0.0</td>\n",
       "      <td>0.0</td>\n",
       "      <td>0.0</td>\n",
       "      <td>0.0</td>\n",
       "      <td>0.0</td>\n",
       "      <td>0.0</td>\n",
       "      <td>0.0</td>\n",
       "      <td>0.0</td>\n",
       "      <td>...</td>\n",
       "      <td>0.0</td>\n",
       "      <td>0.0</td>\n",
       "      <td>0.0</td>\n",
       "      <td>0.0</td>\n",
       "      <td>0.0</td>\n",
       "      <td>0.0</td>\n",
       "      <td>0.0</td>\n",
       "      <td>0.0</td>\n",
       "      <td>0.0</td>\n",
       "      <td>0.0</td>\n",
       "    </tr>\n",
       "    <tr>\n",
       "      <th>Cabana Huasteca</th>\n",
       "      <td>0.0</td>\n",
       "      <td>0.0</td>\n",
       "      <td>2.0</td>\n",
       "      <td>0.0</td>\n",
       "      <td>0.0</td>\n",
       "      <td>0.0</td>\n",
       "      <td>0.0</td>\n",
       "      <td>0.0</td>\n",
       "      <td>1.0</td>\n",
       "      <td>0.0</td>\n",
       "      <td>...</td>\n",
       "      <td>0.0</td>\n",
       "      <td>0.0</td>\n",
       "      <td>0.0</td>\n",
       "      <td>0.0</td>\n",
       "      <td>0.0</td>\n",
       "      <td>2.0</td>\n",
       "      <td>0.0</td>\n",
       "      <td>0.0</td>\n",
       "      <td>0.0</td>\n",
       "      <td>0.0</td>\n",
       "    </tr>\n",
       "    <tr>\n",
       "      <th>Cafe Chaires</th>\n",
       "      <td>0.0</td>\n",
       "      <td>0.0</td>\n",
       "      <td>0.0</td>\n",
       "      <td>0.0</td>\n",
       "      <td>0.0</td>\n",
       "      <td>1.0</td>\n",
       "      <td>1.0</td>\n",
       "      <td>0.0</td>\n",
       "      <td>0.0</td>\n",
       "      <td>0.0</td>\n",
       "      <td>...</td>\n",
       "      <td>0.0</td>\n",
       "      <td>0.0</td>\n",
       "      <td>0.0</td>\n",
       "      <td>0.0</td>\n",
       "      <td>0.0</td>\n",
       "      <td>0.0</td>\n",
       "      <td>0.0</td>\n",
       "      <td>0.0</td>\n",
       "      <td>0.0</td>\n",
       "      <td>0.0</td>\n",
       "    </tr>\n",
       "    <tr>\n",
       "      <th>Cafeteria cenidet</th>\n",
       "      <td>0.0</td>\n",
       "      <td>0.0</td>\n",
       "      <td>0.0</td>\n",
       "      <td>0.0</td>\n",
       "      <td>0.0</td>\n",
       "      <td>0.0</td>\n",
       "      <td>0.0</td>\n",
       "      <td>0.0</td>\n",
       "      <td>0.0</td>\n",
       "      <td>0.0</td>\n",
       "      <td>...</td>\n",
       "      <td>0.0</td>\n",
       "      <td>0.0</td>\n",
       "      <td>0.0</td>\n",
       "      <td>0.0</td>\n",
       "      <td>0.0</td>\n",
       "      <td>0.0</td>\n",
       "      <td>0.0</td>\n",
       "      <td>0.0</td>\n",
       "      <td>0.0</td>\n",
       "      <td>0.0</td>\n",
       "    </tr>\n",
       "  </tbody>\n",
       "</table>\n",
       "<p>5 rows × 138 columns</p>\n",
       "</div>"
      ],
      "text/plain": [
       "userID                     U1001  U1002  U1003  U1004  U1005  U1006  U1007  \\\n",
       "name                                                                         \n",
       "Abondance Restaurante Bar    0.0    0.0    0.0    0.0    0.0    0.0    0.0   \n",
       "Arrachela Grill              0.0    0.0    0.0    0.0    0.0    0.0    0.0   \n",
       "Cabana Huasteca              0.0    0.0    2.0    0.0    0.0    0.0    0.0   \n",
       "Cafe Chaires                 0.0    0.0    0.0    0.0    0.0    1.0    1.0   \n",
       "Cafeteria cenidet            0.0    0.0    0.0    0.0    0.0    0.0    0.0   \n",
       "\n",
       "userID                     U1008  U1009  U1010  ...  U1129  U1130  U1131  \\\n",
       "name                                            ...                        \n",
       "Abondance Restaurante Bar    1.0    0.0    0.0  ...    0.0    0.0    0.0   \n",
       "Arrachela Grill              0.0    0.0    0.0  ...    0.0    0.0    0.0   \n",
       "Cabana Huasteca              0.0    1.0    0.0  ...    0.0    0.0    0.0   \n",
       "Cafe Chaires                 0.0    0.0    0.0  ...    0.0    0.0    0.0   \n",
       "Cafeteria cenidet            0.0    0.0    0.0  ...    0.0    0.0    0.0   \n",
       "\n",
       "userID                     U1132  U1133  U1134  U1135  U1136  U1137  U1138  \n",
       "name                                                                        \n",
       "Abondance Restaurante Bar    0.0    0.0    0.0    0.0    0.0    0.0    0.0  \n",
       "Arrachela Grill              0.0    0.0    0.0    0.0    0.0    0.0    0.0  \n",
       "Cabana Huasteca              0.0    0.0    2.0    0.0    0.0    0.0    0.0  \n",
       "Cafe Chaires                 0.0    0.0    0.0    0.0    0.0    0.0    0.0  \n",
       "Cafeteria cenidet            0.0    0.0    0.0    0.0    0.0    0.0    0.0  \n",
       "\n",
       "[5 rows x 138 columns]"
      ]
     },
     "execution_count": 21,
     "metadata": {},
     "output_type": "execute_result"
    }
   ],
   "source": [
    "# Exercise 4:\n",
    "\n",
    "# Defines the utility matrix whose lines are the names of the\n",
    "# restaurants, columns users and tickets\n",
    "# General evaluation (rating). We will call it \"utmx_rathing\".\n",
    "\n",
    "# ************* Inlcuye your code: ******************************************************************************\n",
    "UtMx_rating = df_combinado.pivot_table(values='rating', index='name',columns='userID', fill_value=0)\n",
    "\n",
    "print('Utility matrix dimension:')\n",
    "print('(restaurants, users) =', (UtMx_rating.shape))\n",
    "UtMx_rating.head()"
   ]
  },
  {
   "cell_type": "markdown",
   "metadata": {
    "id": "ai8oUVF5RhkK"
   },
   "source": [
    "#### **Similarities with the matrix obtained from truncated SVD factorization:**"
   ]
  },
  {
   "cell_type": "markdown",
   "metadata": {
    "id": "xGu3qv-T8XGH"
   },
   "source": [
    "* **Apply SVD factorization with the first 66 unique values to the utmx_rating utility matrix.**\n",
    "\n",
    "* **The value of 66 was selected because as you will see, this amount of singular values is sufficient to describe at least 95% of the variance of the utility matrix.**\n",
    "\n",
    "* **Recall that the svd factorization of a matrix has the form:**  $ a_ {m \\ times n} = u_ {m \\ times m} \\ sigma_ {m \\ times n} v_ {n \\ times n}^t$\n",
    "\n",
    "* **We will use the cosine function as a measure of similarity**\n",
    "\n",
    "* **We will look for restaurants similar to the so -called \"barbecue tacos in front of the TEC\"**."
   ]
  },
  {
   "cell_type": "code",
   "execution_count": 24,
   "metadata": {
    "colab": {
     "base_uri": "https://localhost:8080/"
    },
    "id": "jg6ofJ7kTD3d",
    "outputId": "2d54ff60-3590-4446-ccf3-cef28df935e1"
   },
   "outputs": [
    {
     "name": "stdout",
     "output_type": "stream",
     "text": [
      "Dimension Latent Vectors Restaurants: (130, 66)\n",
      "Dimension transposed latent vectors Users: (66, 138)\n",
      "\n",
      " Accumulated variability of the components used: 0.952\n",
      "\n",
      " Total found: 76\n",
      "\n",
      " Best restaurant-based recommendations: \"tacos de barbacoa enfrente del Tec\":\n"
     ]
    },
    {
     "data": {
      "text/plain": [
       "[(0.9368225931210835, 'vips'),\n",
       " (0.9345772963953601, 'little pizza Emilio Portes Gil'),\n",
       " (0.927206511656241, 'tacos abi'),\n",
       " (0.52928467107528, 'Carreton de Flautas y Migadas'),\n",
       " (0.49539464843251224, 'puesto de gorditas'),\n",
       " (0.4766736415871014, 'Taqueria EL amigo '),\n",
       " (0.36471360385564766, 'carnitas_mata'),\n",
       " (0.2617441650721585, 'Little Cesarz'),\n",
       " (0.23347393392635565, 'Gorditas Dona Tota 2'),\n",
       " (0.18502268401794966, 'carnitas mata calle Emilio Portes Gil')]"
      ]
     },
     "execution_count": 24,
     "metadata": {},
     "output_type": "execute_result"
    }
   ],
   "source": [
    "num_componentes=66  # most significant components\n",
    "\n",
    "\n",
    "# Let's obtain the matrix of latent factors of restaurants:\n",
    "SVD_rating = TruncatedSVD(n_components=num_componentes)  # We initialize\n",
    "mat_fact_lat_restaurantes = SVD_rating.fit_transform(UtMx_rating) # Truncada-Secondry SVD\n",
    "\n",
    "print('Dimension Latent Vectors Restaurants:', mat_fact_lat_restaurantes.shape)\n",
    "print('Dimension transposed latent vectors Users:', SVD_rating.components_.shape)\n",
    "\n",
    "# Let's calculate the accumulated variability of the components used:\n",
    "\n",
    "print('\\n Accumulated variability of the components used: %.3f' % SVD_rating.explained_variance_ratio_[0:num_componentes].sum())\n",
    "\n",
    "# Similarity matrix\n",
    "\n",
    "sim_matrix = cosine_similarity(mat_fact_lat_restaurantes)\n",
    "\n",
    "# Reference restaurant:\n",
    "\n",
    "restaurante_de_referencia = \"tacos de barbacoa enfrente del Tec\"\n",
    "nombres_rest = UtMx_rating.T.columns  # List of restaurant names.\n",
    "\n",
    "idx_rest = list(nombres_rest).index(restaurante_de_referencia) # Reference restaurant index.\n",
    "\n",
    "sim_vector = sim_matrix[idx_rest] # Similarity vector of the reference restaurant against all.\n",
    "\n",
    "\n",
    "# Looking for positive similarities:\n",
    "\n",
    "idx = (sim_vector>0)\n",
    "mejores_sim_rate = list()\n",
    "for i in range(len(nombres_rest[idx])):\n",
    "  mejores_sim_rate.append((sim_vector[idx][i], nombres_rest[idx][i]))\n",
    "\n",
    "print('\\n Total found:', len(mejores_sim_rate))\n",
    "\n",
    "# We order them from greater to less relevance:\n",
    "\n",
    "mejores_sim_rate_ordenadas = sorted(mejores_sim_rate, key=lambda x:x[0], reverse=True)\n",
    "\n",
    "print('\\n Best restaurant-based recommendations: \\\"%s\\\":' % restaurante_de_referencia)\n",
    "mejores_sim_rate_ordenadas[1:11]   # We omit the first that is the same reference restaurant\n",
    "\n"
   ]
  },
  {
   "cell_type": "markdown",
   "metadata": {
    "id": "PACH7ewoQTqB"
   },
   "source": [
    "## **Exercise - 5**"
   ]
  },
  {
   "cell_type": "markdown",
   "metadata": {
    "id": "Zl8QhjWB9zDu"
   },
   "source": [
    "### **Hybrid system**\n",
    "\n",
    "**Let's now use a hybrid system, which will consist of combining the \"factors_-sister-in-laws\" (which is an unarray) obtained previously, with the matrix of additional factors (which will also be an NDARY) formed by the One-Hot-Hot-Encoder columns of the factors 'DRES_CODE', 'Accessibility', 'Price', 'Price' and 'Franchise' of Dataframe Data_Geo.**\n",
    "\n",
    "**At the moment we do not require the hybrid matrix**\n",
    "\n",
    "**The lines of the hybrid matrix continue to represent each restaurant, but now with the information of the latent vectors of the SVD factorization, plus the Onehotencoding vectors of the new factors that were included.**\n"
   ]
  },
  {
   "cell_type": "code",
   "execution_count": 27,
   "metadata": {
    "colab": {
     "base_uri": "https://localhost:8080/"
    },
    "id": "Qt3Oh45lpHp1",
    "outputId": "9241f558-d724-4a41-b8c2-b5d34349f8d5"
   },
   "outputs": [
    {
     "name": "stdout",
     "output_type": "stream",
     "text": [
      "Hybrid matrix dimension:\n"
     ]
    },
    {
     "data": {
      "text/plain": [
       "(130, 73)"
      ]
     },
     "execution_count": 27,
     "metadata": {},
     "output_type": "execute_result"
    }
   ],
   "source": [
    "# Exercise 5:\n",
    "\n",
    "# Defines the data \"df_fact_adionales\" formed by the factors 'dress_code',\n",
    "# 'Accessibility', 'Price' and 'Franchise'.\n",
    "# Then generate the matrix (nndarray), \"mat_fact_adionales_ohe\", which is obtained\n",
    "# By transforming the columns (nominal categorical variables) of \"df_fact_adionales\"\n",
    "# through Onehotencoding.\n",
    "# Finally Horizontally combine the matrix \"Mat_Fact_lat_restaurantes\"\n",
    "# with \"mat_fact_adionales_ohe\" to obtain the \"matrix_hibrid\" (nndarray).\n",
    "# Take into account that \"Matrix_Hhibited\" will be formed by the columns of \"Mat_Fact_lat_restaurantes\"\n",
    "# followed by the columns of \"mat_fact_adionales_ohe\".\n",
    "\n",
    "\n",
    "\n",
    "# ************* Inlcuye your code: ******************************************************************************\n",
    "df_fact_adicionales = data_geo.sort_values('name')[['dress_code','accessibility','price','franchise']]\n",
    "mat_fact_adicionales_ohe = OneHotEncoder(drop='first',handle_unknown='ignore',sparse_output=False).fit_transform(df_fact_adicionales)\n",
    "matriz_hibrida = np.concatenate((mat_fact_lat_restaurantes, mat_fact_adicionales_ohe),axis=1)\n",
    "\n",
    "print('Hybrid matrix dimension:')\n",
    "matriz_hibrida.shape"
   ]
  },
  {
   "cell_type": "code",
   "execution_count": 28,
   "metadata": {
    "colab": {
     "base_uri": "https://localhost:8080/"
    },
    "id": "HKtysNkwxuTl",
    "outputId": "d1ea71b2-897f-437b-e00b-fdadb1ed8e29"
   },
   "outputs": [
    {
     "name": "stdout",
     "output_type": "stream",
     "text": [
      "Reference restaurant: tacos de barbacoa enfrente del Tec\n",
      "Reference restaurant index: 111\n"
     ]
    }
   ],
   "source": [
    "# Recall that \"Restaurant_deferencia\" is \"barbecue tacos in front of the TEC\".\n",
    "# Get the restaurant index\n",
    "\n",
    "idx = data_geo[data_geo['name'] == restaurante_de_referencia].index[0]\n",
    "\n",
    "print('Reference restaurant:', restaurante_de_referencia)\n",
    "print('Reference restaurant index:', idx)"
   ]
  },
  {
   "cell_type": "markdown",
   "metadata": {
    "id": "ML52GNI3xCbV"
   },
   "source": [
    "## **Exercise - 6:**"
   ]
  },
  {
   "cell_type": "markdown",
   "metadata": {
    "id": "gvBn_7NkyiBi"
   },
   "source": [
    "**Once we have the hybrid matrix, with this matrix you must obtain the similarities (with respect to the cosine function) of the reference restaurant in relation to all restaurants, order them from greater to minor with respect to the similarity of the cosine and display the first 10 of greater similarity (without including the reference restaurant itself).**"
   ]
  },
  {
   "cell_type": "code",
   "execution_count": 31,
   "metadata": {
    "colab": {
     "base_uri": "https://localhost:8080/"
    },
    "id": "FRFnSwwTjpoS",
    "outputId": "0a16eb74-1081-422a-ade4-efc7e309bb3f"
   },
   "outputs": [
    {
     "name": "stdout",
     "output_type": "stream",
     "text": [
      "\n",
      " Best restaurant-based recommendations: \"tacos de barbacoa enfrente del Tec\":\n"
     ]
    },
    {
     "data": {
      "text/plain": [
       "[(0.9614934586494657, 'tacos abi'),\n",
       " (0.8779539779149491, 'little pizza Emilio Portes Gil'),\n",
       " (0.7265933255779151, 'vips'),\n",
       " (0.6651277044498317, 'puesto de gorditas'),\n",
       " (0.6630697863694242, 'Carreton de Flautas y Migadas'),\n",
       " (0.6371934979838556, 'Carnitas Mata  Calle 16 de Septiembre'),\n",
       " (0.5019745180180336, 'cafe ambar'),\n",
       " (0.501830920095842, 'Taqueria EL amigo '),\n",
       " (0.49683283029433717, 'Pollo_Frito_Buenos_Aires'),\n",
       " (0.49054123379269177, 'Hamburguesas saul')]"
      ]
     },
     "execution_count": 31,
     "metadata": {},
     "output_type": "execute_result"
    }
   ],
   "source": [
    "# Exercise 6\n",
    "\n",
    "\n",
    "# ************* Inlcuye your code: ******************************************************************************\n",
    "\n",
    "\n",
    "sim_matrix = cosine_similarity(matriz_hibrida)\n",
    "\n",
    "idx_rest = list(nombres_rest).index(restaurante_de_referencia)\n",
    "sim_vector = sim_matrix[idx_rest]\n",
    "\n",
    "idx = (sim_vector>0)\n",
    "mejores_sim_rate = list()\n",
    "for i in range(len(nombres_rest[idx])):\n",
    "  mejores_sim_rate.append((sim_vector[idx][i], nombres_rest[idx][i]))\n",
    "\n",
    "mejores_sim_rate_ordenadas = sorted(mejores_sim_rate, key=lambda x:x[0], reverse=True)\n",
    "\n",
    "print('\\n Best restaurant-based recommendations: \\\"%s\\\":' % restaurante_de_referencia)\n",
    "mejores_sim_rate_ordenadas[1:11]\n",
    "\n"
   ]
  },
  {
   "cell_type": "markdown",
   "metadata": {
    "id": "ZJvi3WLR0zKY"
   },
   "source": [
    "## **Exercise - 7**"
   ]
  },
  {
   "cell_type": "markdown",
   "metadata": {
    "id": "IAPKgBzD14By"
   },
   "source": [
    "**Tncludes your comments and conclusions of the activity. In particular, comment on the differences between a recommendation system based only on SVD and one hybrid factorization.**"
   ]
  },
  {
   "cell_type": "markdown",
   "metadata": {
    "id": "vtOMmDZeBBwg"
   },
   "source": [
    "+++++++ Start the add text section: +++++++++++\n",
    "\n",
    "The recommendation system based on SVD factorization is a quick and effective way to obtain results. This offers an easy method to implement and robust enough to obtain important results for analysis.\n",
    "\n",
    "The hybrid system offers a more robust model, taking into account dates beyond the reviews given by users, allowing all the features to provide information to the Model.\n",
    "\n",
    "In the results we can see that they are quite similar; However, the level of trust of the recommendations are not so optimistic and some positions change. This could indicate that the results are closer to reality.\n",
    "\n",
    "++++++++ Section to add text ends ++++++++++"
   ]
  },
  {
   "cell_type": "markdown",
   "metadata": {
    "id": "N2rZwkmlAofg"
   },
   "source": [
    ">> **End of the Recommendation Systems activity**"
   ]
  }
 ],
 "metadata": {
  "colab": {
   "collapsed_sections": [
    "9ejOXFX0wRbr",
    "DbEshKJnwPp3",
    "rr3hJTCW6c05",
    "2EyK_O7EHBWe",
    "PACH7ewoQTqB",
    "ML52GNI3xCbV",
    "ZJvi3WLR0zKY"
   ],
   "provenance": []
  },
  "kernelspec": {
   "display_name": "Python 3 (ipykernel)",
   "language": "python",
   "name": "python3"
  },
  "language_info": {
   "codemirror_mode": {
    "name": "ipython",
    "version": 3
   },
   "file_extension": ".py",
   "mimetype": "text/x-python",
   "name": "python",
   "nbconvert_exporter": "python",
   "pygments_lexer": "ipython3",
   "version": "3.12.3"
  }
 },
 "nbformat": 4,
 "nbformat_minor": 4
}
