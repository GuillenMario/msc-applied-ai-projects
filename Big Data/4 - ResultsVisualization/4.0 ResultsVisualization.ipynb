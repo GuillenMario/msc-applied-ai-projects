{
 "cells": [
  {
   "cell_type": "markdown",
   "metadata": {
    "id": "E69J1Kmfflu6"
   },
   "source": [
    "## **Master in Applied Artificial Intelligence**\n",
    "### **Course: Artificial Intelligence and Automatic Learning**\n",
    "### Prof. Iván Olmos\n",
    "#### Tecnológico de Monterrey\n",
    "\n",
    "### **Project: Results Visualization Activity**\n",
    "##### **Team members and student IDs:**\n",
    "*   Victoria Melgarejo Cabrera - A01795030\n",
    "*   Héctor Alejandro Alvarez Rosas - A01796262\n",
    "*   Andrea Xcaret Gomez Alfaro - A01796384\n",
    "*   Mario Guillen De La Torre - A01796701"
   ]
  },
  {
   "cell_type": "markdown",
   "metadata": {
    "id": "dUcjDJrhhxn5"
   },
   "source": [
    "---\n",
    "\n",
    "\n",
    "#### **Objective of the Activity:**\n",
    "\n",
    "To present the results obtained from applying a machine learning model training process on large volumes of data, using visualization tools such as scatter plots, measures of central tendency, heatmaps, and ROC curves.\n",
    "\n",
    "---"
   ]
  },
  {
   "cell_type": "markdown",
   "metadata": {
    "id": "oVBpaBs3lDk5"
   },
   "source": [
    "## **1. Construction of the Representative Sample M**"
   ]
  },
  {
   "cell_type": "markdown",
   "metadata": {
    "id": "PIm5aBgns3dg"
   },
   "source": [
    "In order to construct a representative sample M of the population P (trips recorded in the city of Chicago), three previously identified characterization variables were used: `payment_group`, `pickup_zone_group`, and `duration_group`. From these, 21 segmentation combinations (Mi) were generated, on which **stratified random sampling** was applied based on the target variable `tip_ratio_group`. This procedure preserved the proportional class distribution within each subset, minimizing the risk of bias injection. Finally, the sample M was built as the **union of all the Mi partitions**, resulting in a balanced and suitable dataset."
   ]
  },
  {
   "cell_type": "markdown",
   "metadata": {
    "id": "XMvvDNhYfnmN"
   },
   "source": [
    "**1.1 Environment Setup and Dataset Loading**"
   ]
  },
  {
   "cell_type": "code",
   "execution_count": 1,
   "metadata": {
    "id": "2Gc6A6I6lOHw"
   },
   "outputs": [],
   "source": [
    "import os\n",
    "import pandas as pd\n",
    "from pyspark.sql import SparkSession\n",
    "from pyspark.sql.functions import col, isnan, when, count, percentile_approx, min, max, mean, stddev, approx_count_distinct, expr, abs, concat_ws, lit, expr, monotonically_increasing_id, row_number\n",
    "import matplotlib.pyplot as plt\n",
    "import seaborn as sns\n",
    "import scipy.stats as stats\n",
    "from pyspark.sql.functions import hour, dayofweek, unix_timestamp, when\n",
    "from pyspark.sql.functions import to_timestamp, hour, dayofweek\n",
    "from pyspark.sql import functions as F\n",
    "from functools import reduce\n",
    "from pyspark.sql import DataFrame\n",
    "from pyspark.ml import Pipeline\n",
    "from pyspark.ml.feature import StringIndexer, OneHotEncoder, VectorAssembler\n",
    "from pyspark.sql.types import DoubleType\n",
    "from pyspark.sql.functions import broadcast\n",
    "from pyspark.ml.classification import RandomForestClassifier\n",
    "from pyspark.ml.evaluation import MulticlassClassificationEvaluator\n",
    "from pyspark.ml.clustering import KMeans\n",
    "from pyspark.ml.evaluation import ClusteringEvaluator\n",
    "from pyspark.ml.feature import PCA\n",
    "from functools import reduce\n",
    "from pyspark.sql.window import Window\n",
    "import random\n",
    "from sklearn.metrics import classification_report, confusion_matrix\n",
    "import gc\n",
    "from pyspark.sql.window import Window\n",
    "from functools import reduce\n",
    "from pyspark import StorageLevel\n",
    "import numpy as np\n",
    "from sklearn.preprocessing import label_binarize\n",
    "from sklearn.metrics import roc_curve, auc"
   ]
  },
  {
   "cell_type": "code",
   "execution_count": 2,
   "metadata": {},
   "outputs": [],
   "source": [
    "import sys\n",
    "\n",
    "os.environ[\"PYSPARK_PYTHON\"] = sys.executable\n",
    "os.environ[\"PYSPARK_DRIVER_PYTHON\"] = sys.executable\n",
    "\n",
    "spark = (SparkSession.builder\n",
    "  .master(\"local[*]\")\n",
    "  .config(\"spark.driver.bindAddress\",\"127.0.0.1\")\n",
    "  .config(\"spark.driver.host\",\"127.0.0.1\")\n",
    "  .config(\"spark.ui.enabled\",\"false\")\n",
    "  .config(\"spark.python.use.daemon\",\"false\")\n",
    "  .config(\"spark.pyspark.python\", sys.executable)\n",
    "  .config(\"spark.pyspark.driver.python\", sys.executable)\n",
    "  .getOrCreate())\n",
    "spark.sparkContext.setLogLevel(\"WARN\")"
   ]
  },
  {
   "cell_type": "code",
   "execution_count": 3,
   "metadata": {},
   "outputs": [
    {
     "name": "stdout",
     "output_type": "stream",
     "text": [
      "range count: 10\n",
      "RDD map: [2, 3, 4, 5]\n"
     ]
    }
   ],
   "source": [
    "print(\"range count:\", spark.range(10).count())  # JVM-only\n",
    "print(\"RDD map:\", spark.sparkContext.parallelize([1,2,3,4], 2)\n",
    "                         .map(lambda x: x+1).collect())  # spawns Python workers"
   ]
  },
  {
   "cell_type": "code",
   "execution_count": 4,
   "metadata": {
    "colab": {
     "base_uri": "https://localhost:8080/"
    },
    "id": "Ir85h6AMGO79",
    "outputId": "d451fd3c-eb37-440a-bed8-e5e9f05667cc"
   },
   "outputs": [],
   "source": [
    "filename = \"Taxi_Trips__2024-__20250426.csv\"\n",
    "local_path = f\"/C:/Users/mario/Maestria/Grandes Cantidades de Datos/ActividadesOrden/{filename}\"\n",
    "dftaxytrips = spark.read.csv(local_path, header=True, inferSchema=True)"
   ]
  },
  {
   "cell_type": "code",
   "execution_count": 5,
   "metadata": {
    "colab": {
     "base_uri": "https://localhost:8080/"
    },
    "id": "-ZWFd7-EUTlV",
    "outputId": "fee8f79c-cdcd-47d6-ff13-d62b7be4cb71"
   },
   "outputs": [
    {
     "name": "stdout",
     "output_type": "stream",
     "text": [
      "Number of records: 7917844\n",
      "Number of columns: 23\n"
     ]
    }
   ],
   "source": [
    "print(\"Number of records:\", dftaxytrips.count())\n",
    "print(\"Number of columns:\", len(dftaxytrips.columns))"
   ]
  },
  {
   "cell_type": "markdown",
   "metadata": {
    "id": "TamnUVUEf6s8"
   },
   "source": [
    "**1.2 Transformation, Grouping, and Enrichment of Variables**"
   ]
  },
  {
   "cell_type": "code",
   "execution_count": 6,
   "metadata": {
    "id": "KubxhWzCb3VI"
   },
   "outputs": [],
   "source": [
    "# Trip Start Timestamp is Timestamp type\n",
    "dftaxytrips = dftaxytrips.withColumn(\n",
    "    \"trip_start_ts\",\n",
    "    to_timestamp(col(\"Trip Start Timestamp\"), \"MM/dd/yyyy hh:mm:ss a\")\n",
    ")\n",
    "\n",
    "# Time of day\n",
    "dftaxytrips = dftaxytrips.withColumn(\"trip_hour\", hour(col(\"trip_start_ts\")))\n",
    "\n",
    "# Week day (1 = Sunday, 7 = Saturday)\n",
    "dftaxytrips = dftaxytrips.withColumn(\"trip_day_of_week\", dayofweek(col(\"trip_start_ts\")))\n",
    "\n",
    "# Trip duration in minutes\n",
    "dftaxytrips = dftaxytrips.withColumn(\"duration_minutes\", col(\"Trip Seconds\") / 60)\n",
    "\n",
    "# Tip/Fare ratio\n",
    "dftaxytrips = dftaxytrips.withColumn(\"tip_ratio\",\n",
    "    when(col(\"Fare\") > 0, col(\"Tips\") / col(\"Fare\")).otherwise(0))\n",
    "\n",
    "# Tip/Trip Miles ratio\n",
    "dftaxytrips = dftaxytrips.withColumn(\"tip_per_mile\",\n",
    "    when(col(\"Trip Miles\") > 0, col(\"Tips\") / col(\"Trip Miles\")).otherwise(0))\n",
    "\n",
    "# Payment method group\n",
    "dftaxytrips = dftaxytrips.withColumn(\"payment_group\",\n",
    "    when(col(\"Payment Type\") == \"Credit Card\", \"Credit Card\")\n",
    "    .when(col(\"Payment Type\") == \"Cash\", \"Cash\")\n",
    "    .when(col(\"Payment Type\") == \"Mobile\", \"Mobile\")\n",
    "    .otherwise(\"Other\"))\n",
    "\n",
    "# Company group\n",
    "dftaxytrips = dftaxytrips.withColumn(\"company_group\",\n",
    "    when(col(\"Company\") == \"Flash Cab\", \"Flash Cab\")\n",
    "    .when(col(\"Company\") == \"Taxi Affiliation Services\", \"Taxi Affiliation\")\n",
    "    .when(col(\"Company\") == \"Taxicab Insurance Agency Llc\", \"Insurance Agency\")\n",
    "    .when(col(\"Company\") == \"Sun Taxi\", \"Sun Taxi\")\n",
    "    .when(col(\"Company\") == \"City Service\", \"City Service\")\n",
    "    .when(col(\"Company\") == \"Chicago Independents\", \"Chicago Independents\")\n",
    "    .otherwise(\"Other\"))\n",
    "\n",
    "# Origin Zone Group\n",
    "dftaxytrips = dftaxytrips.withColumn(\"pickup_zone_group\",\n",
    "    when(col(\"Pickup Community Area\") == 76, 76)\n",
    "    .when(col(\"Pickup Community Area\") == 8, 8)\n",
    "    .when(col(\"Pickup Community Area\") == 32, 32)\n",
    "    .otherwise(\"Other\"))\n",
    "\n",
    "# Group Destination Zone\n",
    "dftaxytrips = dftaxytrips.withColumn(\"dropoff_zone_group\",\n",
    "    when(col(\"Dropoff Community Area\") == 8, 8)\n",
    "    .when(col(\"Dropoff Community Area\") == 32, 32)\n",
    "    .when(col(\"Dropoff Community Area\") == 28, 28)\n",
    "    .when(col(\"Dropoff Community Area\") == 76, 76)\n",
    "    .otherwise(\"Other\"))\n",
    "\n",
    "# Rename certain columns\n",
    "dftaxytrips = dftaxytrips.withColumnRenamed(\"Trip ID\", \"trip_id\")\n",
    "dftaxytrips = dftaxytrips.withColumnRenamed(\"Trip Miles\", \"trip_miles\")"
   ]
  },
  {
   "cell_type": "code",
   "execution_count": 7,
   "metadata": {
    "id": "nRfXX5p8c_oB"
   },
   "outputs": [],
   "source": [
    "# Based on the analysis carried out in the previous project, it was decided to use percentiles to create segmentation and generate these four variables:\n",
    "# Trip duration (in minutes)\n",
    "dftaxytrips = dftaxytrips.withColumn(\n",
    "    \"duration_group\",\n",
    "    (\n",
    "        when(col(\"duration_minutes\") <= 10.0, \"Flash Riders\")           # very short trips, high turnover\n",
    "        .when(col(\"duration_minutes\") <= 23.2, \"Urban Cruisers\")        # typical city trips\n",
    "        .otherwise(\"Long-Haul Nomads\")                                  # long trips, possibly between distant districts\n",
    "    )\n",
    ")\n",
    "\n",
    "# Tip per mile\n",
    "dftaxytrips = dftaxytrips.withColumn(\n",
    "    \"tip_per_mile_group\",\n",
    "    (\n",
    "        when(col(\"tip_per_mile\") <= 0.0, \"Non-Tippers\")                 # users who don’t leave a tip\n",
    "        .when(col(\"tip_per_mile\") <= 0.58, \"Appreciative Riders\")       # moderate tips relative to distance\n",
    "        .otherwise(\"Tip Enthusiasts\")                                   # generous travelers per mile traveled\n",
    "    )\n",
    ")\n",
    "\n",
    "# Tip-to-fare ratio\n",
    "dftaxytrips = dftaxytrips.withColumn(\n",
    "    \"tip_ratio_group\",\n",
    "    (\n",
    "        when(col(\"tip_ratio\") <= 0.0, \"Flat Fare Clients\")              # no tip\n",
    "        .when(col(\"tip_ratio\") <= 0.21, \"Grateful Givers\")              # moderate tip as a percentage of the total fare\n",
    "        .otherwise(\"High-Spirit Donors\")                                # users with a high level of tipping appreciation\n",
    "    )\n",
    ")\n",
    "\n",
    "\n",
    "# Trip distance (in miles)\n",
    "dftaxytrips = dftaxytrips.withColumn(\n",
    "    \"trip_miles_group\",\n",
    "    (\n",
    "        when(col(\"trip_miles\") <= 1.4, \"Neighborhood Navigators\")       # very short distances within the zone\n",
    "        .when(col(\"trip_miles\") <= 9.4, \"City Explorers\")               # average distances within the city\n",
    "        .otherwise(\"Wide-Radius Riders\")                                # long trips, possibly airport or suburban transfers\n",
    "    )\n",
    ")"
   ]
  },
  {
   "cell_type": "code",
   "execution_count": 8,
   "metadata": {
    "colab": {
     "base_uri": "https://localhost:8080/"
    },
    "id": "Nsid30qUdNrg",
    "outputId": "ca489d7f-6e71-438f-b855-15f132d04aab"
   },
   "outputs": [
    {
     "data": {
      "text/html": [
       "<div>\n",
       "<style scoped>\n",
       "    .dataframe tbody tr th:only-of-type {\n",
       "        vertical-align: middle;\n",
       "    }\n",
       "\n",
       "    .dataframe tbody tr th {\n",
       "        vertical-align: top;\n",
       "    }\n",
       "\n",
       "    .dataframe thead th {\n",
       "        text-align: right;\n",
       "    }\n",
       "</style>\n",
       "<table border=\"1\" class=\"dataframe\">\n",
       "  <thead>\n",
       "    <tr style=\"text-align: right;\">\n",
       "      <th></th>\n",
       "      <th>trip_id</th>\n",
       "      <th>trip_hour</th>\n",
       "      <th>trip_day_of_week</th>\n",
       "      <th>duration_minutes</th>\n",
       "      <th>trip_miles</th>\n",
       "      <th>tip_ratio</th>\n",
       "      <th>tip_per_mile</th>\n",
       "      <th>payment_group</th>\n",
       "      <th>company_group</th>\n",
       "      <th>pickup_zone_group</th>\n",
       "      <th>dropoff_zone_group</th>\n",
       "      <th>duration_group</th>\n",
       "      <th>tip_per_mile_group</th>\n",
       "      <th>tip_ratio_group</th>\n",
       "      <th>trip_miles_group</th>\n",
       "    </tr>\n",
       "  </thead>\n",
       "  <tbody>\n",
       "    <tr>\n",
       "      <th>0</th>\n",
       "      <td>0000184e7cd53cee95af32eba49c44e4d20adcd8</td>\n",
       "      <td>17</td>\n",
       "      <td>6</td>\n",
       "      <td>67.516667</td>\n",
       "      <td>17.12</td>\n",
       "      <td>0.219780</td>\n",
       "      <td>0.584112</td>\n",
       "      <td>Credit Card</td>\n",
       "      <td>Flash Cab</td>\n",
       "      <td>76</td>\n",
       "      <td>32</td>\n",
       "      <td>Long-Haul Nomads</td>\n",
       "      <td>Tip Enthusiasts</td>\n",
       "      <td>High-Spirit Donors</td>\n",
       "      <td>Wide-Radius Riders</td>\n",
       "    </tr>\n",
       "    <tr>\n",
       "      <th>1</th>\n",
       "      <td>000072ee076c9038868e239ca54185eb43959db0</td>\n",
       "      <td>14</td>\n",
       "      <td>1</td>\n",
       "      <td>29.150000</td>\n",
       "      <td>12.70</td>\n",
       "      <td>0.000000</td>\n",
       "      <td>0.000000</td>\n",
       "      <td>Cash</td>\n",
       "      <td>Flash Cab</td>\n",
       "      <td>Other</td>\n",
       "      <td>Other</td>\n",
       "      <td>Long-Haul Nomads</td>\n",
       "      <td>Non-Tippers</td>\n",
       "      <td>Flat Fare Clients</td>\n",
       "      <td>Wide-Radius Riders</td>\n",
       "    </tr>\n",
       "    <tr>\n",
       "      <th>2</th>\n",
       "      <td>000074019d598c2b1d6e77fbae79e40b0461a2fc</td>\n",
       "      <td>9</td>\n",
       "      <td>6</td>\n",
       "      <td>8.616667</td>\n",
       "      <td>3.39</td>\n",
       "      <td>0.254812</td>\n",
       "      <td>0.820059</td>\n",
       "      <td>Mobile</td>\n",
       "      <td>Insurance Agency</td>\n",
       "      <td>Other</td>\n",
       "      <td>8</td>\n",
       "      <td>Flash Riders</td>\n",
       "      <td>Tip Enthusiasts</td>\n",
       "      <td>High-Spirit Donors</td>\n",
       "      <td>City Explorers</td>\n",
       "    </tr>\n",
       "    <tr>\n",
       "      <th>3</th>\n",
       "      <td>00007572c5f92e2ff067e6f838a5ad74e83665d3</td>\n",
       "      <td>8</td>\n",
       "      <td>2</td>\n",
       "      <td>34.166667</td>\n",
       "      <td>15.06</td>\n",
       "      <td>0.288153</td>\n",
       "      <td>0.750996</td>\n",
       "      <td>Credit Card</td>\n",
       "      <td>Other</td>\n",
       "      <td>76</td>\n",
       "      <td>Other</td>\n",
       "      <td>Long-Haul Nomads</td>\n",
       "      <td>Tip Enthusiasts</td>\n",
       "      <td>High-Spirit Donors</td>\n",
       "      <td>Wide-Radius Riders</td>\n",
       "    </tr>\n",
       "    <tr>\n",
       "      <th>4</th>\n",
       "      <td>00007c3e7546e2c7d15168586943a9c22c3856cf</td>\n",
       "      <td>19</td>\n",
       "      <td>5</td>\n",
       "      <td>16.733333</td>\n",
       "      <td>1.18</td>\n",
       "      <td>0.233375</td>\n",
       "      <td>3.152542</td>\n",
       "      <td>Mobile</td>\n",
       "      <td>Other</td>\n",
       "      <td>32</td>\n",
       "      <td>32</td>\n",
       "      <td>Urban Cruisers</td>\n",
       "      <td>Tip Enthusiasts</td>\n",
       "      <td>High-Spirit Donors</td>\n",
       "      <td>Neighborhood Navigators</td>\n",
       "    </tr>\n",
       "  </tbody>\n",
       "</table>\n",
       "</div>"
      ],
      "text/plain": [
       "                                    trip_id  trip_hour  trip_day_of_week  \\\n",
       "0  0000184e7cd53cee95af32eba49c44e4d20adcd8         17                 6   \n",
       "1  000072ee076c9038868e239ca54185eb43959db0         14                 1   \n",
       "2  000074019d598c2b1d6e77fbae79e40b0461a2fc          9                 6   \n",
       "3  00007572c5f92e2ff067e6f838a5ad74e83665d3          8                 2   \n",
       "4  00007c3e7546e2c7d15168586943a9c22c3856cf         19                 5   \n",
       "\n",
       "   duration_minutes  trip_miles  tip_ratio  tip_per_mile payment_group  \\\n",
       "0         67.516667       17.12   0.219780      0.584112   Credit Card   \n",
       "1         29.150000       12.70   0.000000      0.000000          Cash   \n",
       "2          8.616667        3.39   0.254812      0.820059        Mobile   \n",
       "3         34.166667       15.06   0.288153      0.750996   Credit Card   \n",
       "4         16.733333        1.18   0.233375      3.152542        Mobile   \n",
       "\n",
       "      company_group pickup_zone_group dropoff_zone_group    duration_group  \\\n",
       "0         Flash Cab                76                 32  Long-Haul Nomads   \n",
       "1         Flash Cab             Other              Other  Long-Haul Nomads   \n",
       "2  Insurance Agency             Other                  8      Flash Riders   \n",
       "3             Other                76              Other  Long-Haul Nomads   \n",
       "4             Other                32                 32    Urban Cruisers   \n",
       "\n",
       "  tip_per_mile_group     tip_ratio_group         trip_miles_group  \n",
       "0    Tip Enthusiasts  High-Spirit Donors       Wide-Radius Riders  \n",
       "1        Non-Tippers   Flat Fare Clients       Wide-Radius Riders  \n",
       "2    Tip Enthusiasts  High-Spirit Donors           City Explorers  \n",
       "3    Tip Enthusiasts  High-Spirit Donors       Wide-Radius Riders  \n",
       "4    Tip Enthusiasts  High-Spirit Donors  Neighborhood Navigators  "
      ]
     },
     "execution_count": 8,
     "metadata": {},
     "output_type": "execute_result"
    }
   ],
   "source": [
    "# Columns to Select\n",
    "selected_columns = [\n",
    "    \"trip_id\",\n",
    "    \"trip_hour\",\n",
    "    \"trip_day_of_week\",\n",
    "    \"duration_minutes\",\n",
    "    \"trip_miles\",\n",
    "    \"tip_ratio\",\n",
    "    \"tip_per_mile\",\n",
    "    \"payment_group\",\n",
    "    \"company_group\",\n",
    "    \"pickup_zone_group\",\n",
    "    \"dropoff_zone_group\",\n",
    "    \"duration_group\",\n",
    "    \"tip_per_mile_group\",\n",
    "    \"tip_ratio_group\",\n",
    "    \"trip_miles_group\"\n",
    "]\n",
    "\n",
    "# Select specific columns\n",
    "dftaxytrips_selected = dftaxytrips.select(*selected_columns)\n",
    "dftaxytrips_selected.limit(5).toPandas()"
   ]
  },
  {
   "cell_type": "markdown",
   "metadata": {
    "id": "Iagxs7ZNlE_1"
   },
   "source": [
    "\n",
    "**1.3 Partitioning Rules**\n",
    "\n",
    "Since our objective focuses on analyzing tips in Chicago taxi trips and predicting relevant patterns, we considered the following three variables:\n",
    "\n",
    "*    **`payment_group`:** Grouping of the payment method into Credit Card, Cash, Mobile, and Other. This is considered key due to the strong relationship between card payments and the tips given.\n",
    "\n",
    "*    **`pickup_zone_group`:** Grouping of pickup zones, with specific areas (76, 8, 32) and an \"Other\" group that includes the remaining zones. This serves as a proxy for socioeconomic or commercial location.\n",
    "\n",
    "*    **`duration_group`:** Classification of trip duration: Flash Riders (≤10 min), Urban Cruisers (10–23.2 min), Long-Haul Nomads (>23.2 min). This captures the intensity and context of the trip.\n",
    "\n",
    "Additionally, we consider that these variables capture key behavioral factors related to a passenger’s decision to leave a tip."
   ]
  },
  {
   "cell_type": "code",
   "execution_count": 9,
   "metadata": {
    "id": "DHL7migogj3w"
   },
   "outputs": [],
   "source": [
    "def categorical_summary(df, column):\n",
    "    # Total count of non-null values\n",
    "    count = df.filter(F.col(column).isNotNull()).count()\n",
    "\n",
    "    # Count of distinct values\n",
    "    unique = df.select(column).distinct().count()\n",
    "\n",
    "    # Most frequent value and its frequency\n",
    "    top_row = (df.groupBy(column)\n",
    "                 .agg(F.count(\"*\").alias(\"freq\"))\n",
    "                 .orderBy(F.desc(\"freq\"))\n",
    "                 .first())\n",
    "\n",
    "    top = top_row[column] if top_row else None\n",
    "    freq = top_row[\"freq\"] if top_row else 0\n",
    "\n",
    "    # Create a summary dictionary\n",
    "    summary = {\n",
    "        \"count\": count,\n",
    "        \"unique\": unique,\n",
    "        \"top\": top,\n",
    "        \"freq\": freq\n",
    "    }\n",
    "\n",
    "    return summary"
   ]
  },
  {
   "cell_type": "code",
   "execution_count": 10,
   "metadata": {
    "colab": {
     "base_uri": "https://localhost:8080/"
    },
    "id": "fHO6fas6nL0p",
    "outputId": "4fbf4e3a-9449-498e-e858-df55ff0687e9"
   },
   "outputs": [
    {
     "name": "stdout",
     "output_type": "stream",
     "text": [
      "payment_group - {'count': 7917844, 'unique': 4, 'top': 'Credit Card', 'freq': 3066154}\n",
      "pickup_zone_group - {'count': 7917844, 'unique': 4, 'top': 'Other', 'freq': 3322581}\n",
      "duration_group - {'count': 7917844, 'unique': 3, 'top': 'Long-Haul Nomads', 'freq': 2706495}\n"
     ]
    }
   ],
   "source": [
    "for colu in [\"payment_group\", \"pickup_zone_group\", \"duration_group\"]:\n",
    "    print(f'{colu} - {categorical_summary(dftaxytrips_selected, colu)}')"
   ]
  },
  {
   "cell_type": "code",
   "execution_count": 11,
   "metadata": {
    "colab": {
     "base_uri": "https://localhost:8080/"
    },
    "id": "RiejR0DDnP41",
    "outputId": "8d8b2e6d-321a-4166-e820-6daf7af4bc3a"
   },
   "outputs": [
    {
     "data": {
      "text/html": [
       "<div>\n",
       "<style scoped>\n",
       "    .dataframe tbody tr th:only-of-type {\n",
       "        vertical-align: middle;\n",
       "    }\n",
       "\n",
       "    .dataframe tbody tr th {\n",
       "        vertical-align: top;\n",
       "    }\n",
       "\n",
       "    .dataframe thead th {\n",
       "        text-align: right;\n",
       "    }\n",
       "</style>\n",
       "<table border=\"1\" class=\"dataframe\">\n",
       "  <thead>\n",
       "    <tr style=\"text-align: right;\">\n",
       "      <th></th>\n",
       "      <th>payment_group</th>\n",
       "      <th>pickup_zone_group</th>\n",
       "      <th>duration_group</th>\n",
       "      <th>count</th>\n",
       "      <th>proportion</th>\n",
       "    </tr>\n",
       "  </thead>\n",
       "  <tbody>\n",
       "    <tr>\n",
       "      <th>0</th>\n",
       "      <td>Credit Card</td>\n",
       "      <td>76</td>\n",
       "      <td>Long-Haul Nomads</td>\n",
       "      <td>932993</td>\n",
       "      <td>0.117834</td>\n",
       "    </tr>\n",
       "    <tr>\n",
       "      <th>1</th>\n",
       "      <td>Other</td>\n",
       "      <td>Other</td>\n",
       "      <td>Urban Cruisers</td>\n",
       "      <td>492887</td>\n",
       "      <td>0.062250</td>\n",
       "    </tr>\n",
       "    <tr>\n",
       "      <th>2</th>\n",
       "      <td>Other</td>\n",
       "      <td>Other</td>\n",
       "      <td>Long-Haul Nomads</td>\n",
       "      <td>471644</td>\n",
       "      <td>0.059567</td>\n",
       "    </tr>\n",
       "    <tr>\n",
       "      <th>3</th>\n",
       "      <td>Cash</td>\n",
       "      <td>Other</td>\n",
       "      <td>Flash Riders</td>\n",
       "      <td>453456</td>\n",
       "      <td>0.057270</td>\n",
       "    </tr>\n",
       "    <tr>\n",
       "      <th>4</th>\n",
       "      <td>Cash</td>\n",
       "      <td>8</td>\n",
       "      <td>Flash Riders</td>\n",
       "      <td>306484</td>\n",
       "      <td>0.038708</td>\n",
       "    </tr>\n",
       "    <tr>\n",
       "      <th>5</th>\n",
       "      <td>Credit Card</td>\n",
       "      <td>Other</td>\n",
       "      <td>Flash Riders</td>\n",
       "      <td>297684</td>\n",
       "      <td>0.037597</td>\n",
       "    </tr>\n",
       "    <tr>\n",
       "      <th>6</th>\n",
       "      <td>Credit Card</td>\n",
       "      <td>32</td>\n",
       "      <td>Flash Riders</td>\n",
       "      <td>291907</td>\n",
       "      <td>0.036867</td>\n",
       "    </tr>\n",
       "    <tr>\n",
       "      <th>7</th>\n",
       "      <td>Credit Card</td>\n",
       "      <td>8</td>\n",
       "      <td>Flash Riders</td>\n",
       "      <td>276498</td>\n",
       "      <td>0.034921</td>\n",
       "    </tr>\n",
       "    <tr>\n",
       "      <th>8</th>\n",
       "      <td>Cash</td>\n",
       "      <td>Other</td>\n",
       "      <td>Urban Cruisers</td>\n",
       "      <td>274870</td>\n",
       "      <td>0.034715</td>\n",
       "    </tr>\n",
       "    <tr>\n",
       "      <th>9</th>\n",
       "      <td>Mobile</td>\n",
       "      <td>Other</td>\n",
       "      <td>Urban Cruisers</td>\n",
       "      <td>270757</td>\n",
       "      <td>0.034196</td>\n",
       "    </tr>\n",
       "    <tr>\n",
       "      <th>10</th>\n",
       "      <td>Credit Card</td>\n",
       "      <td>Other</td>\n",
       "      <td>Urban Cruisers</td>\n",
       "      <td>256085</td>\n",
       "      <td>0.032343</td>\n",
       "    </tr>\n",
       "    <tr>\n",
       "      <th>11</th>\n",
       "      <td>Cash</td>\n",
       "      <td>32</td>\n",
       "      <td>Flash Riders</td>\n",
       "      <td>255828</td>\n",
       "      <td>0.032310</td>\n",
       "    </tr>\n",
       "    <tr>\n",
       "      <th>12</th>\n",
       "      <td>Cash</td>\n",
       "      <td>Other</td>\n",
       "      <td>Long-Haul Nomads</td>\n",
       "      <td>230606</td>\n",
       "      <td>0.029125</td>\n",
       "    </tr>\n",
       "    <tr>\n",
       "      <th>13</th>\n",
       "      <td>Credit Card</td>\n",
       "      <td>Other</td>\n",
       "      <td>Long-Haul Nomads</td>\n",
       "      <td>229324</td>\n",
       "      <td>0.028963</td>\n",
       "    </tr>\n",
       "    <tr>\n",
       "      <th>14</th>\n",
       "      <td>Mobile</td>\n",
       "      <td>8</td>\n",
       "      <td>Flash Riders</td>\n",
       "      <td>225234</td>\n",
       "      <td>0.028446</td>\n",
       "    </tr>\n",
       "    <tr>\n",
       "      <th>15</th>\n",
       "      <td>Cash</td>\n",
       "      <td>76</td>\n",
       "      <td>Long-Haul Nomads</td>\n",
       "      <td>206361</td>\n",
       "      <td>0.026063</td>\n",
       "    </tr>\n",
       "    <tr>\n",
       "      <th>16</th>\n",
       "      <td>Credit Card</td>\n",
       "      <td>76</td>\n",
       "      <td>Urban Cruisers</td>\n",
       "      <td>199533</td>\n",
       "      <td>0.025200</td>\n",
       "    </tr>\n",
       "    <tr>\n",
       "      <th>17</th>\n",
       "      <td>Credit Card</td>\n",
       "      <td>8</td>\n",
       "      <td>Urban Cruisers</td>\n",
       "      <td>183293</td>\n",
       "      <td>0.023149</td>\n",
       "    </tr>\n",
       "    <tr>\n",
       "      <th>18</th>\n",
       "      <td>Mobile</td>\n",
       "      <td>8</td>\n",
       "      <td>Urban Cruisers</td>\n",
       "      <td>179042</td>\n",
       "      <td>0.022612</td>\n",
       "    </tr>\n",
       "    <tr>\n",
       "      <th>19</th>\n",
       "      <td>Cash</td>\n",
       "      <td>8</td>\n",
       "      <td>Urban Cruisers</td>\n",
       "      <td>159390</td>\n",
       "      <td>0.020130</td>\n",
       "    </tr>\n",
       "    <tr>\n",
       "      <th>20</th>\n",
       "      <td>Credit Card</td>\n",
       "      <td>32</td>\n",
       "      <td>Urban Cruisers</td>\n",
       "      <td>154174</td>\n",
       "      <td>0.019472</td>\n",
       "    </tr>\n",
       "    <tr>\n",
       "      <th>21</th>\n",
       "      <td>Mobile</td>\n",
       "      <td>Other</td>\n",
       "      <td>Flash Riders</td>\n",
       "      <td>140911</td>\n",
       "      <td>0.017797</td>\n",
       "    </tr>\n",
       "    <tr>\n",
       "      <th>22</th>\n",
       "      <td>Mobile</td>\n",
       "      <td>32</td>\n",
       "      <td>Flash Riders</td>\n",
       "      <td>126880</td>\n",
       "      <td>0.016025</td>\n",
       "    </tr>\n",
       "    <tr>\n",
       "      <th>23</th>\n",
       "      <td>Mobile</td>\n",
       "      <td>Other</td>\n",
       "      <td>Long-Haul Nomads</td>\n",
       "      <td>113544</td>\n",
       "      <td>0.014340</td>\n",
       "    </tr>\n",
       "    <tr>\n",
       "      <th>24</th>\n",
       "      <td>Mobile</td>\n",
       "      <td>32</td>\n",
       "      <td>Urban Cruisers</td>\n",
       "      <td>100057</td>\n",
       "      <td>0.012637</td>\n",
       "    </tr>\n",
       "    <tr>\n",
       "      <th>25</th>\n",
       "      <td>Cash</td>\n",
       "      <td>32</td>\n",
       "      <td>Urban Cruisers</td>\n",
       "      <td>97494</td>\n",
       "      <td>0.012313</td>\n",
       "    </tr>\n",
       "    <tr>\n",
       "      <th>26</th>\n",
       "      <td>Mobile</td>\n",
       "      <td>76</td>\n",
       "      <td>Long-Haul Nomads</td>\n",
       "      <td>94029</td>\n",
       "      <td>0.011876</td>\n",
       "    </tr>\n",
       "    <tr>\n",
       "      <th>27</th>\n",
       "      <td>Other</td>\n",
       "      <td>Other</td>\n",
       "      <td>Flash Riders</td>\n",
       "      <td>90813</td>\n",
       "      <td>0.011469</td>\n",
       "    </tr>\n",
       "    <tr>\n",
       "      <th>28</th>\n",
       "      <td>Credit Card</td>\n",
       "      <td>32</td>\n",
       "      <td>Long-Haul Nomads</td>\n",
       "      <td>86405</td>\n",
       "      <td>0.010913</td>\n",
       "    </tr>\n",
       "    <tr>\n",
       "      <th>29</th>\n",
       "      <td>Credit Card</td>\n",
       "      <td>8</td>\n",
       "      <td>Long-Haul Nomads</td>\n",
       "      <td>84164</td>\n",
       "      <td>0.010630</td>\n",
       "    </tr>\n",
       "    <tr>\n",
       "      <th>30</th>\n",
       "      <td>Credit Card</td>\n",
       "      <td>76</td>\n",
       "      <td>Flash Riders</td>\n",
       "      <td>74094</td>\n",
       "      <td>0.009358</td>\n",
       "    </tr>\n",
       "    <tr>\n",
       "      <th>31</th>\n",
       "      <td>Cash</td>\n",
       "      <td>76</td>\n",
       "      <td>Urban Cruisers</td>\n",
       "      <td>71610</td>\n",
       "      <td>0.009044</td>\n",
       "    </tr>\n",
       "    <tr>\n",
       "      <th>32</th>\n",
       "      <td>Other</td>\n",
       "      <td>8</td>\n",
       "      <td>Urban Cruisers</td>\n",
       "      <td>70825</td>\n",
       "      <td>0.008945</td>\n",
       "    </tr>\n",
       "    <tr>\n",
       "      <th>33</th>\n",
       "      <td>Cash</td>\n",
       "      <td>76</td>\n",
       "      <td>Flash Riders</td>\n",
       "      <td>69526</td>\n",
       "      <td>0.008781</td>\n",
       "    </tr>\n",
       "    <tr>\n",
       "      <th>34</th>\n",
       "      <td>Other</td>\n",
       "      <td>8</td>\n",
       "      <td>Long-Haul Nomads</td>\n",
       "      <td>55355</td>\n",
       "      <td>0.006991</td>\n",
       "    </tr>\n",
       "    <tr>\n",
       "      <th>35</th>\n",
       "      <td>Cash</td>\n",
       "      <td>8</td>\n",
       "      <td>Long-Haul Nomads</td>\n",
       "      <td>53054</td>\n",
       "      <td>0.006701</td>\n",
       "    </tr>\n",
       "    <tr>\n",
       "      <th>36</th>\n",
       "      <td>Mobile</td>\n",
       "      <td>8</td>\n",
       "      <td>Long-Haul Nomads</td>\n",
       "      <td>43276</td>\n",
       "      <td>0.005466</td>\n",
       "    </tr>\n",
       "    <tr>\n",
       "      <th>37</th>\n",
       "      <td>Other</td>\n",
       "      <td>32</td>\n",
       "      <td>Urban Cruisers</td>\n",
       "      <td>35917</td>\n",
       "      <td>0.004536</td>\n",
       "    </tr>\n",
       "    <tr>\n",
       "      <th>38</th>\n",
       "      <td>Cash</td>\n",
       "      <td>32</td>\n",
       "      <td>Long-Haul Nomads</td>\n",
       "      <td>35216</td>\n",
       "      <td>0.004448</td>\n",
       "    </tr>\n",
       "    <tr>\n",
       "      <th>39</th>\n",
       "      <td>Other</td>\n",
       "      <td>32</td>\n",
       "      <td>Long-Haul Nomads</td>\n",
       "      <td>33669</td>\n",
       "      <td>0.004252</td>\n",
       "    </tr>\n",
       "    <tr>\n",
       "      <th>40</th>\n",
       "      <td>Mobile</td>\n",
       "      <td>32</td>\n",
       "      <td>Long-Haul Nomads</td>\n",
       "      <td>27848</td>\n",
       "      <td>0.003517</td>\n",
       "    </tr>\n",
       "    <tr>\n",
       "      <th>41</th>\n",
       "      <td>Other</td>\n",
       "      <td>8</td>\n",
       "      <td>Flash Riders</td>\n",
       "      <td>22324</td>\n",
       "      <td>0.002819</td>\n",
       "    </tr>\n",
       "    <tr>\n",
       "      <th>42</th>\n",
       "      <td>Mobile</td>\n",
       "      <td>76</td>\n",
       "      <td>Urban Cruisers</td>\n",
       "      <td>15166</td>\n",
       "      <td>0.001915</td>\n",
       "    </tr>\n",
       "    <tr>\n",
       "      <th>43</th>\n",
       "      <td>Other</td>\n",
       "      <td>32</td>\n",
       "      <td>Flash Riders</td>\n",
       "      <td>9440</td>\n",
       "      <td>0.001192</td>\n",
       "    </tr>\n",
       "    <tr>\n",
       "      <th>44</th>\n",
       "      <td>Other</td>\n",
       "      <td>76</td>\n",
       "      <td>Long-Haul Nomads</td>\n",
       "      <td>9007</td>\n",
       "      <td>0.001138</td>\n",
       "    </tr>\n",
       "    <tr>\n",
       "      <th>45</th>\n",
       "      <td>Other</td>\n",
       "      <td>76</td>\n",
       "      <td>Urban Cruisers</td>\n",
       "      <td>5087</td>\n",
       "      <td>0.000642</td>\n",
       "    </tr>\n",
       "    <tr>\n",
       "      <th>46</th>\n",
       "      <td>Other</td>\n",
       "      <td>76</td>\n",
       "      <td>Flash Riders</td>\n",
       "      <td>2060</td>\n",
       "      <td>0.000260</td>\n",
       "    </tr>\n",
       "    <tr>\n",
       "      <th>47</th>\n",
       "      <td>Mobile</td>\n",
       "      <td>76</td>\n",
       "      <td>Flash Riders</td>\n",
       "      <td>2023</td>\n",
       "      <td>0.000255</td>\n",
       "    </tr>\n",
       "  </tbody>\n",
       "</table>\n",
       "</div>"
      ],
      "text/plain": [
       "   payment_group pickup_zone_group    duration_group   count  proportion\n",
       "0    Credit Card                76  Long-Haul Nomads  932993    0.117834\n",
       "1          Other             Other    Urban Cruisers  492887    0.062250\n",
       "2          Other             Other  Long-Haul Nomads  471644    0.059567\n",
       "3           Cash             Other      Flash Riders  453456    0.057270\n",
       "4           Cash                 8      Flash Riders  306484    0.038708\n",
       "5    Credit Card             Other      Flash Riders  297684    0.037597\n",
       "6    Credit Card                32      Flash Riders  291907    0.036867\n",
       "7    Credit Card                 8      Flash Riders  276498    0.034921\n",
       "8           Cash             Other    Urban Cruisers  274870    0.034715\n",
       "9         Mobile             Other    Urban Cruisers  270757    0.034196\n",
       "10   Credit Card             Other    Urban Cruisers  256085    0.032343\n",
       "11          Cash                32      Flash Riders  255828    0.032310\n",
       "12          Cash             Other  Long-Haul Nomads  230606    0.029125\n",
       "13   Credit Card             Other  Long-Haul Nomads  229324    0.028963\n",
       "14        Mobile                 8      Flash Riders  225234    0.028446\n",
       "15          Cash                76  Long-Haul Nomads  206361    0.026063\n",
       "16   Credit Card                76    Urban Cruisers  199533    0.025200\n",
       "17   Credit Card                 8    Urban Cruisers  183293    0.023149\n",
       "18        Mobile                 8    Urban Cruisers  179042    0.022612\n",
       "19          Cash                 8    Urban Cruisers  159390    0.020130\n",
       "20   Credit Card                32    Urban Cruisers  154174    0.019472\n",
       "21        Mobile             Other      Flash Riders  140911    0.017797\n",
       "22        Mobile                32      Flash Riders  126880    0.016025\n",
       "23        Mobile             Other  Long-Haul Nomads  113544    0.014340\n",
       "24        Mobile                32    Urban Cruisers  100057    0.012637\n",
       "25          Cash                32    Urban Cruisers   97494    0.012313\n",
       "26        Mobile                76  Long-Haul Nomads   94029    0.011876\n",
       "27         Other             Other      Flash Riders   90813    0.011469\n",
       "28   Credit Card                32  Long-Haul Nomads   86405    0.010913\n",
       "29   Credit Card                 8  Long-Haul Nomads   84164    0.010630\n",
       "30   Credit Card                76      Flash Riders   74094    0.009358\n",
       "31          Cash                76    Urban Cruisers   71610    0.009044\n",
       "32         Other                 8    Urban Cruisers   70825    0.008945\n",
       "33          Cash                76      Flash Riders   69526    0.008781\n",
       "34         Other                 8  Long-Haul Nomads   55355    0.006991\n",
       "35          Cash                 8  Long-Haul Nomads   53054    0.006701\n",
       "36        Mobile                 8  Long-Haul Nomads   43276    0.005466\n",
       "37         Other                32    Urban Cruisers   35917    0.004536\n",
       "38          Cash                32  Long-Haul Nomads   35216    0.004448\n",
       "39         Other                32  Long-Haul Nomads   33669    0.004252\n",
       "40        Mobile                32  Long-Haul Nomads   27848    0.003517\n",
       "41         Other                 8      Flash Riders   22324    0.002819\n",
       "42        Mobile                76    Urban Cruisers   15166    0.001915\n",
       "43         Other                32      Flash Riders    9440    0.001192\n",
       "44         Other                76  Long-Haul Nomads    9007    0.001138\n",
       "45         Other                76    Urban Cruisers    5087    0.000642\n",
       "46         Other                76      Flash Riders    2060    0.000260\n",
       "47        Mobile                76      Flash Riders    2023    0.000255"
      ]
     },
     "execution_count": 11,
     "metadata": {},
     "output_type": "execute_result"
    }
   ],
   "source": [
    "# Group by the key variables\n",
    "partition_counts = dftaxytrips_selected.groupBy(\n",
    "    \"payment_group\", \"pickup_zone_group\", \"duration_group\"\n",
    ").agg(count(\"*\").alias(\"count\"))\n",
    "\n",
    "# Calculate overall total\n",
    "total_count = dftaxytrips_selected.count()\n",
    "\n",
    "# Add proportion per combination\n",
    "partition_counts = partition_counts.withColumn(\n",
    "    \"proportion\", col(\"count\") / total_count\n",
    ")\n",
    "\n",
    "# Sort by the most representative\n",
    "partition_counts.orderBy(col(\"proportion\").desc()).limit(60).toPandas()"
   ]
  },
  {
   "cell_type": "markdown",
   "metadata": {
    "id": "IjQs3NQ1CNHo"
   },
   "source": [
    "During the characterization stage of the partitions generated from combinations of categorical variables (payment_group, pickup_zone_group, and duration_group), a total of 48 unique partitions were identified. However, not all of these partitions have a significant proportion relative to the total number of observations in the dataset. As shown in the table above, several of these combinations represent less than 2% of the total population, and some even less than 1%.\n",
    "\n",
    "From a statistical and computational standpoint, keeping all the original partitions could result in an excessively granular segmentation, which:\n",
    "\n",
    "-    Increases variance in stratified sampling\n",
    "\n",
    "-    Reduces the stability of estimators in subsequent models\n",
    "\n",
    "-    Compromises computational efficiency in big data scenarios\n",
    "\n",
    "Therefore, a consolidation strategy is proposed: group all partitions whose proportion is less than 2% into a residual category. This approach preserves the overall structure of the population while stabilizing the statistical behavior of the smaller partitions."
   ]
  },
  {
   "cell_type": "code",
   "execution_count": 12,
   "metadata": {
    "id": "n-2a9EnQBH8t"
   },
   "outputs": [],
   "source": [
    "# Label combinations greater than 2%\n",
    "significant_combinations = partition_counts.filter(col(\"proportion\") > 0.02)\n",
    "\n",
    "# Create combination name\n",
    "significant_combinations = significant_combinations.withColumn(\n",
    "    \"StrataGrouping\", concat_ws(\"_\", \"payment_group\", \"pickup_zone_group\", \"duration_group\")\n",
    ")\n",
    "\n",
    "# Join with the main dataset to assign the name or 'Other'\n",
    "dftaxytrips_with_strata = dftaxytrips_selected.join(\n",
    "    significant_combinations.select(\n",
    "        \"payment_group\", \"pickup_zone_group\", \"duration_group\", \"StrataGrouping\"\n",
    "    ),\n",
    "    on=[\"payment_group\", \"pickup_zone_group\", \"duration_group\"],\n",
    "    how=\"left\"\n",
    ")\n",
    "\n",
    "# Replace nulls with \"Other\"\n",
    "dftaxytrips_with_strata = dftaxytrips_with_strata.withColumn(\n",
    "    \"StrataGrouping\",\n",
    "    when(col(\"StrataGrouping\").isNull(), lit(\"Other\")).otherwise(col(\"StrataGrouping\"))\n",
    ")"
   ]
  },
  {
   "cell_type": "code",
   "execution_count": 13,
   "metadata": {
    "colab": {
     "base_uri": "https://localhost:8080/"
    },
    "id": "73utELUUBPXz",
    "outputId": "de067e5b-3a44-4c07-e9a8-8dedb280ef2e"
   },
   "outputs": [
    {
     "data": {
      "text/html": [
       "<div>\n",
       "<style scoped>\n",
       "    .dataframe tbody tr th:only-of-type {\n",
       "        vertical-align: middle;\n",
       "    }\n",
       "\n",
       "    .dataframe tbody tr th {\n",
       "        vertical-align: top;\n",
       "    }\n",
       "\n",
       "    .dataframe thead th {\n",
       "        text-align: right;\n",
       "    }\n",
       "</style>\n",
       "<table border=\"1\" class=\"dataframe\">\n",
       "  <thead>\n",
       "    <tr style=\"text-align: right;\">\n",
       "      <th></th>\n",
       "      <th>StrataGrouping</th>\n",
       "      <th>count</th>\n",
       "      <th>proportion</th>\n",
       "    </tr>\n",
       "  </thead>\n",
       "  <tbody>\n",
       "    <tr>\n",
       "      <th>0</th>\n",
       "      <td>Other</td>\n",
       "      <td>1723968</td>\n",
       "      <td>0.217732</td>\n",
       "    </tr>\n",
       "    <tr>\n",
       "      <th>1</th>\n",
       "      <td>Credit Card_76_Long-Haul Nomads</td>\n",
       "      <td>932993</td>\n",
       "      <td>0.117834</td>\n",
       "    </tr>\n",
       "    <tr>\n",
       "      <th>2</th>\n",
       "      <td>Other_Other_Urban Cruisers</td>\n",
       "      <td>492887</td>\n",
       "      <td>0.062250</td>\n",
       "    </tr>\n",
       "    <tr>\n",
       "      <th>3</th>\n",
       "      <td>Other_Other_Long-Haul Nomads</td>\n",
       "      <td>471644</td>\n",
       "      <td>0.059567</td>\n",
       "    </tr>\n",
       "    <tr>\n",
       "      <th>4</th>\n",
       "      <td>Cash_Other_Flash Riders</td>\n",
       "      <td>453456</td>\n",
       "      <td>0.057270</td>\n",
       "    </tr>\n",
       "    <tr>\n",
       "      <th>5</th>\n",
       "      <td>Cash_8_Flash Riders</td>\n",
       "      <td>306484</td>\n",
       "      <td>0.038708</td>\n",
       "    </tr>\n",
       "    <tr>\n",
       "      <th>6</th>\n",
       "      <td>Credit Card_Other_Flash Riders</td>\n",
       "      <td>297684</td>\n",
       "      <td>0.037597</td>\n",
       "    </tr>\n",
       "    <tr>\n",
       "      <th>7</th>\n",
       "      <td>Credit Card_32_Flash Riders</td>\n",
       "      <td>291907</td>\n",
       "      <td>0.036867</td>\n",
       "    </tr>\n",
       "    <tr>\n",
       "      <th>8</th>\n",
       "      <td>Credit Card_8_Flash Riders</td>\n",
       "      <td>276498</td>\n",
       "      <td>0.034921</td>\n",
       "    </tr>\n",
       "    <tr>\n",
       "      <th>9</th>\n",
       "      <td>Cash_Other_Urban Cruisers</td>\n",
       "      <td>274870</td>\n",
       "      <td>0.034715</td>\n",
       "    </tr>\n",
       "    <tr>\n",
       "      <th>10</th>\n",
       "      <td>Mobile_Other_Urban Cruisers</td>\n",
       "      <td>270757</td>\n",
       "      <td>0.034196</td>\n",
       "    </tr>\n",
       "    <tr>\n",
       "      <th>11</th>\n",
       "      <td>Credit Card_Other_Urban Cruisers</td>\n",
       "      <td>256085</td>\n",
       "      <td>0.032343</td>\n",
       "    </tr>\n",
       "    <tr>\n",
       "      <th>12</th>\n",
       "      <td>Cash_32_Flash Riders</td>\n",
       "      <td>255828</td>\n",
       "      <td>0.032310</td>\n",
       "    </tr>\n",
       "    <tr>\n",
       "      <th>13</th>\n",
       "      <td>Cash_Other_Long-Haul Nomads</td>\n",
       "      <td>230606</td>\n",
       "      <td>0.029125</td>\n",
       "    </tr>\n",
       "    <tr>\n",
       "      <th>14</th>\n",
       "      <td>Credit Card_Other_Long-Haul Nomads</td>\n",
       "      <td>229324</td>\n",
       "      <td>0.028963</td>\n",
       "    </tr>\n",
       "    <tr>\n",
       "      <th>15</th>\n",
       "      <td>Mobile_8_Flash Riders</td>\n",
       "      <td>225234</td>\n",
       "      <td>0.028446</td>\n",
       "    </tr>\n",
       "    <tr>\n",
       "      <th>16</th>\n",
       "      <td>Cash_76_Long-Haul Nomads</td>\n",
       "      <td>206361</td>\n",
       "      <td>0.026063</td>\n",
       "    </tr>\n",
       "    <tr>\n",
       "      <th>17</th>\n",
       "      <td>Credit Card_76_Urban Cruisers</td>\n",
       "      <td>199533</td>\n",
       "      <td>0.025200</td>\n",
       "    </tr>\n",
       "    <tr>\n",
       "      <th>18</th>\n",
       "      <td>Credit Card_8_Urban Cruisers</td>\n",
       "      <td>183293</td>\n",
       "      <td>0.023149</td>\n",
       "    </tr>\n",
       "    <tr>\n",
       "      <th>19</th>\n",
       "      <td>Mobile_8_Urban Cruisers</td>\n",
       "      <td>179042</td>\n",
       "      <td>0.022612</td>\n",
       "    </tr>\n",
       "    <tr>\n",
       "      <th>20</th>\n",
       "      <td>Cash_8_Urban Cruisers</td>\n",
       "      <td>159390</td>\n",
       "      <td>0.020130</td>\n",
       "    </tr>\n",
       "  </tbody>\n",
       "</table>\n",
       "</div>"
      ],
      "text/plain": [
       "                        StrataGrouping    count  proportion\n",
       "0                                Other  1723968    0.217732\n",
       "1      Credit Card_76_Long-Haul Nomads   932993    0.117834\n",
       "2           Other_Other_Urban Cruisers   492887    0.062250\n",
       "3         Other_Other_Long-Haul Nomads   471644    0.059567\n",
       "4              Cash_Other_Flash Riders   453456    0.057270\n",
       "5                  Cash_8_Flash Riders   306484    0.038708\n",
       "6       Credit Card_Other_Flash Riders   297684    0.037597\n",
       "7          Credit Card_32_Flash Riders   291907    0.036867\n",
       "8           Credit Card_8_Flash Riders   276498    0.034921\n",
       "9            Cash_Other_Urban Cruisers   274870    0.034715\n",
       "10         Mobile_Other_Urban Cruisers   270757    0.034196\n",
       "11    Credit Card_Other_Urban Cruisers   256085    0.032343\n",
       "12                Cash_32_Flash Riders   255828    0.032310\n",
       "13         Cash_Other_Long-Haul Nomads   230606    0.029125\n",
       "14  Credit Card_Other_Long-Haul Nomads   229324    0.028963\n",
       "15               Mobile_8_Flash Riders   225234    0.028446\n",
       "16            Cash_76_Long-Haul Nomads   206361    0.026063\n",
       "17       Credit Card_76_Urban Cruisers   199533    0.025200\n",
       "18        Credit Card_8_Urban Cruisers   183293    0.023149\n",
       "19             Mobile_8_Urban Cruisers   179042    0.022612\n",
       "20               Cash_8_Urban Cruisers   159390    0.020130"
      ]
     },
     "execution_count": 13,
     "metadata": {},
     "output_type": "execute_result"
    }
   ],
   "source": [
    "# Count observations per group\n",
    "grouped_partition_counts = dftaxytrips_with_strata.groupBy(\n",
    "    \"StrataGrouping\"\n",
    ").agg(count(\"*\").alias(\"count\"))\n",
    "\n",
    "# Calculate the proportion of each group relative to the total dataset\n",
    "grouped_partition_counts = grouped_partition_counts.withColumn(\n",
    "    \"proportion\", col(\"count\") / total_count\n",
    ")\n",
    "\n",
    "# Sort in descending order by proportion of observations per group\n",
    "grouped_partition_counts.orderBy(col(\"proportion\").desc()).limit(30).toPandas()"
   ]
  },
  {
   "attachments": {
    "0211806f-37bf-4489-a31e-37e6b1af8712.png": {
     "image/png": "[encoded data removed]"
    }
   },
   "cell_type": "markdown",
   "metadata": {
    "id": "mw0pYNq4nc5I"
   },
   "source": [
    "**1.4 Sampling Technique**\n",
    "\n",
    "A **stratified random sampling** was applied using **tip_ratio_group** within each of the 21 partitions obtained from the characterization variables. This technique preserves the proportional distribution of classes within each subpopulation, reducing bias and ensuring a representative sample for supervised learning tasks in multiclass classification problems. The resulting sample is more robust for training predictive models and reduces the risk of overfitting to majority classes.\n",
    "\n",
    "For our analysis, the fraction of the target class is considered as follows:\n",
    "\n",
    "![image.png](attachment:0211806f-37bf-4489-a31e-37e6b1af8712.png)"
   ]
  },
  {
   "cell_type": "code",
   "execution_count": 14,
   "metadata": {
    "id": "EXbJNMW_D7IE",
    "outputId": "e15802b5-54be-4dea-f969-32a375a23dab"
   },
   "outputs": [],
   "source": [
    "# Obtain the new stratification groups\n",
    "strata_groups = dftaxytrips_with_strata.select(\"StrataGrouping\").distinct().collect()\n",
    "\n",
    "# Suggested sampling fractions per class\n",
    "fractions = {\n",
    "    \"Flat Fare Clients\": 0.05,\n",
    "    \"Grateful Givers\": 0.15,\n",
    "    \"High-Spirit Donors\": 0.10\n",
    "}\n",
    "\n",
    "# List to store the sampled dataframes by partition\n",
    "sampled_partitions = []\n",
    "\n",
    "# Apply sampling for each combination\n",
    "for row in strata_groups:\n",
    "    strata_value = row[\"StrataGrouping\"]\n",
    "\n",
    "    df_partition = dftaxytrips_with_strata.filter(col(\"StrataGrouping\") == strata_value)\n",
    "\n",
    "    # Only sample if there are records in the partition\n",
    "    if df_partition.count() > 0:\n",
    "        sampled = df_partition.sampleBy(\"tip_ratio_group\", fractions, seed=42)\n",
    "        sampled_partitions.append(sampled)\n",
    "\n",
    "# Merge all samples into a single sample M\n",
    "dftaxytrips_m = reduce(DataFrame.unionAll, sampled_partitions)"
   ]
  },
  {
   "cell_type": "code",
   "execution_count": 15,
   "metadata": {
    "colab": {
     "base_uri": "https://localhost:8080/"
    },
    "id": "ShYcEroHGy6L",
    "outputId": "4903860d-1b32-4b37-945b-b314356728f7"
   },
   "outputs": [
    {
     "name": "stdout",
     "output_type": "stream",
     "text": [
      "Number of records: 654487\n",
      "Number of columns: 16\n"
     ]
    }
   ],
   "source": [
    "# Verify distribution by records and columns\n",
    "print(\"Number of records:\", dftaxytrips_m.count())\n",
    "print(\"Number of columns:\", len(dftaxytrips_m.columns))"
   ]
  },
  {
   "cell_type": "code",
   "execution_count": 16,
   "metadata": {
    "colab": {
     "base_uri": "https://localhost:8080/"
    },
    "id": "o7ALnH_csXvD",
    "outputId": "bac9deb1-f9e2-4033-96a6-5f4daaac18f4",
    "scrolled": true
   },
   "outputs": [
    {
     "name": "stdout",
     "output_type": "stream",
     "text": [
      "Class distribution:\n"
     ]
    },
    {
     "data": {
      "text/html": [
       "<div>\n",
       "<style scoped>\n",
       "    .dataframe tbody tr th:only-of-type {\n",
       "        vertical-align: middle;\n",
       "    }\n",
       "\n",
       "    .dataframe tbody tr th {\n",
       "        vertical-align: top;\n",
       "    }\n",
       "\n",
       "    .dataframe thead th {\n",
       "        text-align: right;\n",
       "    }\n",
       "</style>\n",
       "<table border=\"1\" class=\"dataframe\">\n",
       "  <thead>\n",
       "    <tr style=\"text-align: right;\">\n",
       "      <th></th>\n",
       "      <th>tip_ratio_group</th>\n",
       "      <th>count</th>\n",
       "    </tr>\n",
       "  </thead>\n",
       "  <tbody>\n",
       "    <tr>\n",
       "      <th>0</th>\n",
       "      <td>Flat Fare Clients</td>\n",
       "      <td>197234</td>\n",
       "    </tr>\n",
       "    <tr>\n",
       "      <th>1</th>\n",
       "      <td>Grateful Givers</td>\n",
       "      <td>179573</td>\n",
       "    </tr>\n",
       "    <tr>\n",
       "      <th>2</th>\n",
       "      <td>High-Spirit Donors</td>\n",
       "      <td>277680</td>\n",
       "    </tr>\n",
       "  </tbody>\n",
       "</table>\n",
       "</div>"
      ],
      "text/plain": [
       "      tip_ratio_group   count\n",
       "0   Flat Fare Clients  197234\n",
       "1     Grateful Givers  179573\n",
       "2  High-Spirit Donors  277680"
      ]
     },
     "execution_count": 16,
     "metadata": {},
     "output_type": "execute_result"
    }
   ],
   "source": [
    "# Verify final class distribution\n",
    "print(\"Class distribution:\")\n",
    "dftaxytrips_m.groupBy(\"tip_ratio_group\").count().toPandas()"
   ]
  },
  {
   "cell_type": "code",
   "execution_count": 17,
   "metadata": {},
   "outputs": [],
   "source": [
    "numeric_cols = [\"duration_minutes\", \"trip_miles\"]\n",
    "cat_cols = [\"trip_month\"]"
   ]
  },
  {
   "cell_type": "markdown",
   "metadata": {
    "id": "amLIzkFcdsYk"
   },
   "source": [
    "## **2. Data Processing in Sample M**"
   ]
  },
  {
   "cell_type": "markdown",
   "metadata": {
    "id": "1HJVMq2pa8La"
   },
   "source": [
    "In order to guarantee the quality and consistency of the analysis, a set of systematic data preparation procedures was developed before applying machine learning algorithms. This process included the identification of subsets of relevant variables for each type of analytical task (supervised classification and unsupervised clustering), followed by the handling of null values, the detection and mitigation of outliers, and the transformation of categorical variables through appropriate encoding techniques."
   ]
  },
  {
   "cell_type": "markdown",
   "metadata": {
    "id": "Oh4ELQ4qabmM"
   },
   "source": [
    "**2.1 Dataframes Identified for Each Type of Algorithm**"
   ]
  },
  {
   "cell_type": "code",
   "execution_count": 18,
   "metadata": {
    "colab": {
     "base_uri": "https://localhost:8080/"
    },
    "id": "bxfyPl4TKP4R",
    "outputId": "c2f18c04-9299-465d-c7c7-5f52eb11f0d6"
   },
   "outputs": [
    {
     "data": {
      "text/plain": [
       "655094"
      ]
     },
     "execution_count": 18,
     "metadata": {},
     "output_type": "execute_result"
    }
   ],
   "source": [
    "# Copy of the dataframe\n",
    "dftaxytrips_m = dftaxytrips_m.cache()\n",
    "\n",
    "# Force evaluation to materialize the cache\n",
    "dftaxytrips_m.count()"
   ]
  },
  {
   "cell_type": "code",
   "execution_count": 19,
   "metadata": {
    "id": "zwzw3TxvUMvE"
   },
   "outputs": [],
   "source": [
    "# Columns to Select for the Classification Algorithm\n",
    "columnas_m1 = [\n",
    "    \"trip_id\",\n",
    "    \"trip_hour\",\n",
    "    \"trip_day_of_week\",\n",
    "    \"duration_minutes\",\n",
    "    \"trip_miles\",\n",
    "    #\"tip_ratio\", // Removed to avoid correlation with the target.\n",
    "    \"tip_per_mile\",\n",
    "    \"payment_group\",\n",
    "    \"company_group\",\n",
    "    \"pickup_zone_group\",\n",
    "    \"dropoff_zone_group\",\n",
    "    \"tip_ratio_group\"\n",
    "]\n",
    "\n",
    "# Selection of specific columns\n",
    "dftaxytrips_clasificacion = dftaxytrips_m.select(*columnas_m1)"
   ]
  },
  {
   "cell_type": "code",
   "execution_count": 20,
   "metadata": {
    "id": "YOoVGrEfUmWV"
   },
   "outputs": [],
   "source": [
    "# Columns to Select for the Clustering Algorithm\n",
    "columnas_m2 = [\n",
    "    \"trip_id\",\n",
    "    \"trip_hour\",\n",
    "    \"trip_day_of_week\",\n",
    "    \"duration_minutes\",\n",
    "    \"trip_miles\",\n",
    "    \"tip_ratio\",\n",
    "    \"tip_per_mile\",\n",
    "    \"payment_group\",\n",
    "    \"company_group\",\n",
    "    \"pickup_zone_group\",\n",
    "    \"dropoff_zone_group\"\n",
    "]\n",
    "\n",
    "# Selection of specific columns\n",
    "dftaxytrips_clustering = dftaxytrips_m.select(*columnas_m2)"
   ]
  },
  {
   "cell_type": "markdown",
   "metadata": {
    "id": "VZChzQi_akQI"
   },
   "source": [
    "**2.2 Analysis of Null Values and Median Imputation**"
   ]
  },
  {
   "cell_type": "code",
   "execution_count": 21,
   "metadata": {
    "colab": {
     "base_uri": "https://localhost:8080/"
    },
    "id": "63MC2HYMIMTt",
    "outputId": "35bffd06-73c0-4df8-cb94-232673efbd39"
   },
   "outputs": [
    {
     "data": {
      "text/html": [
       "<div>\n",
       "<style scoped>\n",
       "    .dataframe tbody tr th:only-of-type {\n",
       "        vertical-align: middle;\n",
       "    }\n",
       "\n",
       "    .dataframe tbody tr th {\n",
       "        vertical-align: top;\n",
       "    }\n",
       "\n",
       "    .dataframe thead th {\n",
       "        text-align: right;\n",
       "    }\n",
       "</style>\n",
       "<table border=\"1\" class=\"dataframe\">\n",
       "  <thead>\n",
       "    <tr style=\"text-align: right;\">\n",
       "      <th></th>\n",
       "      <th>trip_id</th>\n",
       "      <th>trip_hour</th>\n",
       "      <th>trip_day_of_week</th>\n",
       "      <th>duration_minutes</th>\n",
       "      <th>trip_miles</th>\n",
       "      <th>tip_per_mile</th>\n",
       "      <th>payment_group</th>\n",
       "      <th>company_group</th>\n",
       "      <th>pickup_zone_group</th>\n",
       "      <th>dropoff_zone_group</th>\n",
       "      <th>tip_ratio_group</th>\n",
       "    </tr>\n",
       "  </thead>\n",
       "  <tbody>\n",
       "    <tr>\n",
       "      <th>0</th>\n",
       "      <td>0</td>\n",
       "      <td>0</td>\n",
       "      <td>0</td>\n",
       "      <td>72</td>\n",
       "      <td>6</td>\n",
       "      <td>950</td>\n",
       "      <td>0</td>\n",
       "      <td>0</td>\n",
       "      <td>0</td>\n",
       "      <td>0</td>\n",
       "      <td>0</td>\n",
       "    </tr>\n",
       "  </tbody>\n",
       "</table>\n",
       "</div>"
      ],
      "text/plain": [
       "   trip_id  trip_hour  trip_day_of_week  duration_minutes  trip_miles  \\\n",
       "0        0          0                 0                72           6   \n",
       "\n",
       "   tip_per_mile  payment_group  company_group  pickup_zone_group  \\\n",
       "0           950              0              0                  0   \n",
       "\n",
       "   dropoff_zone_group  tip_ratio_group  \n",
       "0                   0                0  "
      ]
     },
     "execution_count": 21,
     "metadata": {},
     "output_type": "execute_result"
    }
   ],
   "source": [
    "# 1) Review of null values\n",
    "#    Classification case\n",
    "null_summary = dftaxytrips_clasificacion.select([\n",
    "    count(when(col(c).isNull() | isnan(c), c)).alias(c)\n",
    "    for c in dftaxytrips_clasificacion.columns\n",
    "])\n",
    "null_summary.toPandas()"
   ]
  },
  {
   "cell_type": "code",
   "execution_count": 22,
   "metadata": {
    "colab": {
     "base_uri": "https://localhost:8080/"
    },
    "id": "KrOZGn0KVsJz",
    "outputId": "6dbaf470-9ee6-41ad-a1f1-a4b8745a81c7"
   },
   "outputs": [
    {
     "name": "stdout",
     "output_type": "stream",
     "text": [
      "+-------+---------+----------------+----------------+----------+---------+------------+-------------+-------------+-----------------+------------------+\n",
      "|trip_id|trip_hour|trip_day_of_week|duration_minutes|trip_miles|tip_ratio|tip_per_mile|payment_group|company_group|pickup_zone_group|dropoff_zone_group|\n",
      "+-------+---------+----------------+----------------+----------+---------+------------+-------------+-------------+-----------------+------------------+\n",
      "|      0|        0|               0|              72|         6|        0|         950|            0|            0|                0|                 0|\n",
      "+-------+---------+----------------+----------------+----------+---------+------------+-------------+-------------+-----------------+------------------+\n",
      "\n"
     ]
    }
   ],
   "source": [
    "#    Clustering case\n",
    "null_summary = dftaxytrips_clustering.select([\n",
    "    count(when(col(c).isNull() | isnan(c), c)).alias(c)\n",
    "    for c in dftaxytrips_clustering.columns\n",
    "])\n",
    "null_summary.show()"
   ]
  },
  {
   "cell_type": "code",
   "execution_count": 23,
   "metadata": {
    "id": "DhjdRDPmJ9ru",
    "outputId": "503cecc2-5a2b-4f3d-fa87-2772a29f2f93"
   },
   "outputs": [],
   "source": [
    "# Median imputation\n",
    "# Numerical columns to impute with the median\n",
    "#    Classification case\n",
    "num_cols = [\"duration_minutes\", \"trip_miles\", \"tip_per_mile\"]\n",
    "\n",
    "# Calculate the median for each numerical column\n",
    "medians = {\n",
    "    col_name: dftaxytrips_clasificacion.select(percentile_approx(col_name, 0.5)).first()[0]\n",
    "    for col_name in num_cols\n",
    "}\n",
    "\n",
    "# Impute nulls with the median\n",
    "dftaxytrips_clasificacion = dftaxytrips_clasificacion.fillna(medians)"
   ]
  },
  {
   "cell_type": "code",
   "execution_count": 24,
   "metadata": {
    "id": "Ohj22jrBWFjF",
    "outputId": "0c1e3560-52dd-4608-d41b-923d43169c4c"
   },
   "outputs": [],
   "source": [
    "# Numerical columns to impute with the median\n",
    "#    Clustering case\n",
    "num_cols = [\"duration_minutes\", \"trip_miles\", \"tip_per_mile\"]\n",
    "\n",
    "# Calculate the median for each numerical column\n",
    "medians = {\n",
    "    col_name: dftaxytrips_clustering.select(percentile_approx(col_name, 0.5)).first()[0]\n",
    "    for col_name in num_cols\n",
    "}\n",
    "\n",
    "# Impute nulls with the median\n",
    "dftaxytrips_clustering = dftaxytrips_clustering.fillna(medians)"
   ]
  },
  {
   "cell_type": "markdown",
   "metadata": {
    "id": "MTxtZ1FjK9HO"
   },
   "source": [
    "**2.3 Treatment of Outliers Using the Interquartile Range (IQR)**"
   ]
  },
  {
   "cell_type": "code",
   "execution_count": 25,
   "metadata": {
    "id": "dHgXRq8cLOvG",
    "outputId": "5c996d5c-147e-4c79-e62e-1c0ec2b319ed"
   },
   "outputs": [],
   "source": [
    "# Case Classification\n",
    "# Filter outliers for each variable\n",
    "for col_name in num_cols:\n",
    "    # Getting Q1 and Q3\n",
    "    q1, q3 = dftaxytrips_clasificacion.approxQuantile(col_name, [0.25, 0.75], 0.01)\n",
    "    iqr = q3 - q1\n",
    "    lower_bound = q1 - 1.5 * iqr\n",
    "    upper_bound = q3 + 1.5 * iqr\n",
    "\n",
    "    # Apply filter to remove outliers\n",
    "    dftaxytrips_clasificacion = dftaxytrips_clasificacion.filter(\n",
    "        (col(col_name) >= lower_bound) & (col(col_name) <= upper_bound)\n",
    "    )"
   ]
  },
  {
   "cell_type": "code",
   "execution_count": 26,
   "metadata": {
    "id": "AgS7wc-aLrM2",
    "outputId": "7a7f5144-cb06-4d68-9b7c-488c546f5acf"
   },
   "outputs": [],
   "source": [
    "# Case Clustering\n",
    "# Filter outliers for each variable\n",
    "for col_name in num_cols:\n",
    "    # Get Q1 and Q3\n",
    "    q1, q3 = dftaxytrips_clustering.approxQuantile(col_name, [0.25, 0.75], 0.01)\n",
    "    iqr = q3 - q1\n",
    "    lower_bound = q1 - 1.5 * iqr\n",
    "    upper_bound = q3 + 1.5 * iqr\n",
    "\n",
    "     # Apply filter to remove outliers\n",
    "    dftaxytrips_clustering = dftaxytrips_clustering.filter(\n",
    "        (col(col_name) >= lower_bound) & (col(col_name) <= upper_bound)\n",
    "    )"
   ]
  },
  {
   "cell_type": "markdown",
   "metadata": {
    "id": "xFMBDiraawY7"
   },
   "source": [
    "**2.4 One Hot Encoding for Supervised Learning**"
   ]
  },
  {
   "cell_type": "code",
   "execution_count": 27,
   "metadata": {
    "id": "YJX8gxqcXfYl",
    "outputId": "986a645d-29c5-4b21-81b5-17d9d611fb6e"
   },
   "outputs": [],
   "source": [
    "# 2) Conversion of data type and OHE encoding for the Classification Algorithm\n",
    "cat_vars = [\n",
    "    \"trip_hour\", \"trip_day_of_week\",\n",
    "    \"payment_group\", \"company_group\",\n",
    "    \"pickup_zone_group\", \"dropoff_zone_group\"\n",
    "]\n",
    "\n",
    "# Verify that values are strings\n",
    "for var in cat_vars:\n",
    "    dftaxytrips_clasificacion = dftaxytrips_clasificacion.withColumn(var, col(var).cast(\"string\"))\n",
    "\n",
    "# Create indexers and encoders\n",
    "indexers = [\n",
    "    StringIndexer(inputCol=colname, outputCol=colname + \"_idx\", handleInvalid=\"keep\")\n",
    "    for colname in cat_vars\n",
    "]\n",
    "\n",
    "encoders = [\n",
    "    OneHotEncoder(inputCol=colname + \"_idx\", outputCol=colname + \"_vec\")\n",
    "    for colname in cat_vars\n",
    "]\n",
    "\n",
    "# Numerical variables\n",
    "num_vars = [\"duration_minutes\", \"trip_miles\", \"tip_per_mile\"]\n",
    "\n",
    "# Build the final feature vector\n",
    "assembler_inputs = [col + \"_vec\" for col in cat_vars] + num_vars\n",
    "assembler = VectorAssembler(inputCols=assembler_inputs, outputCol=\"features\")\n",
    "\n",
    "# Complete pipeline\n",
    "pipeline = Pipeline(stages=indexers + encoders + [assembler])\n",
    "\n",
    "# Transform the DataFrame\n",
    "model_pipeline = pipeline.fit(dftaxytrips_clasificacion)\n",
    "df_encoded = model_pipeline.transform(dftaxytrips_clasificacion)"
   ]
  },
  {
   "cell_type": "markdown",
   "metadata": {
    "id": "pi4TH1d7a68v"
   },
   "source": [
    "**Indexing of Categorical Variables for Unsupervised Learning**"
   ]
  },
  {
   "cell_type": "code",
   "execution_count": 28,
   "metadata": {
    "id": "CujbZst1YaiR",
    "outputId": "2b410dff-935b-413c-bccc-bc16173c4075"
   },
   "outputs": [],
   "source": [
    "# 2) Conversion of data type and Indexing for the Clustering Algorithm\n",
    "# Categorical variables with text\n",
    "cat_vars = [\n",
    "    \"payment_group\", \"company_group\",\n",
    "    \"pickup_zone_group\", \"dropoff_zone_group\"\n",
    "]\n",
    "\n",
    "# Numerical variables\n",
    "num_vars = [\n",
    "    \"trip_hour\", \"trip_day_of_week\",\n",
    "    \"duration_minutes\", \"trip_miles\", \"tip_per_mile\"\n",
    "]\n",
    "\n",
    "# Index only the necessary categorical variables\n",
    "indexers = [\n",
    "    StringIndexer(inputCol=colname, outputCol=colname + \"_idx\", handleInvalid=\"keep\")\n",
    "    for colname in cat_vars\n",
    "]\n",
    "\n",
    "# Build final list of columns to assemble\n",
    "features_input = [col + \"_idx\" for col in cat_vars] + num_vars\n",
    "\n",
    "# Assembler\n",
    "assembler = VectorAssembler(inputCols=features_input, outputCol=\"features\")\n",
    "\n",
    "# Pipeline\n",
    "pipeline = Pipeline(stages=indexers + [assembler])\n",
    "df_clustering = pipeline.fit(dftaxytrips_clustering).transform(dftaxytrips_clustering)"
   ]
  },
  {
   "cell_type": "markdown",
   "metadata": {
    "id": "z8v3N1OQbX88"
   },
   "source": [
    "## **3. Definition and Justification of K-Fold Cross Validation**"
   ]
  },
  {
   "cell_type": "markdown",
   "metadata": {
    "id": "82GqPz6eerrO",
    "jp-MarkdownHeadingCollapsed": true
   },
   "source": [
    "To obtain a robust evaluation of the performance of the machine learning model selected in Activity 4 (the one that gave us the best preliminary results), it is crucial not to rely on a single random split of the data into training and testing sets. A single split can lead to a performance estimate that is either too optimistic or too pessimistic, depending on which data ends up in each set.\n",
    "\n",
    "To mitigate this problem and obtain a more reliable measure of our model’s generalization ability, we will apply the **K-Fold Cross-Validation** technique.\n",
    "\n",
    "**3.1 What is K-Fold Cross-Validation?**\n",
    "\n",
    "This method consists of dividing the entire dataset into **‘k’ subsets (folds)** of approximately equal size. The evaluation process is then repeated ‘k’ times (or ‘k’ iterations). In each iteration:\n",
    "\n",
    "1.  **One fold** is selected to act as the **testing set** for that iteration.\n",
    "2.  The remaining **‘k-1’ folds** are combined to form the **training set**.\n",
    "3.  The model is trained using the training set.\n",
    "4.  The performance of the trained model is evaluated using the testing set.\n",
    "\n",
    "This cycle repeats until each of the ‘k’ folds has been used as a testing set exactly once. In the end, we obtain ‘k’ different performance metrics (one for each iteration).\n",
    "\n",
    "**3.2 Justification for Choosing k = 5**\n",
    "\n",
    "We have decided to use **k = 5** for our cross-validation. This choice is based on a balance between several factors:\n",
    "\n",
    "*   **Computational Cost:** A value of k=5 requires training the model 5 times. This is manageable for our dataset and resources, unlike larger values of ‘k’ (such as k=10 or Leave-One-Out Cross-Validation where k equals the number of samples), which would significantly increase processing time.\n",
    "*   **Reliability of the Estimate:** With 5 folds, the model is evaluated on 5 different subsets of 20% of the data (if the dataset is divided evenly). This provides a much more reliable and stable performance estimate than a single split (e.g., 80/20), as it reduces dependence on any one particular partition of the data.\n",
    "*   **Measurement of Variability:** Obtaining 5 performance results allows us to calculate statistics such as the mean and standard deviation of the metrics. The standard deviation is a direct measure of the variability of the model’s performance across different data subsets, which is a key objective of this activity.\n",
    "\n",
    "We consider k=5 to be a good compromise for obtaining a robust estimate of performance and its variability without incurring excessive computational cost.\n",
    "\n",
    "**3.3 Ensuring Representativeness**\n",
    "\n",
    "To ensure that each of the 5 folds is as representative as possible of the full dataset, we will use the standard implementation of `KFold` from the Scikit-learn library. When configured with `shuffle=True` before splitting, this implementation helps distribute the dataset’s characteristics more evenly among the folds. Although no explicit stratification is applied (which is more common in classification problems to preserve class proportions), for a regression problem like price prediction, random shuffling before splitting is a standard practice that favors representativeness of each subset. Each fold thus acts as a small “sample” of the overall dataset.\n",
    "\n",
    "In the next section, we will present the code that implements the generation of these 5 folds, thereby preparing the data for the iterative training and evaluation phase."
   ]
  },
  {
   "cell_type": "markdown",
   "metadata": {
    "id": "HDbfcwHsfNw5"
   },
   "source": [
    "## **4. Construction of K-Folds and Cross-Validation with Stratification**"
   ]
  },
  {
   "cell_type": "markdown",
   "metadata": {
    "id": "uWflb7Noh8KJ"
   },
   "source": [
    "**4.1 Preparation of the Target Variable**"
   ]
  },
  {
   "cell_type": "code",
   "execution_count": 29,
   "metadata": {
    "id": "s3m3bYPmh7qa",
    "outputId": "66f954f7-be91-4230-acd9-f9c6c35638ed",
    "scrolled": true
   },
   "outputs": [
    {
     "name": "stdout",
     "output_type": "stream",
     "text": [
      "['High-Spirit Donors', 'Flat Fare Clients', 'Grateful Givers']\n"
     ]
    }
   ],
   "source": [
    "label_indexer = StringIndexer(inputCol=\"tip_ratio_group\", outputCol=\"label\")\n",
    "indexer_model = label_indexer.fit(df_encoded)\n",
    "df_final = indexer_model.transform(df_encoded)\n",
    "df_final = df_final.withColumn(\"label\", col(\"label\").cast(\"double\"))\n",
    "\n",
    "print(indexer_model.labels) # 0 High-Spirit Donors, 1 Flat Fare Clients, 2 Grateful Givers"
   ]
  },
  {
   "cell_type": "markdown",
   "metadata": {
    "id": "qpQywHhjAnaG"
   },
   "source": [
    "**4.2 Initialization of Evaluation Metrics**"
   ]
  },
  {
   "cell_type": "code",
   "execution_count": 30,
   "metadata": {
    "id": "oqUArcE6AnaG"
   },
   "outputs": [],
   "source": [
    "accuracy_evaluator = MulticlassClassificationEvaluator(labelCol=\"label\", predictionCol=\"prediction\", metricName=\"accuracy\")\n",
    "precision_evaluator = MulticlassClassificationEvaluator(labelCol=\"label\", predictionCol=\"prediction\", metricName=\"weightedPrecision\")\n",
    "recall_evaluator = MulticlassClassificationEvaluator(labelCol=\"label\", predictionCol=\"prediction\", metricName=\"weightedRecall\")\n",
    "f1_evaluator = MulticlassClassificationEvaluator(labelCol=\"label\", predictionCol=\"prediction\", metricName=\"f1\")"
   ]
  },
  {
   "cell_type": "markdown",
   "metadata": {
    "id": "Un9trzKuAnaG"
   },
   "source": [
    "## **5. Training the Supervised Model with K-Fold Cross-Validation**"
   ]
  },
  {
   "cell_type": "markdown",
   "metadata": {
    "id": "pZrkYDLuAnaH"
   },
   "source": [
    "**5.1 RandomForestClassifier with Cross-Validation**"
   ]
  },
  {
   "cell_type": "markdown",
   "metadata": {
    "id": "qfVIv2z_IJNc"
   },
   "source": [
    "Based on the results obtained in Activity 4, where the Random Forest Classifier model showed promising performance for the task of tip-behavior classification, we proceed to evaluate it more robustly using K-Fold cross-validation."
   ]
  },
  {
   "cell_type": "markdown",
   "metadata": {
    "id": "uCIBaBB8AnaH"
   },
   "source": [
    "**5.2 Preparation of Stratified Folds**"
   ]
  },
  {
   "cell_type": "markdown",
   "metadata": {
    "id": "EUO6pMexHlp_"
   },
   "source": [
    "To implement cross-validation with k=5, we first assign a fold identifier to each record in our dataset. We use PySpark’s `row_number()` function, ordered by a monotonically increasing ID (to ensure deterministic ordering), and then apply the modulo (`%`) operator with `k=5` to assign each row a `fold_id` between 0 and 4. This process distributes the records evenly across the 5 folds.\n",
    "\n",
    "In the training phase, we iterate 5 times. In each iteration `i`, we select the records with `fold_id == i` as the testing set, and the records with `fold_id != i` as the training set. This method ensures that each record is used once as testing and in the remaining iterations as training. "
   ]
  },
  {
   "cell_type": "code",
   "execution_count": 31,
   "metadata": {
    "id": "t16U72jkAnaH"
   },
   "outputs": [],
   "source": [
    "# Number of folds\n",
    "k = 5\n",
    "\n",
    "# Initial stratification with rotating index by random ID\n",
    "df_stratified = df_final.withColumn(\n",
    "    \"row_id\", F.row_number().over(Window.orderBy(F.monotonically_increasing_id()))\n",
    ")\n",
    "\n",
    "df_stratified = df_stratified.withColumn(\n",
    "    \"fold_id\", ((F.col(\"row_id\") - F.lit(1)) % F.lit(k)).cast(\"int\")\n",
    ")\n",
    "\n",
    "df_stratified = df_stratified.persist(StorageLevel.DISK_ONLY)"
   ]
  },
  {
   "cell_type": "markdown",
   "metadata": {
    "id": "Lhx-wq5pAnaH"
   },
   "source": [
    "**5.3 Initialization of the Model and Evaluation Metrics**"
   ]
  },
  {
   "cell_type": "code",
   "execution_count": 32,
   "metadata": {
    "id": "l4WtMUWHhN_J"
   },
   "outputs": [],
   "source": [
    "accuracy_evaluator = MulticlassClassificationEvaluator(labelCol=\"label\", predictionCol=\"prediction\", metricName=\"accuracy\")\n",
    "precision_evaluator = MulticlassClassificationEvaluator(labelCol=\"label\", predictionCol=\"prediction\", metricName=\"weightedPrecision\")\n",
    "recall_evaluator = MulticlassClassificationEvaluator(labelCol=\"label\", predictionCol=\"prediction\", metricName=\"weightedRecall\")\n",
    "f1_evaluator = MulticlassClassificationEvaluator(labelCol=\"label\", predictionCol=\"prediction\", metricName=\"f1\")"
   ]
  },
  {
   "cell_type": "markdown",
   "metadata": {
    "id": "bjavOETzAnaH"
   },
   "source": [
    "**5.4 Cross-Validation with RandomForestClassifier (per fold)**"
   ]
  },
  {
   "cell_type": "code",
   "execution_count": 33,
   "metadata": {},
   "outputs": [],
   "source": [
    "def print_heatmap(cm, labels):\n",
    "    plt.figure(figsize=(6, 4))\n",
    "    sns.heatmap(cm, annot=True, fmt='d', cmap='Blues',\n",
    "                xticklabels=labels,\n",
    "                yticklabels=labels)\n",
    "    plt.xlabel('Predicted')\n",
    "    plt.ylabel('Actual')\n",
    "    plt.title('Confusion Matrix Heatmap')\n",
    "    plt.tight_layout()\n",
    "    plt.show()\n",
    "\n",
    "def plot_multiclass_roc_all_folds(fold_roc_data, class_labels):\n",
    "    \"\"\"\n",
    "    Plot an ROC curve per class, with the curves from all folds\n",
    "    \"\"\"\n",
    "    n_classes = len(class_labels)\n",
    "    fig, axes = plt.subplots(1, n_classes, figsize=(6 * n_classes, 5), sharey=True)\n",
    "\n",
    "    if n_classes == 1:\n",
    "        axes = [axes]  # Ensure iterablility\n",
    "\n",
    "    for idx, class_val in enumerate(class_labels):\n",
    "        ax = axes[idx]\n",
    "        for entry in fold_roc_data:\n",
    "            if entry[\"class\"] == class_val:\n",
    "                ax.plot(entry[\"fpr\"], entry[\"tpr\"],\n",
    "                        label=f'Fold {entry[\"fold\"]} (AUC={entry[\"auc\"]:.2f})',\n",
    "                        lw=1.5)\n",
    "\n",
    "        ax.plot([0, 1], [0, 1], 'k--', lw=1)\n",
    "        ax.set_xlim([0.0, 1.0])\n",
    "        ax.set_ylim([0.0, 1.05])\n",
    "        ax.set_xlabel('False Positive Rate')\n",
    "        ax.set_ylabel('True Positive Rate')\n",
    "        ax.set_title(f'ROC Curve - Clase {class_val}')\n",
    "        ax.legend(loc='lower right')\n",
    "        ax.grid(True)\n",
    "\n",
    "    plt.tight_layout()\n",
    "    plt.show()\n",
    "\n",
    "def plot_multiclass_auc_bars(fold_auc_scores):\n",
    "    import pandas as pd\n",
    "\n",
    "    df_auc = pd.DataFrame(fold_auc_scores)\n",
    "\n",
    "    plt.figure(figsize=(10, 5))\n",
    "    sns.barplot(data=df_auc, x=\"fold\", y=\"auc\", hue=\"class\", palette=\"Set2\")\n",
    "    plt.ylim(0.0, 1.05)\n",
    "    plt.ylabel(\"AUC\")\n",
    "    plt.xlabel(\"Fold\")\n",
    "    plt.title(\"AUC by Class and Fold\")\n",
    "    plt.legend(title=\"Class\", loc='upper right')\n",
    "    plt.tight_layout()\n",
    "    plt.show()"
   ]
  },
  {
   "cell_type": "code",
   "execution_count": 34,
   "metadata": {
    "id": "LcrqHeGnAnaH",
    "outputId": "2cad68a1-796d-4373-abd0-e09bb435df21"
   },
   "outputs": [
    {
     "name": "stdout",
     "output_type": "stream",
     "text": [
      "\n",
      "🔄 Fold 1/5\n",
      "  ✅ Accuracy:  0.7832\n",
      "  ✅ Precision: 0.7902\n",
      "  ✅ Recall:    0.7832\n",
      "  ✅ F1-Score:  0.7713\n",
      "\n",
      " Confusion matrix:\n",
      "[[40692   826  2419]\n",
      " [  680 34705  3087]\n",
      " [16745  1332 15220]]\n"
     ]
    },
    {
     "data": {
      "image/png": "[encoded data removed]",
      "text/plain": [
       "<Figure size 600x400 with 2 Axes>"
      ]
     },
     "metadata": {},
     "output_type": "display_data"
    },
    {
     "name": "stdout",
     "output_type": "stream",
     "text": [
      "\n",
      "🔄 Fold 2/5\n",
      "  ✅ Accuracy:  0.7814\n",
      "  ✅ Precision: 0.7869\n",
      "  ✅ Recall:    0.7814\n",
      "  ✅ F1-Score:  0.7697\n",
      "\n",
      " Confusion matrix:\n",
      "[[40844   789  2721]\n",
      " [  692 34674  3103]\n",
      " [16726  1263 14894]]\n"
     ]
    },
    {
     "data": {
      "image/png": "[encoded data removed]",
      "text/plain": [
       "<Figure size 600x400 with 2 Axes>"
      ]
     },
     "metadata": {},
     "output_type": "display_data"
    },
    {
     "name": "stdout",
     "output_type": "stream",
     "text": [
      "\n",
      "🔄 Fold 3/5\n",
      "  ✅ Accuracy:  0.7633\n",
      "  ✅ Precision: 0.7848\n",
      "  ✅ Recall:    0.7633\n",
      "  ✅ F1-Score:  0.7414\n",
      "\n",
      " Confusion matrix:\n",
      "[[40891  1575  1598]\n",
      " [ 1723 35364  1311]\n",
      " [19172  2014 12058]]\n"
     ]
    },
    {
     "data": {
      "image/png": "[encoded data removed]",
      "text/plain": [
       "<Figure size 600x400 with 2 Axes>"
      ]
     },
     "metadata": {},
     "output_type": "display_data"
    },
    {
     "name": "stdout",
     "output_type": "stream",
     "text": [
      "\n",
      "🔄 Fold 4/5\n",
      "  ✅ Accuracy:  0.7811\n",
      "  ✅ Precision: 0.7916\n",
      "  ✅ Recall:    0.7811\n",
      "  ✅ F1-Score:  0.7650\n",
      "\n",
      " Confusion matrix:\n",
      "[[40809   937  2455]\n",
      " [  844 35724  1758]\n",
      " [17708  1623 13848]]\n"
     ]
    },
    {
     "data": {
      "image/png": "[encoded data removed]",
      "text/plain": [
       "<Figure size 600x400 with 2 Axes>"
      ]
     },
     "metadata": {},
     "output_type": "display_data"
    },
    {
     "name": "stdout",
     "output_type": "stream",
     "text": [
      "\n",
      "🔄 Fold 5/5\n",
      "  ✅ Accuracy:  0.7796\n",
      "  ✅ Precision: 0.7890\n",
      "  ✅ Recall:    0.7796\n",
      "  ✅ F1-Score:  0.7645\n",
      "\n",
      " Confusion matrix:\n",
      "[[40435   902  2750]\n",
      " [  869 35718  1816]\n",
      " [17671  1493 14052]]\n"
     ]
    },
    {
     "data": {
      "image/png": "[encoded data removed]",
      "text/plain": [
       "<Figure size 600x400 with 2 Axes>"
      ]
     },
     "metadata": {},
     "output_type": "display_data"
    }
   ],
   "source": [
    "results = []\n",
    "average_confusion_matrix = []\n",
    "confusion_matrix_labels = []\n",
    "\n",
    "fold_roc_data = []       # Save ROC curves per class and fold\n",
    "fold_auc_scores = []     # Save AUCs per class and fold\n",
    "class_labels = None      # Defined dynamically\n",
    "\n",
    "for i in range(k):\n",
    "    print(f\"\\n🔄 Fold {i+1}/{k}\")\n",
    "\n",
    "    try:\n",
    "        # Separate test and train folds\n",
    "        test_df = df_stratified.filter(F.col(\"fold_id\") == i).select(\"features\", \"label\")\n",
    "        train_df = df_stratified.filter(F.col(\"fold_id\") != i).select(\"features\", \"label\")\n",
    "\n",
    "        label_fractions = df_stratified \\\n",
    "            .filter(F.col(\"fold_id\") != i) \\\n",
    "            .select(\"label\") \\\n",
    "            .distinct() \\\n",
    "            .rdd \\\n",
    "            .map(lambda row: (row[\"label\"], 0.3)) \\\n",
    "            .collectAsMap()\n",
    "     \n",
    "        # Apply stratified sampling\n",
    "        train_df = df_stratified \\\n",
    "            .filter(F.col(\"fold_id\") != i) \\\n",
    "            .sampleBy(\"label\", fractions=label_fractions, seed=42) \\\n",
    "            .select(\"features\", \"label\")\n",
    "\n",
    "        # Model configuration\n",
    "        rf = RandomForestClassifier(\n",
    "            featuresCol=\"features\",\n",
    "            labelCol=\"label\",\n",
    "            predictionCol=\"prediction\",\n",
    "            numTrees=10,\n",
    "            maxDepth=4,\n",
    "            seed=42\n",
    "        )\n",
    "\n",
    "        model = rf.fit(train_df)\n",
    "        predictions = model.transform(test_df)\n",
    "        \n",
    "        # Evaluation\n",
    "        accuracy = accuracy_evaluator.evaluate(predictions)\n",
    "        precision = precision_evaluator.evaluate(predictions)\n",
    "        recall = recall_evaluator.evaluate(predictions)\n",
    "        f1 = f1_evaluator.evaluate(predictions)\n",
    "\n",
    "        results.append({\n",
    "            \"Fold\": i + 1,\n",
    "            \"Accuracy\": accuracy,\n",
    "            \"Precision\": precision,\n",
    "            \"Recall\": recall,\n",
    "            \"F1-Score\": f1\n",
    "        })\n",
    "\n",
    "        print(f\"  ✅ Accuracy:  {accuracy:.4f}\")\n",
    "        print(f\"  ✅ Precision: {precision:.4f}\")\n",
    "        print(f\"  ✅ Recall:    {recall:.4f}\")\n",
    "        print(f\"  ✅ F1-Score:  {f1:.4f}\")\n",
    "\n",
    "        # Confusion matrix\n",
    "        predictions\n",
    "        sample_preds = predictions.select(\"label\", \"prediction\", \"probability\").toPandas()\n",
    "        print(\"\\n Confusion matrix:\")\n",
    "        cm = confusion_matrix(sample_preds[\"label\"], sample_preds[\"prediction\"])\n",
    "        print(cm)\n",
    "        average_confusion_matrix.append(cm)\n",
    "        confusion_matrix_labels = sorted(sample_preds[\"label\"].unique())\n",
    "        print_heatmap(cm, confusion_matrix_labels)\n",
    "\n",
    "        # Convert true labels and probabilities\n",
    "        y_true = sample_preds[\"label\"].values\n",
    "        y_proba = np.vstack(sample_preds[\"probability\"].apply(lambda x: x.toArray()))\n",
    "        \n",
    "        # Binarize labels (One-vs-Rest)\n",
    "        if class_labels is None:\n",
    "            class_labels = np.unique(y_true)\n",
    "        \n",
    "        y_true_bin = label_binarize(y_true, classes=class_labels)\n",
    "        \n",
    "        # Compute ROC curve and AUC for each class\n",
    "        for class_index in range(len(class_labels)):\n",
    "            fpr, tpr, _ = roc_curve(y_true_bin[:, class_index], y_proba[:, class_index])\n",
    "            roc_auc = auc(fpr, tpr)\n",
    "        \n",
    "            fold_roc_data.append({\n",
    "                \"fold\": i + 1,\n",
    "                \"class\": class_labels[class_index],\n",
    "                \"fpr\": fpr,\n",
    "                \"tpr\": tpr,\n",
    "                \"auc\": roc_auc\n",
    "            })\n",
    "        \n",
    "            fold_auc_scores.append({\n",
    "                \"fold\": i + 1,\n",
    "                \"class\": class_labels[class_index],\n",
    "                \"auc\": roc_auc\n",
    "            })\n",
    "\n",
    "\n",
    "    except Exception as e:\n",
    "        print(f\"❌ Error en Fold {i+1}: {e}\")\n",
    "        results.append({\n",
    "            \"Fold\": i + 1,\n",
    "            \"Accuracy\": None,\n",
    "            \"Precision\": None,\n",
    "            \"Recall\": None,\n",
    "            \"F1-Score\": None\n",
    "        })\n",
    "\n",
    "    finally:\n",
    "        # Aggressive cleanup of variables to free heap\n",
    "        for var in [\"train_df\", \"test_df\", \"predictions\", \"model\"]:\n",
    "            if var in locals():\n",
    "                try:\n",
    "                    eval(f\"{var}.unpersist()\")\n",
    "                except:\n",
    "                    pass\n",
    "                del globals()[var]\n",
    "        gc.collect()\n",
    "        spark._jvm.System.gc()"
   ]
  },
  {
   "cell_type": "markdown",
   "metadata": {},
   "source": [
    "**5.5 Visualization of Weighted Results from Cross-Validation**"
   ]
  },
  {
   "cell_type": "code",
   "execution_count": 35,
   "metadata": {},
   "outputs": [],
   "source": [
    "avg_cm = np.mean(average_confusion_matrix, axis=0).round(2)"
   ]
  },
  {
   "cell_type": "code",
   "execution_count": 36,
   "metadata": {},
   "outputs": [
    {
     "data": {
      "image/png": "[encoded data removed]",
      "text/plain": [
       "<Figure size 600x400 with 2 Axes>"
      ]
     },
     "metadata": {},
     "output_type": "display_data"
    }
   ],
   "source": [
    "plt.figure(figsize=(6, 4))\n",
    "sns.heatmap(avg_cm, annot=True, fmt='.2f', cmap='Blues',\n",
    "            xticklabels=confusion_matrix_labels,\n",
    "            yticklabels=confusion_matrix_labels)\n",
    "plt.xlabel('Predicted')\n",
    "plt.ylabel('Actual')\n",
    "plt.title('Confusion Matrix Heatmap')\n",
    "plt.tight_layout()\n",
    "plt.show()"
   ]
  },
  {
   "cell_type": "code",
   "execution_count": 37,
   "metadata": {},
   "outputs": [
    {
     "data": {
      "image/png": "[encoded data removed]",
      "text/plain": [
       "<Figure size 1800x500 with 3 Axes>"
      ]
     },
     "metadata": {},
     "output_type": "display_data"
    }
   ],
   "source": [
    "plot_multiclass_roc_all_folds(fold_roc_data, class_labels)"
   ]
  },
  {
   "cell_type": "code",
   "execution_count": 38,
   "metadata": {},
   "outputs": [
    {
     "data": {
      "image/png": "[encoded data removed]",
      "text/plain": [
       "<Figure size 1000x500 with 1 Axes>"
      ]
     },
     "metadata": {},
     "output_type": "display_data"
    }
   ],
   "source": [
    "plot_multiclass_auc_bars(fold_auc_scores)"
   ]
  },
  {
   "cell_type": "markdown",
   "metadata": {
    "id": "46qg3jOcG7a2"
   },
   "source": [
    "**5.6 Considerations on Data Volume and Sampling in Training**\n",
    "\n",
    "As discussed in Section 1, K-Fold cross-validation involves training the model ‘k’ times, using in each iteration a considerable subset of the dataset for training (approximately 80% in our case with k=5). While this approach is ideal for obtaining a robust evaluation of model performance, it presents practical challenges when working with large datasets or in environments with limited computational resources—an especially relevant scenario in the context of Big Data Analysis.\n",
    "\n",
    "During implementation, we faced memory limitations when attempting to load and train the `RandomForestClassifier` model using the full 80% of the dataset for each training fold within the cross-validation loop. Training a complex model repeatedly on such a large data volume (even after the initial sampling step to create sample M) exceeded the available memory capacity in our execution environment (Google Colab with default configurations, or specific local hardware).\n",
    "\n",
    "To complete the experimentation and obtain an estimate of model performance within the available resources, we decided to apply **additional sampling** inside each iteration of the cross-validation loop, specifically on the training set (`train_df`). As shown in the code, we used 30% of the records from each class per fold.\n",
    "\n",
    "This adaptation, while **not the standard practice in K-Fold cross-validation** (which ideally uses the full k-1 folds for training), was a **necessary compromise** imposed by memory constraints. By training on a random 30% of the training set in each fold, we significantly reduced the volume of data processed per iteration, allowing the training process to run without exhausting memory resources.\n",
    "\n",
    "**Implications of this adaptation:**\n",
    "\n",
    "*   **Feasibility:** It allowed us to carry out cross-validation and obtain evaluable results, fulfilling the activity’s objective of experimenting with and visualizing model performance.\n",
    "*   **Potential Impact on Results:** Training the model on a smaller subset of data (30% of the training fold instead of 100%) may affect performance estimation. The model may not learn patterns as thoroughly as it would with the full training fold. This could result in slightly lower performance estimates or, potentially, greater variability across folds since each training set is smaller.\n",
    "\n",
    "We acknowledge that a full evaluation using 80% of the data per fold would provide a more accurate estimate of model performance on a large dataset. However, this adaptation illustrates a common challenge in Big Data handling: the need to adjust standard methodologies (such as full cross-validation) or to use sampling techniques or distributed architectures (such as native Spark MLlib, if the model were available and efficient in its distributed version) in order to operate within resource constraints. In this case, we opted for sampling to allow the experiment to be executed.\n"
   ]
  },
  {
   "cell_type": "markdown",
   "metadata": {
    "id": "9Ngsc1oSAnaH"
   },
   "source": [
    "**5.7 Summary of Metrics**"
   ]
  },
  {
   "cell_type": "code",
   "execution_count": 39,
   "metadata": {
    "id": "T6UZ79qlAnaI",
    "outputId": "afdd44cd-1866-45df-abe5-88877bbc7432"
   },
   "outputs": [
    {
     "name": "stdout",
     "output_type": "stream",
     "text": [
      "\n",
      "📊 Summary of metrics per fold:\n",
      "   Fold  Accuracy  Precision    Recall  F1-Score\n",
      "0     1  0.783166   0.790234  0.783166  0.771316\n",
      "1     2  0.781394   0.786933  0.781394  0.769711\n",
      "2     3  0.763253   0.784792  0.763253  0.741399\n",
      "3     4  0.781126   0.791572  0.781126  0.764977\n",
      "4     5  0.779605   0.788957  0.779605  0.764496\n",
      "\n",
      "📈 Averages:\n",
      "Fold         3.000000\n",
      "Accuracy     0.777709\n",
      "Precision    0.788497\n",
      "Recall       0.777709\n",
      "F1-Score     0.762380\n",
      "dtype: float64\n"
     ]
    }
   ],
   "source": [
    "results_df = pd.DataFrame(results)\n",
    "print(\"\\n📊 Summary of metrics per fold:\")\n",
    "print(results_df)\n",
    "print(\"\\n📈 Averages:\")\n",
    "print(results_df.mean(numeric_only=True))"
   ]
  },
  {
   "cell_type": "markdown",
   "metadata": {},
   "source": [
    "**5.8 Final Supervised Model**"
   ]
  },
  {
   "cell_type": "markdown",
   "metadata": {},
   "source": [
    "We performed the training of the final model with the hyperparameters already selected through cross-validation."
   ]
  },
  {
   "cell_type": "code",
   "execution_count": 40,
   "metadata": {},
   "outputs": [],
   "source": [
    "rf_final = RandomForestClassifier(\n",
    "    featuresCol=\"features\",\n",
    "    labelCol=\"label\",\n",
    "    predictionCol=\"prediction\",\n",
    "    numTrees=10,\n",
    "    maxDepth=4,\n",
    "    seed=42\n",
    ")\n",
    "\n",
    "model_final = rf_final.fit(df_final)"
   ]
  },
  {
   "cell_type": "markdown",
   "metadata": {},
   "source": [
    "**5.9 Example of a Prediction**"
   ]
  },
  {
   "cell_type": "code",
   "execution_count": 41,
   "metadata": {},
   "outputs": [
    {
     "data": {
      "text/plain": [
       "DataFrame[trip_id: string, trip_hour: string, trip_day_of_week: string, duration_minutes: double, trip_miles: double, tip_per_mile: double, payment_group: string, company_group: string, pickup_zone_group: string, dropoff_zone_group: string, tip_ratio_group: string, trip_hour_idx: double, trip_day_of_week_idx: double, payment_group_idx: double, company_group_idx: double, pickup_zone_group_idx: double, dropoff_zone_group_idx: double, trip_hour_vec: vector, trip_day_of_week_vec: vector, payment_group_vec: vector, company_group_vec: vector, pickup_zone_group_vec: vector, dropoff_zone_group_vec: vector, features: vector, label: double]"
      ]
     },
     "execution_count": 41,
     "metadata": {},
     "output_type": "execute_result"
    }
   ],
   "source": [
    "registry = df_final.orderBy(F.rand()).limit(1)\n",
    "registry"
   ]
  },
  {
   "cell_type": "code",
   "execution_count": 42,
   "metadata": {},
   "outputs": [
    {
     "name": "stdout",
     "output_type": "stream",
     "text": [
      "+----------------------------------------+-----+----------+-----------------------------------------------------------------------+\n",
      "|trip_id                                 |label|prediction|features                                                               |\n",
      "+----------------------------------------+-----+----------+-----------------------------------------------------------------------+\n",
      "|b591c93c843d8fa8a83d7e997050679d1811a2c9|1.0  |1.0       |(54,[5,24,33,35,42,46,51],[1.0,1.0,1.0,1.0,1.0,1.0,51.166666666666664])|\n",
      "+----------------------------------------+-----+----------+-----------------------------------------------------------------------+\n",
      "\n"
     ]
    }
   ],
   "source": [
    "prediccion = model_final.transform(registry)\n",
    "example = prediccion.select(\"trip_id\", \"label\", \"prediction\", \"features\").limit(1)\n",
    "example.show(truncate=False)"
   ]
  },
  {
   "cell_type": "markdown",
   "metadata": {
    "id": "jBWYYEjnlDlS"
   },
   "source": [
    "## **6. Unsupervised Model: K-Means for Clustering**"
   ]
  },
  {
   "cell_type": "markdown",
   "metadata": {
    "id": "2aoCAlB2AnaI"
   },
   "source": [
    "**6.1 Training the K-Means model**"
   ]
  },
  {
   "cell_type": "code",
   "execution_count": 43,
   "metadata": {
    "id": "if2CDqjlAnaI",
    "outputId": "f9024098-1d12-4d9d-c4da-0e6110f2107e"
   },
   "outputs": [],
   "source": [
    "kmeans = KMeans(featuresCol=\"features\", k=4, seed=42)\n",
    "model = kmeans.fit(df_clustering)\n",
    "predictions = model.transform(df_clustering)"
   ]
  },
  {
   "cell_type": "markdown",
   "metadata": {
    "id": "zFh2N_ukn7gw"
   },
   "source": [
    "**6.2 Evaluation metrics of the unsupervised model**"
   ]
  },
  {
   "cell_type": "code",
   "execution_count": 44,
   "metadata": {
    "colab": {
     "base_uri": "https://localhost:8080/",
     "height": 599
    },
    "id": "DkDHSt07KD7Z",
    "outputId": "7113ad49-99b3-44d3-ac2f-95c20f353b06"
   },
   "outputs": [
    {
     "name": "stdout",
     "output_type": "stream",
     "text": [
      "Silhouette Score: 0.4276\n",
      "WSSSE (total inertia): 41951499.02\n"
     ]
    }
   ],
   "source": [
    "evaluator = ClusteringEvaluator(\n",
    "    featuresCol=\"features\",\n",
    "    metricName=\"silhouette\",\n",
    "    distanceMeasure=\"squaredEuclidean\"\n",
    ")\n",
    "\n",
    "silhouette = evaluator.evaluate(predictions)\n",
    "wssse = model.summary.trainingCost\n",
    "\n",
    "print(f\"Silhouette Score: {silhouette:.4f}\")\n",
    "print(f\"WSSSE (total inertia): {wssse:.2f}\")"
   ]
  },
  {
   "cell_type": "markdown",
   "metadata": {
    "id": "KKcx_Br9AnaI"
   },
   "source": [
    "**6.3 Evaluation metrics of the unsupervised model**"
   ]
  },
  {
   "cell_type": "code",
   "execution_count": 45,
   "metadata": {
    "id": "dvVTfjHPAnaJ",
    "outputId": "93e223b4-24b1-4588-e520-c7e7cbd48259"
   },
   "outputs": [
    {
     "name": "stdout",
     "output_type": "stream",
     "text": [
      "Cluster distribution:\n",
      "+----------+------+\n",
      "|prediction| count|\n",
      "+----------+------+\n",
      "|         0|164642|\n",
      "|         1| 88479|\n",
      "|         2|160146|\n",
      "|         3|166091|\n",
      "+----------+------+\n",
      "\n"
     ]
    }
   ],
   "source": [
    "print(\"Cluster distribution:\")\n",
    "predictions.groupBy(\"prediction\").count().orderBy(\"prediction\").show()"
   ]
  },
  {
   "cell_type": "markdown",
   "metadata": {
    "id": "1u1JHVg_C89V"
   },
   "source": [
    "**6.4 Visualization of Clusters in 2D (using PCA)**"
   ]
  },
  {
   "cell_type": "code",
   "execution_count": null,
   "metadata": {
    "id": "dlsS5TxkC-zD",
    "outputId": "b6f90dc5-6044-47f8-95b4-26fb790d4876"
   },
   "outputs": [],
   "source": [
    "# Reducing dimensions to 2 for visualization\n",
    "pca = PCA(k=2, inputCol=\"features\", outputCol=\"pca_features\")\n",
    "pca_model = pca.fit(predictions)\n",
    "pca_result = pca_model.transform(predictions)\n",
    "\n",
    "# Converting to Pandas for visualization\n",
    "plot_data = (\n",
    "    pca_result.select(\"pca_features\", \"prediction\")\n",
    "    .rdd.map(lambda row: (\n",
    "        float(row[\"pca_features\"][0]),  # Converting to native float\n",
    "        float(row[\"pca_features\"][1]),  # Converting to native float\n",
    "        int(row[\"prediction\"])         \n",
    "    ))\n",
    "    .toDF([\"x\", \"y\", \"cluster\"])\n",
    "    .toPandas()\n",
    ")\n",
    "\n",
    "plt.figure(figsize=(8, 6))\n",
    "for cluster_id in sorted(plot_data[\"cluster\"].unique()):\n",
    "    cluster_data = plot_data[plot_data[\"cluster\"] == cluster_id]\n",
    "    plt.scatter(cluster_data[\"x\"], cluster_data[\"y\"], label=f\"Cluster {cluster_id}\", alpha=0.6)\n",
    "\n",
    "plt.title(\"Visualization of Clusters with PCA (K=4)\")\n",
    "plt.xlabel(\"Principal Component 1\")\n",
    "plt.ylabel(\"Principal Component 2\")\n",
    "plt.legend()\n",
    "plt.grid(True)\n",
    "plt.show()"
   ]
  },
  {
   "cell_type": "markdown",
   "metadata": {
    "id": "bsM9gCyYD9hU"
   },
   "source": [
    "## **7. Visualization of Results**"
   ]
  },
  {
   "cell_type": "markdown",
   "metadata": {
    "id": "5MAulYqGMUzW"
   },
   "source": [
    "An analysis of the stability of classification metrics obtained through cross-validation was carried out. Bar plots and boxplots were used to examine variability by fold, and statistical measures (mean and standard deviation) were calculated as a synthesis of the model’s behavior. These metrics allow us to evaluate not only the average performance, but also the consistency of the model across different partitions of the dataset."
   ]
  },
  {
   "cell_type": "markdown",
   "metadata": {
    "id": "Bh4nwvFtLiQG"
   },
   "source": [
    "**7.1 Initial Configuration of the Visualization Environment**"
   ]
  },
  {
   "cell_type": "code",
   "execution_count": null,
   "metadata": {
    "id": "YTlOhSj8EDJX",
    "outputId": "dff2be07-15dd-4bc9-e8a0-98937bdc4c30"
   },
   "outputs": [],
   "source": [
    "# A uniform visual style is defined and the overall figure size is adjusted.\n",
    "sns.set(style=\"whitegrid\", font_scale=1.1)\n",
    "plt.figure(figsize=(12, 6))\n",
    "\n",
    "# List of key metrics to be evaluated for each fold of the K-Fold Cross-Validation.\n",
    "metricas = [\"Accuracy\", \"Precision\", \"Recall\", \"F1-Score\"]"
   ]
  },
  {
   "cell_type": "markdown",
   "metadata": {
    "id": "CU85HIphLvRv"
   },
   "source": [
    "**7.2 Individual Visualization of Metrics per Fold**"
   ]
  },
  {
   "cell_type": "code",
   "execution_count": null,
   "metadata": {
    "id": "hvEEi2drL3QF",
    "outputId": "cd8a3add-27e0-46bb-9e69-2bd79028370f"
   },
   "outputs": [],
   "source": [
    "# A bar chart is generated for each metric, showing its value per fold.\n",
    "# This makes it possible to identify the model’s stability and consistency across partitions.\n",
    "\n",
    "for metric in metricas:\n",
    "    plt.figure(figsize=(10, 5))\n",
    "    sns.barplot(data=results_df, x=\"Fold\", y=metric, palette=\"Blues_d\")\n",
    "    plt.title(f\"{metric} por Fold\")\n",
    "    plt.ylim(0, 1)\n",
    "    plt.ylabel(metric)\n",
    "    plt.xlabel(\"Fold\")\n",
    "    plt.tight_layout()\n",
    "    plt.show()"
   ]
  },
  {
   "cell_type": "markdown",
   "metadata": {
    "id": "P2A7Y0R1L7MV"
   },
   "source": [
    "**7.3 Boxplot of Metrics for Dispersion Analysis**"
   ]
  },
  {
   "cell_type": "code",
   "execution_count": null,
   "metadata": {
    "id": "2BJw99NKL_Dd",
    "outputId": "ffa7f84a-ea87-4afa-aa32-e9412f29e654"
   },
   "outputs": [],
   "source": [
    "# The boxplot allows visual comparison of the dispersion of metrics across folds,\n",
    "# Identifying possible outliers or significant variability.\n",
    "\n",
    "plt.figure(figsize=(10, 6))\n",
    "sns.boxplot(data=results_df[metricas])\n",
    "plt.title(\"Distribution of Metrics by Fold\")\n",
    "plt.ylabel(\"Value\")\n",
    "plt.xlabel(\"Metrics\")\n",
    "plt.tight_layout()\n",
    "plt.show()"
   ]
  },
  {
   "cell_type": "markdown",
   "metadata": {
    "id": "zrE0UvCrMCEX"
   },
   "source": [
    "**7.4 Calculation of General Statistics**"
   ]
  },
  {
   "cell_type": "code",
   "execution_count": null,
   "metadata": {
    "id": "Q1dlRKYXMERK",
    "outputId": "c2d4c055-479e-4c20-941a-56cea0b29261"
   },
   "outputs": [],
   "source": [
    "# Averages of each metric across all folds,\n",
    "# Useful for summarizing the overall performance of the model.\n",
    "print(\"General Averages of Metrics:\")\n",
    "print(results_df[metricas].mean())\n",
    "\n",
    "# Standard deviation of each metric, which allows evaluation of model stability.\n",
    "# Low values indicate consistency across folds; high values suggest significant variability.\n",
    "print(\"\\nStandard Deviation of Metrics:\")\n",
    "print(results_df[metricas].std())"
   ]
  },
  {
   "cell_type": "markdown",
   "metadata": {
    "id": "e3m1xE2dELUP"
   },
   "source": [
    "## **8. Discussion and Conclusion**"
   ]
  },
  {
   "cell_type": "markdown",
   "metadata": {
    "id": "AEhGB798lfnT"
   },
   "source": [
    "## **8.1. Selection of Metrics to Measure Result Quality**"
   ]
  },
  {
   "cell_type": "markdown",
   "metadata": {
    "id": "xtILkktIpuoR"
   },
   "source": [
    "This section presents and justifies the evaluation metrics selected to measure the quality of the results obtained from the models developed during the training stage, both in the context of supervised and unsupervised learning. The correct choice of these metrics is key to ensuring validity, interpretability, and practical usefulness of the models—especially in high-volume data contexts, where even small biases or errors can scale to significant operational impact."
   ]
  },
  {
   "cell_type": "markdown",
   "metadata": {
    "id": "sgB679DrzhOn"
   },
   "source": [
    "**8.1.1. Supervised Learning Algorithm – Classification with Random Forest**\n",
    "\n",
    "The task consists of predicting the class **`tip_ratio_group`**, which represents passenger tipping behavior and contains three categories: “Flat Fare Clients,” “Grateful Givers,” and “High-Spirit Donors.”\n",
    "\n",
    "Selected Metrics:\n",
    "\n",
    "1.   **Accuracy:** General performance metric, easy to interpret and suitable when classes are balanced through stratified sampling. Implemented as the baseline metric in the previous activity.\n",
    "2.   **Precisión:** \tEvaluates the correctness of positive predictions per class. Important when false positives need to be avoided (e.g., classifying a user as “High-Spirit Donor” when they are not).\n",
    "3.   **Recall:** \tMeasures the model’s ability to correctly identify all cases of a class. Useful when it is important not to miss relevant cases (e.g., true donors).\n",
    "4.   **F1-Score:** \tCombines precision and recall, balancing both. Particularly valuable in multiclass problems with classes balanced through sampling, as it avoids the bias introduced by a dominant class.\n",
    "5.   **Confusion Matrix:** \t\tAllows inspection of performance class by class, helps understand specific errors, and provides guidance for adjusting the model or class weights if necessary.\n",
    "\n",
    "These metrics will be calculated on the testing set (`test_df`), derived through stratified sampling, which ensures their validity."
   ]
  },
  {
   "cell_type": "markdown",
   "metadata": {
    "id": "2TRvwvUI02dI"
   },
   "source": [
    "**8.1.2. Unsupervised Learning Algorithm – Clustering with K-Means**\n",
    "\n",
    "For the clustering model, where no explicit target variable exists, we evaluate the cohesion and separation of the groups generated from the trip features.\n",
    "\n",
    "Selected Metrics:\n",
    "\n",
    "1.   **Within Set Sum of Squared Errors (WSSSE):** Also known as inertia, this metric measures the internal compactness of clusters. It is useful for selecting the optimal number of clusters using the elbow method.\n",
    "2.   **Silhouette Score:** \t\tMeasures cluster separation by considering intra-cluster cohesion and inter-cluster separation. Values close to 1 indicate well-defined clusters. This metric is efficient even with large data volumes.\n",
    "3.   **Cluster Distribution:** \tObserving the number of records per cluster helps identify extreme imbalances, which may indicate outliers or poor model configuration."
   ]
  },
  {
   "cell_type": "markdown",
   "metadata": {
    "id": "TPimVeXg1kXX"
   },
   "source": [
    "The combined use of these metrics provides a robust and multifaceted evaluation of model performance, aligned with data science best practices and ensuring result reliability in real-world environments. All metrics will be implemented and analyzed during the experimentation phase (Step 4 of the project), providing empirical evidence to the modeling process."
   ]
  },
  {
   "cell_type": "markdown",
   "metadata": {
    "id": "TVDlPUHlKgER"
   },
   "source": [
    "## **8.2. Analysis of Results**"
   ]
  },
  {
   "cell_type": "markdown",
   "metadata": {
    "id": "yYwJlYd4RIIm"
   },
   "source": [
    "### **8.2.1 Conclusion of the Supervised Learning Analysis**"
   ]
  },
  {
   "cell_type": "markdown",
   "metadata": {
    "id": "WmFk78nxOubR"
   },
   "source": [
    "This section focuses on the critical analysis of the results obtained through the application of a supervised learning model for predicting user profiles according to their tipping behavior in Chicago taxi trips. The target variable (`tip_ratio_group`) was segmented into three customer categories: Flat Fare Clients, Grateful Givers, and High-Spirit Donors, encoded as 0.0, 1.0, and 2.0, respectively.\n",
    "\n",
    "The quantitative results achieved are satisfactory. The model obtained an overall accuracy of 0.780675, along with a weighted F1-score of 0.765962, indicating an adequate balance between precision and recall for the three classes. Both weighted precision and recall, each close to 0.794028, reinforce this consistency in overall performance, especially considering the potential class imbalance.\n",
    "\n",
    "The averaged confusion matrix reveals that class 0 (High-Spirit Donors) achieved a high percentage of correct predictions in 92% of cases, while class 1 (Flat Fare Clients) achieved 90% accuracy.\n",
    "\n",
    "However, class 2.0 (Grateful Givers) shows greater relative confusion. On average, 14,479.6 cases were correctly classified as Grateful Givers, but 1,554.6 were incorrectly assigned to class 1.0, and 17,137.8 to class 0.0. This suggests a slight overlap in behavioral patterns between more generous clients and those with more moderate tipping, possibly due to shared explanatory features such as trip distance, affiliated company, or pickup area.\n",
    "\n",
    "As an illustration, we present an example of an individual prediction: a trip identified by trip_id = aaac0f63b5c4d999106df9cdddbc47d8c095d77b, with both actual and predicted label equal to 0.0, representing a High-Spirit Donor. This trip is characterized, among other things, by a duration of approximately 1.43 minutes and a distance of 2.098 miles, along with certain encoded categorical variables that influenced the model’s correct prediction.\n",
    "\n",
    "**Strengths**\n",
    "\n",
    "\n",
    "*   High predictive performance, even in multiclass classification scenarios.\n",
    "*   Effective generalization, supported by a low error rate on the testing set.\n",
    "*   Scalability of the approach, thanks to the use of PySpark, which enables efficient processing of large data volumes.\n",
    "\n",
    "\n",
    "**Areas for Improvement**\n",
    "\n",
    "\n",
    "*   Better discrimination for class 2.0, exploring improvements in feature engineering that capture more nuanced aspects of High-Spirit Donor behavior.\n",
    "*   Search for better hyperparameters using techniques such as GridSearch or RandomSearch.\n",
    "*   Evaluate the inclusion of more specific temporal variables (such as seasonality or special events) that may impact tipping patterns.\n",
    "*   Future implementation of techniques like SMOTE or cost-sensitive learning if more pronounced imbalances are identified when expanding the sample.\n",
    "\n",
    "**Conclusion:**\n",
    "The trained model demonstrates robust capacity to classify user behavior regarding tipping. Such classification can be key to personalizing loyalty strategies, market segmentation, or even dynamic incentives for drivers and passengers in urban mobility services."
   ]
  },
  {
   "cell_type": "markdown",
   "metadata": {
    "id": "Tfc-QdhHRSJ7"
   },
   "source": [
    "### **8.2.2 Conclusion of the Unsupervised Learning Analysis**"
   ]
  },
  {
   "cell_type": "markdown",
   "metadata": {
    "id": "LqnSCoF4QOej"
   },
   "source": [
    "In this section, we examine the results obtained from applying an unsupervised learning algorithm—specifically K-Means with K=4 clusters—on the processed taxi trip dataset. This technique was employed with the objective of identifying natural groupings among trip records without using predefined labels.\n",
    "\n",
    "**Quantitative Evaluation**\n",
    "The model achieved a Silhouette Score of 0.4552, indicating moderately high internal cohesion within the clusters formed, as well as reasonable separation between them. This value suggests that the partition generated by the algorithm captures meaningful latent structures in the data, though there remain opportunities to improve the definition of boundaries between some groups.\n",
    "\n",
    "Additionally, a WSSSE (Within Set Sum of Squared Errors) value of 40,617,944.35 was obtained, representing the total inertia of the model. Although such values tend to be high in large datasets, their main usefulness lies in comparative analysis across different values of K (which could be explored in future iterations using methods such as the Elbow Method).\n",
    "\n",
    "**Cluster Distribution**\n",
    "\n",
    "The analysis of record distribution across clusters reveals a highly imbalanced partition:\n",
    "\n",
    "*   Clúster 0: 149,533 registrys\n",
    "*   Clúster 1: 74,758 registrys\n",
    "*   Clúster 2: 218,027 registrys\n",
    "*   Clúster 3: 135,391 registrys\n",
    "\n",
    "**Visualization in Reduced Space**\n",
    "\n",
    "In the figure (Visualization of Clusters with PCA, K=4), a two-dimensional representation of the clusters projected using Principal Component Analysis (PCA) is presented. This dimensionality reduction made it possible to represent the groups in a more interpretable space, facilitating visual inspection of cluster boundaries.\n",
    "\n",
    "Observations:\n",
    "\n",
    "*   Clusters 1 (orange) and 3 (red) dominate the dense region of the graph, with clear boundaries in Principal Component 2 for values below -5.\n",
    "*   Clusters 0 (blue) and 2 (green) exhibit a well-defined boundary across both components.\n",
    "\n",
    "NOTE: It is important to consider that reducing dimensionality to two principal components may obscure internal patterns present in the data.\n",
    "\n",
    "**Model Strengths**\n",
    "\n",
    "* The relatively high Silhouette Score supports a segmentation with internal coherence.\n",
    "* PCA visualization offers interpretability and spatial evidence of real groupings.\n",
    "* The model is computationally efficient and scalable, well-suited to large datasets such as in this case.\n",
    "\n",
    "**Areas for Improvement**\n",
    "\n",
    "* Perform descriptive profiling for each cluster to identify the most representative variables.\n",
    "* Analyze results with other values of K to verify whether a larger number of clusters improves granularity without reducing cohesion.\n",
    "* Explore cluster validation using both internal and external metrics, as well as hierarchical analysis techniques.\n",
    "* Experiment with PCA visualization in 3 dimensions or with pairs of features.\n",
    "\n",
    "**Conclusion**\n",
    "The K-Means model successfully identified relevant latent structures in the data, with reasonable separation between segments. The results are promising for deriving user or trip profiles, and could serve as a foundation for differentiated strategies in service, customer loyalty, or promotional campaigns within urban mobility platforms."
   ]
  }
 ],
 "metadata": {
  "accelerator": "GPU",
  "colab": {
   "collapsed_sections": [
    "AEhGB798lfnT",
    "TVDlPUHlKgER"
   ],
   "gpuType": "A100",
   "machine_shape": "hm",
   "provenance": []
  },
  "kernelspec": {
   "display_name": "Python 3 (ipykernel)",
   "language": "python",
   "name": "python3"
  },
  "language_info": {
   "codemirror_mode": {
    "name": "ipython",
    "version": 3
   },
   "file_extension": ".py",
   "mimetype": "text/x-python",
   "name": "python",
   "nbconvert_exporter": "python",
   "pygments_lexer": "ipython3",
   "version": "3.11.13"
  }
 },
 "nbformat": 4,
 "nbformat_minor": 4
}
