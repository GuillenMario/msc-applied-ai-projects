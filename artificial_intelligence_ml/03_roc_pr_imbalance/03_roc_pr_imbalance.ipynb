{
 "cells": [
  {
   "cell_type": "markdown",
   "metadata": {
    "id": "Vcwn6Uf7uhNs"
   },
   "source": [
    "# **Master’s in Applied Artificial Intelligence**\n",
    "## **Course: Artificial Intelligence and Machine Learning**\n",
    "### Prof. Luis Eduardo Falcón Morales\n",
    "#### Tecnológico de Monterrey\n",
    "\n",
    "### **ROC and PR Curves Analysis for Imbalanced Datasets**\n",
    "##### **Name and student ID:**\n",
    "* Mario Guillen de la Torre - A01796701"
   ]
  },
  {
   "cell_type": "markdown",
   "metadata": {
    "id": "kRCOkHwLRnzT"
   },
   "source": [
    "# **Introduction**"
   ]
  },
  {
   "cell_type": "markdown",
   "metadata": {
    "id": "8Sf5NIkOyoWB"
   },
   "source": [
    "This activity is based on the well-known oil-spill dataset."
   ]
  },
  {
   "cell_type": "markdown",
   "metadata": {
    "id": "NAssj-ZfaefR"
   },
   "source": [
    "The dataset contains 50 columns and 937 records. The first 49 columns are metrics derived from satellite images of the ocean, some of which show oil spills from unknown sources. The article details how these features were extracted, but for this activity, it is enough to treat them as numerical values. The last column is binary: 1 indicates a spill in that section of the image, 0 means no spill.\n",
    "\n",
    "The article related to this dataset is available at the following link:\n",
    "https://webdocs.cs.ualberta.ca/~holte/Publications/oilspill.pdf"
   ]
  },
  {
   "cell_type": "markdown",
   "metadata": {
    "id": "kyKUDqIQjzUX"
   },
   "source": [
    "Additional information about many of the metrics used can be found here:\n",
    "\n",
    "https://scikit-learn.org/stable/modules/model_evaluation.html#scoring-parameter"
   ]
  },
  {
   "cell_type": "markdown",
   "metadata": {
    "id": "F2MPvM4qFqXt"
   },
   "source": [
    "The geometric mean can be computed from the above metrics, but for practical purposes, we'll use the implementation provided by the \"imbalanced-learn\" library:\n",
    "\n",
    "https://glemaitre.github.io/imbalanced-learn/generated/imblearn.metrics.geometric_mean_score.html"
   ]
  },
  {
   "cell_type": "code",
   "execution_count": 1,
   "metadata": {
    "id": "tITKimmr7qVx"
   },
   "outputs": [],
   "source": [
    "# Include all the libraries you consider appropriate:\n",
    "\n",
    "import pandas as pd\n",
    "import numpy as np\n",
    "import matplotlib.pyplot as plt\n",
    "from pandas import read_csv\n",
    "from sklearn.model_selection import train_test_split\n",
    "\n",
    "from sklearn.dummy import DummyClassifier\n",
    "from sklearn.model_selection import RepeatedStratifiedKFold\n",
    "from sklearn.metrics import make_scorer,RocCurveDisplay,PrecisionRecallDisplay, classification_report\n",
    "from sklearn.model_selection import cross_val_score, cross_validate\n",
    "from imblearn.metrics import geometric_mean_score\n",
    "from numpy import mean, std\n",
    "from sklearn.pipeline import Pipeline\n",
    "from sklearn.compose import ColumnTransformer\n",
    "from sklearn.impute import SimpleImputer\n",
    "from sklearn.preprocessing import StandardScaler, PowerTransformer, OneHotEncoder\n",
    "from sklearn.linear_model import LogisticRegression\n",
    "from sklearn.neighbors import KNeighborsClassifier"
   ]
  },
  {
   "cell_type": "markdown",
   "metadata": {
    "id": "l4jSSZhk_8kD"
   },
   "source": [
    "For the purpose of this activity, we’ll process the data in a standard way so we can focus on the main topics."
   ]
  },
  {
   "cell_type": "code",
   "execution_count": 2,
   "metadata": {
    "colab": {
     "base_uri": "https://localhost:8080/"
    },
    "id": "tGAgcXPWzJCy",
    "outputId": "202c17cc-9eb8-44e3-ae34-f96176a525d1"
   },
   "outputs": [
    {
     "name": "stdout",
     "output_type": "stream",
     "text": [
      "DataFrame Dimensions (937, 50)\n",
      "\n",
      "Partition:\n",
      "Train: Counts of positive class=29, Percentage=4.40%\n",
      "Val: Counts of positive class=7, Percentage=4.24%\n",
      "Test: Counts of positive class=5, Percentage=4.42%\n"
     ]
    }
   ],
   "source": [
    "path = 'oil_spill.csv'\n",
    "df = read_csv(path, header=None)    # columns have no names\n",
    "\n",
    "print('DataFrame Dimensions',df.shape)\n",
    "\n",
    "# We remove the following columns:\n",
    "df.drop(22, axis=1, inplace=True)    # This column contains only a constant value.\n",
    "df.drop(0, axis=1, inplace=True)     # This column contains information about image sections (batches), which we don't need.\n",
    "\n",
    "df.columns = [i for i in range(df.shape[1])]   # We rename the columns to use numerical indexes\n",
    "\n",
    "# We partition the input data (X) and output data (y):\n",
    "X,y = df.iloc[:,:-1], df.iloc[:,-1]\n",
    "\n",
    "Xtv, Xtest, ytv, ytest = train_test_split(X, y, test_size=0.12, stratify=y, shuffle=True, random_state=0)\n",
    "Xtrain, Xval, ytrain, yval = train_test_split(Xtv, ytv, test_size=0.2, shuffle=True, random_state=5)\n",
    "print('\\nPartition:')\n",
    "print('Train: Counts of positive class=%d, Percentage=%.2f%%' % (ytrain.sum(), 100*(ytrain.sum() / len(ytrain))))\n",
    "print('Val: Counts of positive class=%d, Percentage=%.2f%%' % (yval.sum(), 100*(yval.sum() / len(yval))))\n",
    "print('Test: Counts of positive class=%d, Percentage=%.2f%%' % (ytest.sum(), 100*(ytest.sum() / len(ytest))))"
   ]
  },
  {
   "cell_type": "markdown",
   "metadata": {
    "id": "-jLdlxjXBoK_"
   },
   "source": [
    "Brief numerical and graphical description of the training set:"
   ]
  },
  {
   "cell_type": "code",
   "execution_count": 3,
   "metadata": {
    "colab": {
     "base_uri": "https://localhost:8080/",
     "height": 1000
    },
    "id": "jVLkQMkygVb_",
    "outputId": "1df9174f-865c-4797-8b02-d8e66ebfb44b"
   },
   "outputs": [
    {
     "data": {
      "text/html": [
       "<div>\n",
       "<style scoped>\n",
       "    .dataframe tbody tr th:only-of-type {\n",
       "        vertical-align: middle;\n",
       "    }\n",
       "\n",
       "    .dataframe tbody tr th {\n",
       "        vertical-align: top;\n",
       "    }\n",
       "\n",
       "    .dataframe thead th {\n",
       "        text-align: right;\n",
       "    }\n",
       "</style>\n",
       "<table border=\"1\" class=\"dataframe\">\n",
       "  <thead>\n",
       "    <tr style=\"text-align: right;\">\n",
       "      <th></th>\n",
       "      <th>count</th>\n",
       "      <th>mean</th>\n",
       "      <th>std</th>\n",
       "      <th>min</th>\n",
       "      <th>25%</th>\n",
       "      <th>50%</th>\n",
       "      <th>75%</th>\n",
       "      <th>max</th>\n",
       "    </tr>\n",
       "  </thead>\n",
       "  <tbody>\n",
       "    <tr>\n",
       "      <th>0</th>\n",
       "      <td>659.0</td>\n",
       "      <td>344.153263</td>\n",
       "      <td>1.880555e+03</td>\n",
       "      <td>10.00</td>\n",
       "      <td>22.000</td>\n",
       "      <td>65.00</td>\n",
       "      <td>134.500</td>\n",
       "      <td>28526.00</td>\n",
       "    </tr>\n",
       "    <tr>\n",
       "      <th>1</th>\n",
       "      <td>659.0</td>\n",
       "      <td>709.286161</td>\n",
       "      <td>5.993162e+02</td>\n",
       "      <td>1.95</td>\n",
       "      <td>97.475</td>\n",
       "      <td>727.45</td>\n",
       "      <td>1242.135</td>\n",
       "      <td>1893.08</td>\n",
       "    </tr>\n",
       "    <tr>\n",
       "      <th>2</th>\n",
       "      <td>659.0</td>\n",
       "      <td>867.791608</td>\n",
       "      <td>5.145066e+02</td>\n",
       "      <td>1.00</td>\n",
       "      <td>445.065</td>\n",
       "      <td>791.35</td>\n",
       "      <td>1243.220</td>\n",
       "      <td>2674.16</td>\n",
       "    </tr>\n",
       "    <tr>\n",
       "      <th>3</th>\n",
       "      <td>659.0</td>\n",
       "      <td>85.078907</td>\n",
       "      <td>4.573682e+01</td>\n",
       "      <td>0.00</td>\n",
       "      <td>55.000</td>\n",
       "      <td>74.00</td>\n",
       "      <td>119.000</td>\n",
       "      <td>180.00</td>\n",
       "    </tr>\n",
       "    <tr>\n",
       "      <th>4</th>\n",
       "      <td>659.0</td>\n",
       "      <td>824339.418816</td>\n",
       "      <td>4.131627e+06</td>\n",
       "      <td>70312.00</td>\n",
       "      <td>127500.000</td>\n",
       "      <td>187500.00</td>\n",
       "      <td>348750.000</td>\n",
       "      <td>71315000.00</td>\n",
       "    </tr>\n",
       "    <tr>\n",
       "      <th>5</th>\n",
       "      <td>659.0</td>\n",
       "      <td>42.966449</td>\n",
       "      <td>1.259403e+01</td>\n",
       "      <td>21.24</td>\n",
       "      <td>33.430</td>\n",
       "      <td>39.64</td>\n",
       "      <td>51.975</td>\n",
       "      <td>82.64</td>\n",
       "    </tr>\n",
       "    <tr>\n",
       "      <th>6</th>\n",
       "      <td>659.0</td>\n",
       "      <td>9.162307</td>\n",
       "      <td>3.587007e+00</td>\n",
       "      <td>0.83</td>\n",
       "      <td>6.920</td>\n",
       "      <td>8.22</td>\n",
       "      <td>10.755</td>\n",
       "      <td>24.28</td>\n",
       "    </tr>\n",
       "    <tr>\n",
       "      <th>7</th>\n",
       "      <td>659.0</td>\n",
       "      <td>4119.098634</td>\n",
       "      <td>8.899523e+03</td>\n",
       "      <td>667.00</td>\n",
       "      <td>1404.750</td>\n",
       "      <td>2167.00</td>\n",
       "      <td>3600.000</td>\n",
       "      <td>160740.00</td>\n",
       "    </tr>\n",
       "    <tr>\n",
       "      <th>8</th>\n",
       "      <td>659.0</td>\n",
       "      <td>0.222898</td>\n",
       "      <td>8.984421e-02</td>\n",
       "      <td>0.02</td>\n",
       "      <td>0.170</td>\n",
       "      <td>0.21</td>\n",
       "      <td>0.260</td>\n",
       "      <td>0.74</td>\n",
       "    </tr>\n",
       "    <tr>\n",
       "      <th>9</th>\n",
       "      <td>659.0</td>\n",
       "      <td>110.288771</td>\n",
       "      <td>6.272348e+01</td>\n",
       "      <td>47.00</td>\n",
       "      <td>82.950</td>\n",
       "      <td>99.80</td>\n",
       "      <td>115.700</td>\n",
       "      <td>901.70</td>\n",
       "    </tr>\n",
       "    <tr>\n",
       "      <th>10</th>\n",
       "      <td>659.0</td>\n",
       "      <td>0.251608</td>\n",
       "      <td>8.625698e-02</td>\n",
       "      <td>0.02</td>\n",
       "      <td>0.200</td>\n",
       "      <td>0.24</td>\n",
       "      <td>0.290</td>\n",
       "      <td>0.63</td>\n",
       "    </tr>\n",
       "    <tr>\n",
       "      <th>11</th>\n",
       "      <td>659.0</td>\n",
       "      <td>0.311214</td>\n",
       "      <td>1.188971e-01</td>\n",
       "      <td>0.03</td>\n",
       "      <td>0.240</td>\n",
       "      <td>0.29</td>\n",
       "      <td>0.350</td>\n",
       "      <td>0.83</td>\n",
       "    </tr>\n",
       "    <tr>\n",
       "      <th>12</th>\n",
       "      <td>659.0</td>\n",
       "      <td>0.485706</td>\n",
       "      <td>2.129456e-01</td>\n",
       "      <td>0.05</td>\n",
       "      <td>0.330</td>\n",
       "      <td>0.44</td>\n",
       "      <td>0.615</td>\n",
       "      <td>1.19</td>\n",
       "    </tr>\n",
       "    <tr>\n",
       "      <th>13</th>\n",
       "      <td>659.0</td>\n",
       "      <td>0.183460</td>\n",
       "      <td>8.314772e-02</td>\n",
       "      <td>0.01</td>\n",
       "      <td>0.130</td>\n",
       "      <td>0.18</td>\n",
       "      <td>0.220</td>\n",
       "      <td>0.65</td>\n",
       "    </tr>\n",
       "    <tr>\n",
       "      <th>14</th>\n",
       "      <td>659.0</td>\n",
       "      <td>0.302382</td>\n",
       "      <td>2.019757e-01</td>\n",
       "      <td>0.01</td>\n",
       "      <td>0.130</td>\n",
       "      <td>0.27</td>\n",
       "      <td>0.420</td>\n",
       "      <td>1.10</td>\n",
       "    </tr>\n",
       "    <tr>\n",
       "      <th>15</th>\n",
       "      <td>659.0</td>\n",
       "      <td>83.765508</td>\n",
       "      <td>3.584974e+02</td>\n",
       "      <td>6.37</td>\n",
       "      <td>21.240</td>\n",
       "      <td>34.87</td>\n",
       "      <td>64.370</td>\n",
       "      <td>6058.23</td>\n",
       "    </tr>\n",
       "    <tr>\n",
       "      <th>16</th>\n",
       "      <td>659.0</td>\n",
       "      <td>35.155129</td>\n",
       "      <td>1.816125e+02</td>\n",
       "      <td>1.96</td>\n",
       "      <td>11.630</td>\n",
       "      <td>16.27</td>\n",
       "      <td>24.295</td>\n",
       "      <td>4061.15</td>\n",
       "    </tr>\n",
       "    <tr>\n",
       "      <th>17</th>\n",
       "      <td>659.0</td>\n",
       "      <td>0.903748</td>\n",
       "      <td>6.658546e-01</td>\n",
       "      <td>0.13</td>\n",
       "      <td>0.370</td>\n",
       "      <td>0.72</td>\n",
       "      <td>1.050</td>\n",
       "      <td>2.60</td>\n",
       "    </tr>\n",
       "    <tr>\n",
       "      <th>18</th>\n",
       "      <td>659.0</td>\n",
       "      <td>0.228604</td>\n",
       "      <td>7.270831e-02</td>\n",
       "      <td>0.02</td>\n",
       "      <td>0.180</td>\n",
       "      <td>0.22</td>\n",
       "      <td>0.270</td>\n",
       "      <td>0.58</td>\n",
       "    </tr>\n",
       "    <tr>\n",
       "      <th>19</th>\n",
       "      <td>659.0</td>\n",
       "      <td>0.289196</td>\n",
       "      <td>1.019243e-01</td>\n",
       "      <td>0.02</td>\n",
       "      <td>0.230</td>\n",
       "      <td>0.27</td>\n",
       "      <td>0.325</td>\n",
       "      <td>0.76</td>\n",
       "    </tr>\n",
       "    <tr>\n",
       "      <th>20</th>\n",
       "      <td>659.0</td>\n",
       "      <td>76.546813</td>\n",
       "      <td>2.296954e+01</td>\n",
       "      <td>47.66</td>\n",
       "      <td>55.850</td>\n",
       "      <td>75.26</td>\n",
       "      <td>85.220</td>\n",
       "      <td>126.08</td>\n",
       "    </tr>\n",
       "    <tr>\n",
       "      <th>21</th>\n",
       "      <td>659.0</td>\n",
       "      <td>0.634219</td>\n",
       "      <td>2.976817e-01</td>\n",
       "      <td>0.17</td>\n",
       "      <td>0.450</td>\n",
       "      <td>0.50</td>\n",
       "      <td>0.960</td>\n",
       "      <td>1.33</td>\n",
       "    </tr>\n",
       "    <tr>\n",
       "      <th>22</th>\n",
       "      <td>659.0</td>\n",
       "      <td>566.533612</td>\n",
       "      <td>6.147895e+02</td>\n",
       "      <td>132.78</td>\n",
       "      <td>221.970</td>\n",
       "      <td>351.67</td>\n",
       "      <td>422.120</td>\n",
       "      <td>2036.80</td>\n",
       "    </tr>\n",
       "    <tr>\n",
       "      <th>23</th>\n",
       "      <td>659.0</td>\n",
       "      <td>0.585751</td>\n",
       "      <td>7.080998e-01</td>\n",
       "      <td>-0.71</td>\n",
       "      <td>0.180</td>\n",
       "      <td>0.87</td>\n",
       "      <td>1.010</td>\n",
       "      <td>1.83</td>\n",
       "    </tr>\n",
       "    <tr>\n",
       "      <th>24</th>\n",
       "      <td>659.0</td>\n",
       "      <td>7.606980</td>\n",
       "      <td>4.020812e+00</td>\n",
       "      <td>2.96</td>\n",
       "      <td>4.660</td>\n",
       "      <td>5.07</td>\n",
       "      <td>12.060</td>\n",
       "      <td>14.78</td>\n",
       "    </tr>\n",
       "    <tr>\n",
       "      <th>25</th>\n",
       "      <td>659.0</td>\n",
       "      <td>0.613278</td>\n",
       "      <td>8.475365e-01</td>\n",
       "      <td>-1.79</td>\n",
       "      <td>0.100</td>\n",
       "      <td>0.49</td>\n",
       "      <td>0.990</td>\n",
       "      <td>5.58</td>\n",
       "    </tr>\n",
       "    <tr>\n",
       "      <th>26</th>\n",
       "      <td>659.0</td>\n",
       "      <td>4.325736</td>\n",
       "      <td>3.592343e+00</td>\n",
       "      <td>1.44</td>\n",
       "      <td>2.660</td>\n",
       "      <td>3.34</td>\n",
       "      <td>4.660</td>\n",
       "      <td>39.05</td>\n",
       "    </tr>\n",
       "    <tr>\n",
       "      <th>27</th>\n",
       "      <td>659.0</td>\n",
       "      <td>-2.850349</td>\n",
       "      <td>1.583273e+00</td>\n",
       "      <td>-7.76</td>\n",
       "      <td>-3.260</td>\n",
       "      <td>-2.78</td>\n",
       "      <td>-1.680</td>\n",
       "      <td>0.92</td>\n",
       "    </tr>\n",
       "    <tr>\n",
       "      <th>28</th>\n",
       "      <td>659.0</td>\n",
       "      <td>-0.426859</td>\n",
       "      <td>2.152887e-01</td>\n",
       "      <td>-1.37</td>\n",
       "      <td>-0.530</td>\n",
       "      <td>-0.39</td>\n",
       "      <td>-0.280</td>\n",
       "      <td>0.00</td>\n",
       "    </tr>\n",
       "    <tr>\n",
       "      <th>29</th>\n",
       "      <td>659.0</td>\n",
       "      <td>1.835964</td>\n",
       "      <td>6.440233e-01</td>\n",
       "      <td>0.00</td>\n",
       "      <td>1.220</td>\n",
       "      <td>1.95</td>\n",
       "      <td>2.170</td>\n",
       "      <td>2.98</td>\n",
       "    </tr>\n",
       "    <tr>\n",
       "      <th>30</th>\n",
       "      <td>659.0</td>\n",
       "      <td>0.002640</td>\n",
       "      <td>4.761813e-02</td>\n",
       "      <td>0.00</td>\n",
       "      <td>0.000</td>\n",
       "      <td>0.00</td>\n",
       "      <td>0.000</td>\n",
       "      <td>0.87</td>\n",
       "    </tr>\n",
       "    <tr>\n",
       "      <th>31</th>\n",
       "      <td>659.0</td>\n",
       "      <td>1.833308</td>\n",
       "      <td>6.485637e-01</td>\n",
       "      <td>0.00</td>\n",
       "      <td>1.220</td>\n",
       "      <td>1.95</td>\n",
       "      <td>2.170</td>\n",
       "      <td>2.98</td>\n",
       "    </tr>\n",
       "    <tr>\n",
       "      <th>32</th>\n",
       "      <td>659.0</td>\n",
       "      <td>44.927162</td>\n",
       "      <td>1.016981e+02</td>\n",
       "      <td>3.00</td>\n",
       "      <td>12.000</td>\n",
       "      <td>23.00</td>\n",
       "      <td>40.000</td>\n",
       "      <td>1695.00</td>\n",
       "    </tr>\n",
       "    <tr>\n",
       "      <th>33</th>\n",
       "      <td>659.0</td>\n",
       "      <td>2531.608498</td>\n",
       "      <td>5.585160e+03</td>\n",
       "      <td>360.00</td>\n",
       "      <td>720.000</td>\n",
       "      <td>1350.00</td>\n",
       "      <td>2160.000</td>\n",
       "      <td>95310.00</td>\n",
       "    </tr>\n",
       "    <tr>\n",
       "      <th>34</th>\n",
       "      <td>659.0</td>\n",
       "      <td>0.006859</td>\n",
       "      <td>5.258930e-03</td>\n",
       "      <td>0.00</td>\n",
       "      <td>0.000</td>\n",
       "      <td>0.01</td>\n",
       "      <td>0.010</td>\n",
       "      <td>0.02</td>\n",
       "    </tr>\n",
       "    <tr>\n",
       "      <th>35</th>\n",
       "      <td>659.0</td>\n",
       "      <td>32.059788</td>\n",
       "      <td>3.275910e+01</td>\n",
       "      <td>5.05</td>\n",
       "      <td>14.280</td>\n",
       "      <td>24.29</td>\n",
       "      <td>38.915</td>\n",
       "      <td>441.23</td>\n",
       "    </tr>\n",
       "    <tr>\n",
       "      <th>36</th>\n",
       "      <td>659.0</td>\n",
       "      <td>91.280728</td>\n",
       "      <td>2.206770e+01</td>\n",
       "      <td>64.00</td>\n",
       "      <td>78.000</td>\n",
       "      <td>82.00</td>\n",
       "      <td>99.000</td>\n",
       "      <td>143.00</td>\n",
       "    </tr>\n",
       "    <tr>\n",
       "      <th>37</th>\n",
       "      <td>659.0</td>\n",
       "      <td>60.725341</td>\n",
       "      <td>1.388682e+01</td>\n",
       "      <td>39.00</td>\n",
       "      <td>50.000</td>\n",
       "      <td>55.00</td>\n",
       "      <td>67.000</td>\n",
       "      <td>86.00</td>\n",
       "    </tr>\n",
       "    <tr>\n",
       "      <th>38</th>\n",
       "      <td>659.0</td>\n",
       "      <td>943.860182</td>\n",
       "      <td>1.033918e+03</td>\n",
       "      <td>0.00</td>\n",
       "      <td>450.780</td>\n",
       "      <td>685.42</td>\n",
       "      <td>1054.085</td>\n",
       "      <td>11949.33</td>\n",
       "    </tr>\n",
       "    <tr>\n",
       "      <th>39</th>\n",
       "      <td>659.0</td>\n",
       "      <td>445.003536</td>\n",
       "      <td>7.512432e+02</td>\n",
       "      <td>0.00</td>\n",
       "      <td>180.000</td>\n",
       "      <td>282.84</td>\n",
       "      <td>474.340</td>\n",
       "      <td>11500.00</td>\n",
       "    </tr>\n",
       "    <tr>\n",
       "      <th>40</th>\n",
       "      <td>659.0</td>\n",
       "      <td>266.278255</td>\n",
       "      <td>5.659219e+02</td>\n",
       "      <td>0.00</td>\n",
       "      <td>94.650</td>\n",
       "      <td>167.14</td>\n",
       "      <td>269.735</td>\n",
       "      <td>9593.48</td>\n",
       "    </tr>\n",
       "    <tr>\n",
       "      <th>41</th>\n",
       "      <td>659.0</td>\n",
       "      <td>109.235645</td>\n",
       "      <td>1.376192e+02</td>\n",
       "      <td>0.00</td>\n",
       "      <td>51.960</td>\n",
       "      <td>76.24</td>\n",
       "      <td>128.200</td>\n",
       "      <td>1648.80</td>\n",
       "    </tr>\n",
       "    <tr>\n",
       "      <th>42</th>\n",
       "      <td>659.0</td>\n",
       "      <td>4.976586</td>\n",
       "      <td>5.220479e+00</td>\n",
       "      <td>0.00</td>\n",
       "      <td>2.350</td>\n",
       "      <td>3.73</td>\n",
       "      <td>6.150</td>\n",
       "      <td>76.63</td>\n",
       "    </tr>\n",
       "    <tr>\n",
       "      <th>43</th>\n",
       "      <td>659.0</td>\n",
       "      <td>0.128983</td>\n",
       "      <td>3.354361e-01</td>\n",
       "      <td>0.00</td>\n",
       "      <td>0.000</td>\n",
       "      <td>0.00</td>\n",
       "      <td>0.000</td>\n",
       "      <td>1.00</td>\n",
       "    </tr>\n",
       "    <tr>\n",
       "      <th>44</th>\n",
       "      <td>659.0</td>\n",
       "      <td>8194.483126</td>\n",
       "      <td>6.920627e+03</td>\n",
       "      <td>2051.50</td>\n",
       "      <td>3809.525</td>\n",
       "      <td>5621.68</td>\n",
       "      <td>9934.025</td>\n",
       "      <td>51985.06</td>\n",
       "    </tr>\n",
       "    <tr>\n",
       "      <th>45</th>\n",
       "      <td>659.0</td>\n",
       "      <td>61.628847</td>\n",
       "      <td>1.048401e+01</td>\n",
       "      <td>35.96</td>\n",
       "      <td>65.715</td>\n",
       "      <td>65.93</td>\n",
       "      <td>66.130</td>\n",
       "      <td>66.45</td>\n",
       "    </tr>\n",
       "    <tr>\n",
       "      <th>46</th>\n",
       "      <td>659.0</td>\n",
       "      <td>8.161335</td>\n",
       "      <td>2.917205e+00</td>\n",
       "      <td>5.81</td>\n",
       "      <td>6.370</td>\n",
       "      <td>7.24</td>\n",
       "      <td>7.850</td>\n",
       "      <td>15.44</td>\n",
       "    </tr>\n",
       "  </tbody>\n",
       "</table>\n",
       "</div>"
      ],
      "text/plain": [
       "    count           mean           std       min         25%        50%  \\\n",
       "0   659.0     344.153263  1.880555e+03     10.00      22.000      65.00   \n",
       "1   659.0     709.286161  5.993162e+02      1.95      97.475     727.45   \n",
       "2   659.0     867.791608  5.145066e+02      1.00     445.065     791.35   \n",
       "3   659.0      85.078907  4.573682e+01      0.00      55.000      74.00   \n",
       "4   659.0  824339.418816  4.131627e+06  70312.00  127500.000  187500.00   \n",
       "5   659.0      42.966449  1.259403e+01     21.24      33.430      39.64   \n",
       "6   659.0       9.162307  3.587007e+00      0.83       6.920       8.22   \n",
       "7   659.0    4119.098634  8.899523e+03    667.00    1404.750    2167.00   \n",
       "8   659.0       0.222898  8.984421e-02      0.02       0.170       0.21   \n",
       "9   659.0     110.288771  6.272348e+01     47.00      82.950      99.80   \n",
       "10  659.0       0.251608  8.625698e-02      0.02       0.200       0.24   \n",
       "11  659.0       0.311214  1.188971e-01      0.03       0.240       0.29   \n",
       "12  659.0       0.485706  2.129456e-01      0.05       0.330       0.44   \n",
       "13  659.0       0.183460  8.314772e-02      0.01       0.130       0.18   \n",
       "14  659.0       0.302382  2.019757e-01      0.01       0.130       0.27   \n",
       "15  659.0      83.765508  3.584974e+02      6.37      21.240      34.87   \n",
       "16  659.0      35.155129  1.816125e+02      1.96      11.630      16.27   \n",
       "17  659.0       0.903748  6.658546e-01      0.13       0.370       0.72   \n",
       "18  659.0       0.228604  7.270831e-02      0.02       0.180       0.22   \n",
       "19  659.0       0.289196  1.019243e-01      0.02       0.230       0.27   \n",
       "20  659.0      76.546813  2.296954e+01     47.66      55.850      75.26   \n",
       "21  659.0       0.634219  2.976817e-01      0.17       0.450       0.50   \n",
       "22  659.0     566.533612  6.147895e+02    132.78     221.970     351.67   \n",
       "23  659.0       0.585751  7.080998e-01     -0.71       0.180       0.87   \n",
       "24  659.0       7.606980  4.020812e+00      2.96       4.660       5.07   \n",
       "25  659.0       0.613278  8.475365e-01     -1.79       0.100       0.49   \n",
       "26  659.0       4.325736  3.592343e+00      1.44       2.660       3.34   \n",
       "27  659.0      -2.850349  1.583273e+00     -7.76      -3.260      -2.78   \n",
       "28  659.0      -0.426859  2.152887e-01     -1.37      -0.530      -0.39   \n",
       "29  659.0       1.835964  6.440233e-01      0.00       1.220       1.95   \n",
       "30  659.0       0.002640  4.761813e-02      0.00       0.000       0.00   \n",
       "31  659.0       1.833308  6.485637e-01      0.00       1.220       1.95   \n",
       "32  659.0      44.927162  1.016981e+02      3.00      12.000      23.00   \n",
       "33  659.0    2531.608498  5.585160e+03    360.00     720.000    1350.00   \n",
       "34  659.0       0.006859  5.258930e-03      0.00       0.000       0.01   \n",
       "35  659.0      32.059788  3.275910e+01      5.05      14.280      24.29   \n",
       "36  659.0      91.280728  2.206770e+01     64.00      78.000      82.00   \n",
       "37  659.0      60.725341  1.388682e+01     39.00      50.000      55.00   \n",
       "38  659.0     943.860182  1.033918e+03      0.00     450.780     685.42   \n",
       "39  659.0     445.003536  7.512432e+02      0.00     180.000     282.84   \n",
       "40  659.0     266.278255  5.659219e+02      0.00      94.650     167.14   \n",
       "41  659.0     109.235645  1.376192e+02      0.00      51.960      76.24   \n",
       "42  659.0       4.976586  5.220479e+00      0.00       2.350       3.73   \n",
       "43  659.0       0.128983  3.354361e-01      0.00       0.000       0.00   \n",
       "44  659.0    8194.483126  6.920627e+03   2051.50    3809.525    5621.68   \n",
       "45  659.0      61.628847  1.048401e+01     35.96      65.715      65.93   \n",
       "46  659.0       8.161335  2.917205e+00      5.81       6.370       7.24   \n",
       "\n",
       "           75%          max  \n",
       "0      134.500     28526.00  \n",
       "1     1242.135      1893.08  \n",
       "2     1243.220      2674.16  \n",
       "3      119.000       180.00  \n",
       "4   348750.000  71315000.00  \n",
       "5       51.975        82.64  \n",
       "6       10.755        24.28  \n",
       "7     3600.000    160740.00  \n",
       "8        0.260         0.74  \n",
       "9      115.700       901.70  \n",
       "10       0.290         0.63  \n",
       "11       0.350         0.83  \n",
       "12       0.615         1.19  \n",
       "13       0.220         0.65  \n",
       "14       0.420         1.10  \n",
       "15      64.370      6058.23  \n",
       "16      24.295      4061.15  \n",
       "17       1.050         2.60  \n",
       "18       0.270         0.58  \n",
       "19       0.325         0.76  \n",
       "20      85.220       126.08  \n",
       "21       0.960         1.33  \n",
       "22     422.120      2036.80  \n",
       "23       1.010         1.83  \n",
       "24      12.060        14.78  \n",
       "25       0.990         5.58  \n",
       "26       4.660        39.05  \n",
       "27      -1.680         0.92  \n",
       "28      -0.280         0.00  \n",
       "29       2.170         2.98  \n",
       "30       0.000         0.87  \n",
       "31       2.170         2.98  \n",
       "32      40.000      1695.00  \n",
       "33    2160.000     95310.00  \n",
       "34       0.010         0.02  \n",
       "35      38.915       441.23  \n",
       "36      99.000       143.00  \n",
       "37      67.000        86.00  \n",
       "38    1054.085     11949.33  \n",
       "39     474.340     11500.00  \n",
       "40     269.735      9593.48  \n",
       "41     128.200      1648.80  \n",
       "42       6.150        76.63  \n",
       "43       0.000         1.00  \n",
       "44    9934.025     51985.06  \n",
       "45      66.130        66.45  \n",
       "46       7.850        15.44  "
      ]
     },
     "execution_count": 3,
     "metadata": {},
     "output_type": "execute_result"
    }
   ],
   "source": [
    "Xtrain.describe().T"
   ]
  },
  {
   "cell_type": "code",
   "execution_count": 4,
   "metadata": {
    "colab": {
     "base_uri": "https://localhost:8080/",
     "height": 411
    },
    "id": "LQ9SWsZS1PzB",
    "outputId": "edc4c625-8812-49b7-c1fb-7ca87e2aa5ec"
   },
   "outputs": [
    {
     "data": {
      "image/png": "[encoded data removed]",
      "text/plain": [
       "<Figure size 640x480 with 49 Axes>"
      ]
     },
     "metadata": {},
     "output_type": "display_data"
    }
   ],
   "source": [
    "ax = Xtrain.hist()  # Histograms:\n",
    "# Let's remove all the information from the chart to visualize it more easily:\n",
    "for axis in ax.flatten():\n",
    "  axis.set_title('')\n",
    "  axis.set_xticklabels([])\n",
    "  axis.set_yticklabels([])\n",
    "plt.show()"
   ]
  },
  {
   "cell_type": "code",
   "execution_count": 5,
   "metadata": {
    "colab": {
     "base_uri": "https://localhost:8080/"
    },
    "id": "MlCqWN-Tl_CG",
    "outputId": "326a1509-8f91-402a-8350-5388c0dc5b6e"
   },
   "outputs": [
    {
     "name": "stdout",
     "output_type": "stream",
     "text": [
      "<class 'pandas.core.frame.DataFrame'>\n",
      "Index: 659 entries, 770 to 460\n",
      "Data columns (total 47 columns):\n",
      " #   Column  Non-Null Count  Dtype  \n",
      "---  ------  --------------  -----  \n",
      " 0   0       659 non-null    int64  \n",
      " 1   1       659 non-null    float64\n",
      " 2   2       659 non-null    float64\n",
      " 3   3       659 non-null    int64  \n",
      " 4   4       659 non-null    float64\n",
      " 5   5       659 non-null    float64\n",
      " 6   6       659 non-null    float64\n",
      " 7   7       659 non-null    float64\n",
      " 8   8       659 non-null    float64\n",
      " 9   9       659 non-null    float64\n",
      " 10  10      659 non-null    float64\n",
      " 11  11      659 non-null    float64\n",
      " 12  12      659 non-null    float64\n",
      " 13  13      659 non-null    float64\n",
      " 14  14      659 non-null    float64\n",
      " 15  15      659 non-null    float64\n",
      " 16  16      659 non-null    float64\n",
      " 17  17      659 non-null    float64\n",
      " 18  18      659 non-null    float64\n",
      " 19  19      659 non-null    float64\n",
      " 20  20      659 non-null    float64\n",
      " 21  21      659 non-null    float64\n",
      " 22  22      659 non-null    float64\n",
      " 23  23      659 non-null    float64\n",
      " 24  24      659 non-null    float64\n",
      " 25  25      659 non-null    float64\n",
      " 26  26      659 non-null    float64\n",
      " 27  27      659 non-null    float64\n",
      " 28  28      659 non-null    float64\n",
      " 29  29      659 non-null    float64\n",
      " 30  30      659 non-null    float64\n",
      " 31  31      659 non-null    float64\n",
      " 32  32      659 non-null    int64  \n",
      " 33  33      659 non-null    int64  \n",
      " 34  34      659 non-null    float64\n",
      " 35  35      659 non-null    float64\n",
      " 36  36      659 non-null    int64  \n",
      " 37  37      659 non-null    int64  \n",
      " 38  38      659 non-null    float64\n",
      " 39  39      659 non-null    float64\n",
      " 40  40      659 non-null    float64\n",
      " 41  41      659 non-null    float64\n",
      " 42  42      659 non-null    float64\n",
      " 43  43      659 non-null    int64  \n",
      " 44  44      659 non-null    float64\n",
      " 45  45      659 non-null    float64\n",
      " 46  46      659 non-null    float64\n",
      "dtypes: float64(40), int64(7)\n",
      "memory usage: 247.1 KB\n"
     ]
    }
   ],
   "source": [
    "Xtrain.info()"
   ]
  },
  {
   "cell_type": "code",
   "execution_count": 6,
   "metadata": {
    "colab": {
     "base_uri": "https://localhost:8080/"
    },
    "id": "rRnWD-yoXnk8",
    "outputId": "069c4a74-14ef-4271-87b0-3b806e1133ba"
   },
   "outputs": [
    {
     "name": "stdout",
     "output_type": "stream",
     "text": [
      "G-mean Metric - Geometric Mean: 0.419 (0.210)\n"
     ]
    }
   ],
   "source": [
    "# Code-1:\n",
    "# We apply the Dummy function:\n",
    "\n",
    "def evaluate_model(X, y, model):\n",
    "  cv = RepeatedStratifiedKFold(n_splits=10, n_repeats=3, random_state=1)\n",
    "  metric = make_scorer(geometric_mean_score)\n",
    "  scores = cross_val_score(model, X, y, scoring=metric, cv=cv, n_jobs=-1)\n",
    "  return scores\n",
    "\n",
    "\n",
    "modeloD = DummyClassifier(strategy='uniform')\n",
    "scores = evaluate_model(X, y, modeloD)\n",
    "\n",
    "print('G-mean Metric - Geometric Mean: %.3f (%.3f)' % (mean(scores), std(scores)))"
   ]
  },
  {
   "cell_type": "markdown",
   "metadata": {
    "id": "iq142ztPDj9F"
   },
   "source": [
    "# **Exercise-1**"
   ]
  },
  {
   "cell_type": "markdown",
   "metadata": {
    "id": "r4t1H1lADk1c"
   },
   "source": [
    "### **Explain what each line of code in the previous cell named \"Code-1\" does, as well as the meaning of the output value:**\n",
    "\n",
    "**+++++++++++ Section to add text begins ++++++++++++++++**\n",
    "\n",
    "1.   The first line of code defines a function called \"evaluate_model\" with the input arguments \"X\", \"y\", and \"model\". It can be assumed that X is a matrix or DataFrame with the independent features, \"y\" is a vector with the dependent variable, and \"model\" is the model to evaluate.\n",
    "2.   The second line defines an instance of \"RepeatedStratifiedKFold\", which will be used as the cross-validation strategy for model evaluation. According to the parameters, ten splits will be used, and the process will be repeated three times. The \"random_state=1\" ensures the results are reproducible.\n",
    "3.   The third line defines the scoring function to be used during evaluation; in this case, it will be the geometric mean.\n",
    "4.   The fourth line executes cross-validation using the strategy defined in the second line, the scoring function from the third line, and the arguments passed to the function.\n",
    "5.   The fifth line ends the function by returning the evaluation results.\n",
    "6.   The sixth line creates an instance of a classification model, \"DummyClassifier\", with a uniform strategy.\n",
    "7.   The seventh line calls the function defined in the first line, passing \"X\", \"y\", and the instance of \"DummyClassifier\" as the model. This classifier predicts classes randomly with equal probability.\n",
    "8.   The eighth line prints the results obtained from the function; it calculates the mean of the geometric means obtained from cross-validation and its standard deviation.\n",
    "9.   Meaning of the output value: We can see that the mean geometric mean obtained is 0.425, which is very low for a classification model. In addition, with a standard deviation of 0.181, this value did not vary much across the cross-validation folds. These values are expected from a \"DummyClassifier\" instance.\n",
    "\n",
    "**+++++++++++ Section to add text ends ++++++++++++++**"
   ]
  },
  {
   "cell_type": "markdown",
   "metadata": {
    "id": "fYPq7gNDE0Bb"
   },
   "source": [
    "For the purposes of this activity, we define the following data preprocessing transformations:"
   ]
  },
  {
   "cell_type": "code",
   "execution_count": 7,
   "metadata": {
    "id": "vngPHRx4SbJl"
   },
   "outputs": [],
   "source": [
    "# Numerical transformations:\n",
    "\n",
    "numerical_pipeline = Pipeline(steps = [('impMediana', SimpleImputer(strategy='mean')),\n",
    "                                       ('std_transformer', StandardScaler())])\n",
    "numerical_pipeline_names = Xtrain.columns\n",
    "\n",
    "columnsTransformer = ColumnTransformer(transformers = [('num', numerical_pipeline, numerical_pipeline_names)],\n",
    "                                        remainder='passthrough')"
   ]
  },
  {
   "cell_type": "code",
   "execution_count": 8,
   "metadata": {
    "id": "On9HsGmUeytp"
   },
   "outputs": [],
   "source": [
    "my_metric = make_scorer(geometric_mean_score)  # We define the G-mean metric"
   ]
  },
  {
   "cell_type": "code",
   "execution_count": 9,
   "metadata": {
    "colab": {
     "base_uri": "https://localhost:8080/",
     "height": 1000
    },
    "id": "OikwDqHbSbF4",
    "outputId": "ec34266a-4ee8-43f6-eaf6-e27fa9cca409"
   },
   "outputs": [
    {
     "name": "stdout",
     "output_type": "stream",
     "text": [
      "Validation Results:\n",
      "LR\n",
      "Accuracy: >> 0.953 (0.014)\n",
      "G-mean: >> 0.764 (0.097)\n",
      "\n",
      "LASSO\n",
      "Accuracy: >> 0.968 (0.009)\n",
      "G-mean: >> 0.689 (0.104)\n",
      "\n",
      "RIDGE\n",
      "Accuracy: >> 0.969 (0.011)\n",
      "G-mean: >> 0.725 (0.108)\n",
      "\n",
      "EN\n",
      "Accuracy: >> 0.968 (0.010)\n",
      "G-mean: >> 0.694 (0.112)\n",
      "\n",
      "kNN\n",
      "Accuracy: >> 0.966 (0.005)\n",
      "G-mean: >> 0.464 (0.204)\n",
      "\n"
     ]
    },
    {
     "name": "stderr",
     "output_type": "stream",
     "text": [
      "C:\\Users\\mario\\AppData\\Local\\Temp\\ipykernel_37276\\3309343519.py:60: MatplotlibDeprecationWarning: The 'labels' parameter of boxplot() has been renamed 'tick_labels' since Matplotlib 3.9; support for the old name will be dropped in 3.11.\n",
      "  plt.boxplot(results1, labels=names,  showmeans=True)\n"
     ]
    },
    {
     "data": {
      "image/png": "[encoded data removed]",
      "text/plain": [
       "<Figure size 640x480 with 1 Axes>"
      ]
     },
     "metadata": {},
     "output_type": "display_data"
    },
    {
     "name": "stderr",
     "output_type": "stream",
     "text": [
      "C:\\Users\\mario\\AppData\\Local\\Temp\\ipykernel_37276\\3309343519.py:64: MatplotlibDeprecationWarning: The 'labels' parameter of boxplot() has been renamed 'tick_labels' since Matplotlib 3.9; support for the old name will be dropped in 3.11.\n",
      "  plt.boxplot(results2, labels=names,  showmeans=True)\n"
     ]
    },
    {
     "data": {
      "image/png": "[encoded data removed]",
      "text/plain": [
       "<Figure size 640x480 with 1 Axes>"
      ]
     },
     "metadata": {},
     "output_type": "display_data"
    }
   ],
   "source": [
    "# Code-2:\n",
    "# ACCURACY & G-mean\n",
    "\n",
    "def my_models1():\n",
    "  models, names = list(), list()\n",
    "\n",
    "  models.append(LogisticRegression(penalty=None,\n",
    "                                    max_iter=2000,\n",
    "                                    random_state=1))\n",
    "  names.append('LR')\n",
    "\n",
    "\n",
    "  models.append(LogisticRegression(penalty='l1',\n",
    "                                    solver='liblinear',\n",
    "                                    max_iter=2000,\n",
    "                                    random_state=1))\n",
    "  names.append('LASSO')\n",
    "\n",
    "\n",
    "  models.append(LogisticRegression(penalty='l2',\n",
    "                                    max_iter=2000,\n",
    "                                    random_state=1))\n",
    "  names.append('RIDGE')\n",
    "\n",
    "  models.append(LogisticRegression(penalty='elasticnet',\n",
    "                                    l1_ratio=0.5,\n",
    "                                    solver='saga',\n",
    "                                    max_iter=5000,\n",
    "                                    random_state=1))\n",
    "  names.append('EN')\n",
    "\n",
    "  models.append(KNeighborsClassifier(n_neighbors=5))\n",
    "  names.append('kNN')\n",
    "\n",
    "  return models, names\n",
    "\n",
    "# +++++++++++++++++++++++++++++++\n",
    "models, names = my_models1()\n",
    "results1, results2 = list(), list()\n",
    "print('Validation Results:')\n",
    "\n",
    "for i in range(len(models)):\n",
    "\n",
    "  pipeline = Pipeline(steps=[('ct',columnsTransformer),('m',models[i])])\n",
    "  cv1 = RepeatedStratifiedKFold(n_splits=5, n_repeats=3, random_state=7)\n",
    "  scores = cross_validate(pipeline,\n",
    "                          Xtv,\n",
    "                          np.ravel(ytv),\n",
    "                          scoring={'accuracy':'accuracy', 'm_geo':my_metric},\n",
    "                          cv=cv1)\n",
    "\n",
    "  results1.append(scores['test_accuracy'])\n",
    "  results2.append(scores['test_m_geo'])\n",
    "\n",
    "  print(names[i])\n",
    "  print('Accuracy: >> %.3f (%.3f)' % (np.nanmean(scores['test_accuracy']), np.nanstd(scores['test_accuracy'])))\n",
    "  print('G-mean: >> %.3f (%.3f)' % (np.nanmean(scores['test_m_geo']), np.nanstd(scores['test_m_geo'])))\n",
    "  print()\n",
    "\n",
    "plt.boxplot(results1, labels=names,  showmeans=True)\n",
    "plt.title(\"Accuracy\")\n",
    "plt.show()\n",
    "\n",
    "plt.boxplot(results2, labels=names,  showmeans=True)\n",
    "plt.title(\"G-Mean\")\n",
    "plt.show()\n"
   ]
  },
  {
   "cell_type": "markdown",
   "metadata": {
    "id": "oniRBS-jHjrR"
   },
   "source": [
    "# **Exercise-2**"
   ]
  },
  {
   "cell_type": "markdown",
   "metadata": {
    "id": "3iY_XZjcHjoJ"
   },
   "source": [
    "**Explain why the previous output and graphs help support the decision to use the G-mean metric instead of accuracy in this problem:**\n",
    "\n",
    "**+++++++++++ Section to add text begins ++++++++++++++++**\n",
    "\n",
    "In the graphs, it is clearly observed how the accuracy metric gives a much more optimistic view of the results when compared to the geometric mean.\n",
    "\n",
    "This is because accuracy does not take class balance into account, leading, in cases of imbalanced classes, to the model favoring the correct classification of the majority class. This ensures an accuracy of at least the percentage represented by the majority class, resulting in a deceptively high value without properly classifying the minority class (which is usually the one we want to classify correctly).\n",
    "\n",
    "To avoid this, it is necessary to use metrics that counteract this imbalance, such as the geometric mean, which calculates the square root of the product of sensitivity and specificity. In this way, if too much preference is given to one variable, the opposing metric approaches zero, effectively penalizing this behavior.\n",
    "\n",
    "\n",
    "**+++++++++++ Section to add text ends ++++++++++++++**"
   ]
  },
  {
   "cell_type": "markdown",
   "metadata": {
    "id": "b3Mnv-MgIrQ8"
   },
   "source": [
    "# **Exercise-3**"
   ]
  },
  {
   "cell_type": "markdown",
   "metadata": {
    "id": "irQWKhDvIwV1"
   },
   "source": [
    "**Using only the G-mean metric from now on and similarly to the code in the previous cell called \"Code-2,\" define a function named \"mis_models2()\" and use it to define the same logistic regression models, but including the argument \"class_weight='balanced'\". You may vary the other hyperparameters if you consider it appropriate. Include kNN as well, even though it does not have an argument for balancing the output classes.**"
   ]
  },
  {
   "cell_type": "code",
   "execution_count": 10,
   "metadata": {
    "colab": {
     "base_uri": "https://localhost:8080/",
     "height": 765
    },
    "id": "HUf2t741nyt2",
    "outputId": "2367e974-4a18-4419-c6a5-f0fc5ffb8a07"
   },
   "outputs": [
    {
     "name": "stdout",
     "output_type": "stream",
     "text": [
      "Validation Results:\n",
      "LR\n",
      "G-mean: >> 0.692 (0.117)\n",
      "\n",
      "LASSO\n",
      "G-mean: >> 0.849 (0.069)\n",
      "\n",
      "RIDGE\n",
      "G-mean: >> 0.854 (0.062)\n",
      "\n",
      "EN\n",
      "G-mean: >> 0.830 (0.063)\n",
      "\n",
      "kNN\n",
      "G-mean: >> 0.464 (0.204)\n",
      "\n"
     ]
    },
    {
     "name": "stderr",
     "output_type": "stream",
     "text": [
      "C:\\Users\\mario\\AppData\\Local\\Temp\\ipykernel_37276\\3346617565.py:60: MatplotlibDeprecationWarning: The 'labels' parameter of boxplot() has been renamed 'tick_labels' since Matplotlib 3.9; support for the old name will be dropped in 3.11.\n",
      "  plt.boxplot(results2, labels=names2,  showmeans=True)   # Box plots for a visual comparison of the results.\n"
     ]
    },
    {
     "data": {
      "image/png": "[encoded data removed]",
      "text/plain": [
       "<Figure size 640x480 with 1 Axes>"
      ]
     },
     "metadata": {},
     "output_type": "display_data"
    }
   ],
   "source": [
    "# Balanced cases with Logistic Regression hyperparameter:\n",
    "\n",
    "# ++++++++++ Section to add your code begins ++++++++++++++++++++++++\n",
    "def my_models2():\n",
    "  models, names = list(), list()\n",
    "  models.append(LogisticRegression(penalty=None,\n",
    "                                    max_iter=2000,\n",
    "                                    class_weight = 'balanced',\n",
    "                                    random_state=1))\n",
    "  names.append('LR')\n",
    "\n",
    "  models.append(LogisticRegression(penalty='l1',\n",
    "                                    solver='liblinear',\n",
    "                                    max_iter=2000,\n",
    "                                    class_weight = 'balanced', C=1.,\n",
    "                                    random_state=1))\n",
    "  names.append('LASSO')\n",
    "\n",
    "  models.append(LogisticRegression(penalty='l2',\n",
    "                                    max_iter=2000,\n",
    "                                    class_weight = 'balanced',C=.1,\n",
    "                                    random_state=1))\n",
    "  names.append('RIDGE')\n",
    "\n",
    "  models.append(LogisticRegression(penalty='elasticnet',\n",
    "                                    l1_ratio=0.5,\n",
    "                                    solver='saga',\n",
    "                                    max_iter=5000,\n",
    "                                    class_weight = 'balanced',C=.01,\n",
    "                                    random_state=1))\n",
    "  names.append('EN')\n",
    "\n",
    "  models.append(KNeighborsClassifier(n_neighbors=5))\n",
    "  names.append('kNN')\n",
    "\n",
    "  return models, names\n",
    "\n",
    "models2, names2 = my_models2()\n",
    "results2 = list()\n",
    "\n",
    "print('Validation Results:')\n",
    "for i in range(len(models2)):\n",
    "  pipeline = Pipeline(steps=[('ct',columnsTransformer),('m',models2[i])])\n",
    "  cv1 = RepeatedStratifiedKFold(n_splits=5, n_repeats=3, random_state=7)\n",
    "  scores = cross_validate(pipeline,\n",
    "                          Xtv,\n",
    "                          np.ravel(ytv),\n",
    "                          scoring={'m_geo':my_metric},\n",
    "                          cv=cv1)\n",
    "\n",
    "  results2.append(scores['test_m_geo'])\n",
    "\n",
    "  print(names2[i])\n",
    "  print('G-mean: >> %.3f (%.3f)' % (np.nanmean(scores['test_m_geo']), np.nanstd(scores['test_m_geo'])))\n",
    "  print()\n",
    "\n",
    "# ++++++++++ Section to add your code ends ++++++++++++++++++++++++\n",
    "\n",
    "\n",
    "plt.boxplot(results2, labels=names2,  showmeans=True)   # Box plots for a visual comparison of the results.\n",
    "plt.title(\"G-mean : Balanced Models\")\n",
    "plt.show()"
   ]
  },
  {
   "cell_type": "markdown",
   "metadata": {
    "id": "iPlq5JpJLapH"
   },
   "source": [
    "# **Exercise-4**"
   ]
  },
  {
   "cell_type": "markdown",
   "metadata": {
    "id": "murO16hvMYiQ"
   },
   "source": [
    "**4a) Select the model you consider the best found so far and use it to obtain the ROC curve and PR curve graphs, as well as the values of their areas under the curve. Continue using the training and validation sets.**"
   ]
  },
  {
   "cell_type": "code",
   "execution_count": 11,
   "metadata": {
    "colab": {
     "base_uri": "https://localhost:8080/",
     "height": 885
    },
    "id": "kKtqYkkRMLA_",
    "outputId": "61843cf4-883e-4176-fd33-87249bc93a15"
   },
   "outputs": [
    {
     "data": {
      "image/png": "[encoded data removed]",
      "text/plain": [
       "<Figure size 640x480 with 1 Axes>"
      ]
     },
     "metadata": {},
     "output_type": "display_data"
    },
    {
     "data": {
      "image/png": "[encoded data removed]",
      "text/plain": [
       "<Figure size 640x480 with 1 Axes>"
      ]
     },
     "metadata": {},
     "output_type": "display_data"
    }
   ],
   "source": [
    "# **+++++++++++ Section to add your code begins ++++++++++++++++**\n",
    "# NOTE: you can add as many cells as you consider appropriate.\n",
    "bestModel = LogisticRegression(penalty='l2',\n",
    "                                    max_iter=2000,\n",
    "                                    class_weight = 'balanced',C=.1,\n",
    "                                    random_state=1)\n",
    "columnsTransformer.fit(Xtrain)\n",
    "XtrainT = columnsTransformer.transform(Xtrain)\n",
    "bestModel.fit(X=XtrainT, y=ytrain)\n",
    "\n",
    "XtvT = columnsTransformer.transform(Xtv)\n",
    "\n",
    "RocCurveDisplay.from_estimator(bestModel , XtvT, ytv)\n",
    "plt.plot([0,0,1,0],[0,1,1,0], 'y--')\n",
    "plt.show()\n",
    "\n",
    "positive_rate = len(ytrain[ytrain==1]) / len(ytrain)\n",
    "\n",
    "PrecisionRecallDisplay.from_estimator(bestModel , XtvT, ytv)\n",
    "plt.plot([0,1,1,0],[positive_rate,positive_rate,1,1], 'y--')\n",
    "plt.legend(loc=\"upper right\")\n",
    "plt.show()\n",
    "\n",
    "# **+++++++++++ Section to add your code ends ++++++++++++++**"
   ]
  },
  {
   "cell_type": "markdown",
   "metadata": {
    "id": "K8VUJWwVNTDs"
   },
   "source": [
    "### **4b) Include your conclusions from the graphs obtained in the previous section.**\n",
    "\n",
    "**+++++++++++ Section to add text begins ++++++++++++++++**\n",
    "\n",
    "It is clear why the ROC curve is not an adequate graph to estimate how good a model is when dealing with an imbalanced class problem. It gives us an AUC of 0.98, which (in a perfectly balanced class situation) would indicate that our model is close to perfect.\n",
    "\n",
    "In contrast, the PR curve shows that our model has an Average Precision (AP) of 0.66, indicating it is far from perfect. By using a combination of precision and recall, this curve provides a better idea of how our model classifies both classes, not just the majority one.\n",
    "\n",
    "**+++++++++++ Section to add text ends ++++++++++++++**"
   ]
  },
  {
   "cell_type": "markdown",
   "metadata": {
    "id": "gM7YCsaSN04w"
   },
   "source": [
    "# **Exercise-5**"
   ]
  },
  {
   "cell_type": "markdown",
   "metadata": {
    "id": "7XAyYmBXN4TS"
   },
   "source": [
    "### **Use the test set to evaluate the best model obtained.**"
   ]
  },
  {
   "cell_type": "code",
   "execution_count": 12,
   "metadata": {
    "colab": {
     "base_uri": "https://localhost:8080/",
     "height": 1000
    },
    "id": "XGBLeDqXMK6v",
    "outputId": "6953a384-c844-4ea3-9ea2-a4fca2a9d2c5"
   },
   "outputs": [
    {
     "data": {
      "image/png": "[encoded data removed]",
      "text/plain": [
       "<Figure size 640x480 with 1 Axes>"
      ]
     },
     "metadata": {},
     "output_type": "display_data"
    },
    {
     "data": {
      "image/png": "[encoded data removed]",
      "text/plain": [
       "<Figure size 640x480 with 1 Axes>"
      ]
     },
     "metadata": {},
     "output_type": "display_data"
    },
    {
     "name": "stdout",
     "output_type": "stream",
     "text": [
      "              precision    recall  f1-score   support\n",
      "\n",
      "          No       0.96      0.91      0.93       108\n",
      "         Yes       0.09      0.20      0.12         5\n",
      "\n",
      "    accuracy                           0.88       113\n",
      "   macro avg       0.53      0.55      0.53       113\n",
      "weighted avg       0.92      0.88      0.90       113\n",
      "\n"
     ]
    }
   ],
   "source": [
    "# **+++++++++++ Section to add your code begins ++++++++++++++++**\n",
    "# NOTE: you can add as many cells as you consider appropriate.\n",
    "XTestTransformed = columnsTransformer.transform(Xtest)\n",
    "yTestPred = bestModel.predict(XTestTransformed)\n",
    "\n",
    "\n",
    "RocCurveDisplay.from_estimator(bestModel , XTestTransformed, ytest)\n",
    "plt.plot([0,0,1,0],[0,1,1,0], 'y--')\n",
    "plt.show()\n",
    "\n",
    "positive_rate = len(ytest[ytest==1]) / len(ytest)\n",
    "\n",
    "PrecisionRecallDisplay.from_estimator(bestModel ,XTestTransformed, ytest)\n",
    "plt.plot([0,1,1,0],[positive_rate,positive_rate,1,1], 'y--')\n",
    "plt.legend(loc=\"upper right\")\n",
    "plt.show()\n",
    "\n",
    "print(classification_report(ytest, yTestPred , target_names=[\"No\", \"Yes\"]) )\n",
    "\n",
    "# **+++++++++++ Section to add your code ends ++++++++++++++**"
   ]
  },
  {
   "cell_type": "markdown",
   "metadata": {
    "id": "8dDsNoQHOXDY"
   },
   "source": [
    "# **Exercise-6**"
   ]
  },
  {
   "cell_type": "markdown",
   "metadata": {
    "id": "nPxU2S7LOWxI"
   },
   "source": [
    "**Include your final conclusions about the results obtained and the activity overall.**\n",
    "\n",
    "**+++++++++++ Section to add text begins ++++++++++++++++**\n",
    "\n",
    "Based on the values obtained from our test set, we can observe two main problems:\n",
    "1. Our model is overfitting. The difference between the results on our validation and test sets is much more optimistic than on the training set. It will be necessary to obtain more data, apply different transformations, or change the model used.\n",
    "2. Our model is still poor at classifying cases from the minority class, so it will be necessary to apply oversampling and undersampling techniques.\n",
    "\n",
    "\n",
    "\n",
    "**+++++++++++ Section to add text ends ++++++++++++++**"
   ]
  },
  {
   "cell_type": "markdown",
   "metadata": {
    "id": "Z-A1PvcZOuRt"
   },
   "source": [
    "**<<< End of the Week’s Activity – ROC and PR curves >>>**"
   ]
  }
 ],
 "metadata": {
  "colab": {
   "collapsed_sections": [
    "kRCOkHwLRnzT",
    "iq142ztPDj9F",
    "oniRBS-jHjrR",
    "b3Mnv-MgIrQ8",
    "iPlq5JpJLapH",
    "gM7YCsaSN04w",
    "8dDsNoQHOXDY"
   ],
   "provenance": []
  },
  "kernelspec": {
   "display_name": "Python 3 (ipykernel)",
   "language": "python",
   "name": "python3"
  },
  "language_info": {
   "codemirror_mode": {
    "name": "ipython",
    "version": 3
   },
   "file_extension": ".py",
   "mimetype": "text/x-python",
   "name": "python",
   "nbconvert_exporter": "python",
   "pygments_lexer": "ipython3",
   "version": "3.11.13"
  }
 },
 "nbformat": 4,
 "nbformat_minor": 4
}
