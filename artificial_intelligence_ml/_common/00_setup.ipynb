{
 "cells": [
  {
   "cell_type": "markdown",
   "id": "2bf28919-2959-4106-b96c-3f569f36c55e",
   "metadata": {},
   "source": [
    "# Common Setup\n",
    "Sets consistent imports, options, and helper paths. Run this at the top of each polished notebook."
   ]
  },
  {
   "cell_type": "code",
   "execution_count": null,
   "id": "f2c156ee-5f48-47ea-bbc4-4655434a7c3d",
   "metadata": {},
   "outputs": [],
   "source": [
    "# Warnings & notebook display\n",
    "import warnings; warnings.filterwarnings(\"ignore\")\n",
    "\n",
    "import os, json, random, math\n",
    "from pathlib import Path\n",
    "\n",
    "import numpy as np\n",
    "import pandas as pd\n",
    "from pandas.api.types import is_numeric_dtype\n",
    "import matplotlib.pyplot as plt\n",
    "import seaborn as sns\n",
    "import os\n",
    "import sys\n",
    "\n",
    "# Crisp figures\n",
    "try:\n",
    "    get_ipython().run_line_magic(\"config\", \"InlineBackend.figure_format = 'retina'\")\n",
    "except Exception:\n",
    "    pass\n",
    "\n",
    "sys.path.append(\"../_common\")\n",
    "\n",
    "# Pandas display\n",
    "pd.set_option(\"display.max_columns\", 100)\n",
    "pd.set_option(\"display.width\", 120)\n",
    "\n",
    "# Seeding\n",
    "RANDOM_SEED = 42\n",
    "np.random.seed(RANDOM_SEED)\n",
    "random.seed(RANDOM_SEED)\n",
    "\n",
    "# Path Handling\n",
    "DATA_DIR = Path(\"data\")\n",
    "REPORTS = Path(\"reports\")\n",
    "FIGS = REPORTS / \"figures\"\n",
    "ARTIFACTS = REPORTS / \"artifacts\"\n",
    "for p in (DATA_DIR,REPORTS, FIGS, ARTIFACTS):\n",
    "    p.mkdir(parents=True, exist_ok=True)\n",
    "\n",
    "# Lightweight helpers\n",
    "def save_fig(name, tight=True):\n",
    "    \"\"\"Save current matplotlib figure to ../reports/figures/<name>.png\"\"\"\n",
    "    p = FIGS / f\"{name}.png\"\n",
    "    if tight:\n",
    "        plt.tight_layout()\n",
    "    plt.savefig(p, dpi=150)\n",
    "    print(f\"Saved figure -> {p}\")\n",
    "    return p\n",
    "\n",
    "def save_metrics(d, name=\"metrics.json\"):\n",
    "    \"\"\"Dump a metrics dict to ../reports/artifacts/metrics.json (or custom name)\"\"\"\n",
    "    p = ARTIFACTS / name\n",
    "    with open(p, \"w\", encoding=\"utf-8\") as f:\n",
    "        json.dump(d, f, indent=2)\n",
    "    print(f\"Saved metrics -> {p}\")\n",
    "    return p\n"
   ]
  }
 ],
 "metadata": {
  "kernelspec": {
   "display_name": "Python 3 (ipykernel)",
   "language": "python",
   "name": "python3"
  },
  "language_info": {
   "codemirror_mode": {
    "name": "ipython",
    "version": 3
   },
   "file_extension": ".py",
   "mimetype": "text/x-python",
   "name": "python",
   "nbconvert_exporter": "python",
   "pygments_lexer": "ipython3",
   "version": "3.11.13"
  }
 },
 "nbformat": 4,
 "nbformat_minor": 5
}
