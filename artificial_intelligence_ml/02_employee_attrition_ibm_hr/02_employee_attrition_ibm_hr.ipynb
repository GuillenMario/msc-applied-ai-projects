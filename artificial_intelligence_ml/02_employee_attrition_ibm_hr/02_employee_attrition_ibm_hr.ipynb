{
 "cells": [
  {
   "cell_type": "markdown",
   "id": "hWEMLj5wrcMV",
   "metadata": {
    "id": "hWEMLj5wrcMV"
   },
   "source": [
    "# **Master’s in Applied Artificial Intelligence**\n",
    "## **Course: Artificial Intelligence and Machine Learning**\n",
    "### Prof. Luis Eduardo Falcón Morales\n",
    "#### Tecnológico de Monterrey\n",
    "\n",
    "### **Employee Attrition Analysis with Machine Learning**\n",
    "##### **Name and student ID:**\n",
    "* Mario Guillen de la Torre - A01796701"
   ]
  },
  {
   "cell_type": "markdown",
   "id": "zHrHylCFqr7R",
   "metadata": {
    "id": "zHrHylCFqr7R"
   },
   "source": [
    "The following activity is based on data from the file \"WA_Fn-UseC_-HR-Employee-Attrition.csv\" which can be found at the following Kaggle link, titled \"IBM HR Analytics Employee Attrition & Performance\":\n",
    "\n",
    "https://www.kaggle.com/datasets/pavansubhasht/ibm-hr-analytics-attrition-dataset\n"
   ]
  },
  {
   "cell_type": "code",
   "execution_count": 1,
   "id": "72533da4",
   "metadata": {
    "id": "72533da4"
   },
   "outputs": [],
   "source": [
    "# Include here all the libraries you consider necessary:\n",
    "import numpy as np\n",
    "import pandas as pd\n",
    "import matplotlib.pyplot as plt\n",
    "import seaborn as sns\n",
    "import os\n",
    "\n",
    "from scipy.stats import kurtosis, skew\n",
    "\n",
    "import sklearn\n",
    "from sklearn.model_selection import train_test_split\n",
    "from sklearn.preprocessing import LabelEncoder\n",
    "from sklearn.pipeline import Pipeline\n",
    "from sklearn.impute import SimpleImputer\n",
    "from sklearn.compose import ColumnTransformer\n",
    "from sklearn.preprocessing import MinMaxScaler, OneHotEncoder, OrdinalEncoder, StandardScaler, PowerTransformer\n",
    "\n",
    "from sklearn.linear_model import LogisticRegression\n",
    "from sklearn.neighbors import KNeighborsClassifier\n",
    "\n",
    "from sklearn.model_selection import cross_val_score\n",
    "from sklearn.model_selection import RepeatedStratifiedKFold\n",
    "from sklearn.model_selection import GridSearchCV\n",
    "from sklearn.metrics import ConfusionMatrixDisplay, accuracy_score\n",
    "from sklearn.metrics import classification_report"
   ]
  },
  {
   "cell_type": "markdown",
   "id": "ac09ecaf",
   "metadata": {
    "id": "ac09ecaf"
   },
   "source": [
    "# **Exercise 1:**"
   ]
  },
  {
   "cell_type": "markdown",
   "id": "T_-hoJgWpWbt",
   "metadata": {
    "id": "T_-hoJgWpWbt"
   },
   "source": [
    "#### **Include a brief introduction about what is understood by the employee attrition problem in organizations.**"
   ]
  },
  {
   "cell_type": "markdown",
   "id": "LfSb-scypfrX",
   "metadata": {
    "id": "LfSb-scypfrX"
   },
   "source": [
    "++++++++ Section to add text starts ++++++++++++\n",
    "\n",
    "It is when an organization experiences a high level of resignations, so it is forced to hire and train new staff cyclically; this incurs economic costs, a decrease in productivity, and affects employee morale.\n",
    "\n",
    "++++++++ Section to add text ends ++++++++++++\n"
   ]
  },
  {
   "cell_type": "markdown",
   "id": "_FN5RwbGpz0c",
   "metadata": {
    "id": "_FN5RwbGpz0c"
   },
   "source": [
    "# **Exercise 2:**"
   ]
  },
  {
   "cell_type": "markdown",
   "id": "Yybnk8vKqEfS",
   "metadata": {
    "id": "Yybnk8vKqEfS"
   },
   "source": [
    "**Load the data from the Kaggle page as a Pandas DataFrame named \"df\" and use the \"describe\" method with the argument include=\"all\" to get a first general description of each variable.**"
   ]
  },
  {
   "cell_type": "code",
   "execution_count": 2,
   "id": "0b4db5cd",
   "metadata": {
    "colab": {
     "base_uri": "https://localhost:8080/",
     "height": 1000
    },
    "id": "0b4db5cd",
    "outputId": "6449b168-18a3-473b-9042-6622365dafe0"
   },
   "outputs": [
    {
     "name": "stdout",
     "output_type": "stream",
     "text": [
      "Size of the DataFrame: (1470, 35)\n"
     ]
    },
    {
     "data": {
      "text/html": [
       "<div>\n",
       "<style scoped>\n",
       "    .dataframe tbody tr th:only-of-type {\n",
       "        vertical-align: middle;\n",
       "    }\n",
       "\n",
       "    .dataframe tbody tr th {\n",
       "        vertical-align: top;\n",
       "    }\n",
       "\n",
       "    .dataframe thead th {\n",
       "        text-align: right;\n",
       "    }\n",
       "</style>\n",
       "<table border=\"1\" class=\"dataframe\">\n",
       "  <thead>\n",
       "    <tr style=\"text-align: right;\">\n",
       "      <th></th>\n",
       "      <th>count</th>\n",
       "      <th>unique</th>\n",
       "      <th>top</th>\n",
       "      <th>freq</th>\n",
       "      <th>mean</th>\n",
       "      <th>std</th>\n",
       "      <th>min</th>\n",
       "      <th>25%</th>\n",
       "      <th>50%</th>\n",
       "      <th>75%</th>\n",
       "      <th>max</th>\n",
       "    </tr>\n",
       "  </thead>\n",
       "  <tbody>\n",
       "    <tr>\n",
       "      <th>Age</th>\n",
       "      <td>1470.0</td>\n",
       "      <td>NaN</td>\n",
       "      <td>NaN</td>\n",
       "      <td>NaN</td>\n",
       "      <td>36.92381</td>\n",
       "      <td>9.135373</td>\n",
       "      <td>18.0</td>\n",
       "      <td>30.0</td>\n",
       "      <td>36.0</td>\n",
       "      <td>43.0</td>\n",
       "      <td>60.0</td>\n",
       "    </tr>\n",
       "    <tr>\n",
       "      <th>Attrition</th>\n",
       "      <td>1470</td>\n",
       "      <td>2</td>\n",
       "      <td>No</td>\n",
       "      <td>1233</td>\n",
       "      <td>NaN</td>\n",
       "      <td>NaN</td>\n",
       "      <td>NaN</td>\n",
       "      <td>NaN</td>\n",
       "      <td>NaN</td>\n",
       "      <td>NaN</td>\n",
       "      <td>NaN</td>\n",
       "    </tr>\n",
       "    <tr>\n",
       "      <th>BusinessTravel</th>\n",
       "      <td>1470</td>\n",
       "      <td>3</td>\n",
       "      <td>Travel_Rarely</td>\n",
       "      <td>1043</td>\n",
       "      <td>NaN</td>\n",
       "      <td>NaN</td>\n",
       "      <td>NaN</td>\n",
       "      <td>NaN</td>\n",
       "      <td>NaN</td>\n",
       "      <td>NaN</td>\n",
       "      <td>NaN</td>\n",
       "    </tr>\n",
       "    <tr>\n",
       "      <th>DailyRate</th>\n",
       "      <td>1470.0</td>\n",
       "      <td>NaN</td>\n",
       "      <td>NaN</td>\n",
       "      <td>NaN</td>\n",
       "      <td>802.485714</td>\n",
       "      <td>403.5091</td>\n",
       "      <td>102.0</td>\n",
       "      <td>465.0</td>\n",
       "      <td>802.0</td>\n",
       "      <td>1157.0</td>\n",
       "      <td>1499.0</td>\n",
       "    </tr>\n",
       "    <tr>\n",
       "      <th>Department</th>\n",
       "      <td>1470</td>\n",
       "      <td>3</td>\n",
       "      <td>Research &amp; Development</td>\n",
       "      <td>961</td>\n",
       "      <td>NaN</td>\n",
       "      <td>NaN</td>\n",
       "      <td>NaN</td>\n",
       "      <td>NaN</td>\n",
       "      <td>NaN</td>\n",
       "      <td>NaN</td>\n",
       "      <td>NaN</td>\n",
       "    </tr>\n",
       "    <tr>\n",
       "      <th>DistanceFromHome</th>\n",
       "      <td>1470.0</td>\n",
       "      <td>NaN</td>\n",
       "      <td>NaN</td>\n",
       "      <td>NaN</td>\n",
       "      <td>9.192517</td>\n",
       "      <td>8.106864</td>\n",
       "      <td>1.0</td>\n",
       "      <td>2.0</td>\n",
       "      <td>7.0</td>\n",
       "      <td>14.0</td>\n",
       "      <td>29.0</td>\n",
       "    </tr>\n",
       "    <tr>\n",
       "      <th>Education</th>\n",
       "      <td>1470.0</td>\n",
       "      <td>NaN</td>\n",
       "      <td>NaN</td>\n",
       "      <td>NaN</td>\n",
       "      <td>2.912925</td>\n",
       "      <td>1.024165</td>\n",
       "      <td>1.0</td>\n",
       "      <td>2.0</td>\n",
       "      <td>3.0</td>\n",
       "      <td>4.0</td>\n",
       "      <td>5.0</td>\n",
       "    </tr>\n",
       "    <tr>\n",
       "      <th>EducationField</th>\n",
       "      <td>1470</td>\n",
       "      <td>6</td>\n",
       "      <td>Life Sciences</td>\n",
       "      <td>606</td>\n",
       "      <td>NaN</td>\n",
       "      <td>NaN</td>\n",
       "      <td>NaN</td>\n",
       "      <td>NaN</td>\n",
       "      <td>NaN</td>\n",
       "      <td>NaN</td>\n",
       "      <td>NaN</td>\n",
       "    </tr>\n",
       "    <tr>\n",
       "      <th>EmployeeCount</th>\n",
       "      <td>1470.0</td>\n",
       "      <td>NaN</td>\n",
       "      <td>NaN</td>\n",
       "      <td>NaN</td>\n",
       "      <td>1.0</td>\n",
       "      <td>0.0</td>\n",
       "      <td>1.0</td>\n",
       "      <td>1.0</td>\n",
       "      <td>1.0</td>\n",
       "      <td>1.0</td>\n",
       "      <td>1.0</td>\n",
       "    </tr>\n",
       "    <tr>\n",
       "      <th>EmployeeNumber</th>\n",
       "      <td>1470.0</td>\n",
       "      <td>NaN</td>\n",
       "      <td>NaN</td>\n",
       "      <td>NaN</td>\n",
       "      <td>1024.865306</td>\n",
       "      <td>602.024335</td>\n",
       "      <td>1.0</td>\n",
       "      <td>491.25</td>\n",
       "      <td>1020.5</td>\n",
       "      <td>1555.75</td>\n",
       "      <td>2068.0</td>\n",
       "    </tr>\n",
       "    <tr>\n",
       "      <th>EnvironmentSatisfaction</th>\n",
       "      <td>1470.0</td>\n",
       "      <td>NaN</td>\n",
       "      <td>NaN</td>\n",
       "      <td>NaN</td>\n",
       "      <td>2.721769</td>\n",
       "      <td>1.093082</td>\n",
       "      <td>1.0</td>\n",
       "      <td>2.0</td>\n",
       "      <td>3.0</td>\n",
       "      <td>4.0</td>\n",
       "      <td>4.0</td>\n",
       "    </tr>\n",
       "    <tr>\n",
       "      <th>Gender</th>\n",
       "      <td>1470</td>\n",
       "      <td>2</td>\n",
       "      <td>Male</td>\n",
       "      <td>882</td>\n",
       "      <td>NaN</td>\n",
       "      <td>NaN</td>\n",
       "      <td>NaN</td>\n",
       "      <td>NaN</td>\n",
       "      <td>NaN</td>\n",
       "      <td>NaN</td>\n",
       "      <td>NaN</td>\n",
       "    </tr>\n",
       "    <tr>\n",
       "      <th>HourlyRate</th>\n",
       "      <td>1470.0</td>\n",
       "      <td>NaN</td>\n",
       "      <td>NaN</td>\n",
       "      <td>NaN</td>\n",
       "      <td>65.891156</td>\n",
       "      <td>20.329428</td>\n",
       "      <td>30.0</td>\n",
       "      <td>48.0</td>\n",
       "      <td>66.0</td>\n",
       "      <td>83.75</td>\n",
       "      <td>100.0</td>\n",
       "    </tr>\n",
       "    <tr>\n",
       "      <th>JobInvolvement</th>\n",
       "      <td>1470.0</td>\n",
       "      <td>NaN</td>\n",
       "      <td>NaN</td>\n",
       "      <td>NaN</td>\n",
       "      <td>2.729932</td>\n",
       "      <td>0.711561</td>\n",
       "      <td>1.0</td>\n",
       "      <td>2.0</td>\n",
       "      <td>3.0</td>\n",
       "      <td>3.0</td>\n",
       "      <td>4.0</td>\n",
       "    </tr>\n",
       "    <tr>\n",
       "      <th>JobLevel</th>\n",
       "      <td>1470.0</td>\n",
       "      <td>NaN</td>\n",
       "      <td>NaN</td>\n",
       "      <td>NaN</td>\n",
       "      <td>2.063946</td>\n",
       "      <td>1.10694</td>\n",
       "      <td>1.0</td>\n",
       "      <td>1.0</td>\n",
       "      <td>2.0</td>\n",
       "      <td>3.0</td>\n",
       "      <td>5.0</td>\n",
       "    </tr>\n",
       "    <tr>\n",
       "      <th>JobRole</th>\n",
       "      <td>1470</td>\n",
       "      <td>9</td>\n",
       "      <td>Sales Executive</td>\n",
       "      <td>326</td>\n",
       "      <td>NaN</td>\n",
       "      <td>NaN</td>\n",
       "      <td>NaN</td>\n",
       "      <td>NaN</td>\n",
       "      <td>NaN</td>\n",
       "      <td>NaN</td>\n",
       "      <td>NaN</td>\n",
       "    </tr>\n",
       "    <tr>\n",
       "      <th>JobSatisfaction</th>\n",
       "      <td>1470.0</td>\n",
       "      <td>NaN</td>\n",
       "      <td>NaN</td>\n",
       "      <td>NaN</td>\n",
       "      <td>2.728571</td>\n",
       "      <td>1.102846</td>\n",
       "      <td>1.0</td>\n",
       "      <td>2.0</td>\n",
       "      <td>3.0</td>\n",
       "      <td>4.0</td>\n",
       "      <td>4.0</td>\n",
       "    </tr>\n",
       "    <tr>\n",
       "      <th>MaritalStatus</th>\n",
       "      <td>1470</td>\n",
       "      <td>3</td>\n",
       "      <td>Married</td>\n",
       "      <td>673</td>\n",
       "      <td>NaN</td>\n",
       "      <td>NaN</td>\n",
       "      <td>NaN</td>\n",
       "      <td>NaN</td>\n",
       "      <td>NaN</td>\n",
       "      <td>NaN</td>\n",
       "      <td>NaN</td>\n",
       "    </tr>\n",
       "    <tr>\n",
       "      <th>MonthlyIncome</th>\n",
       "      <td>1470.0</td>\n",
       "      <td>NaN</td>\n",
       "      <td>NaN</td>\n",
       "      <td>NaN</td>\n",
       "      <td>6502.931293</td>\n",
       "      <td>4707.956783</td>\n",
       "      <td>1009.0</td>\n",
       "      <td>2911.0</td>\n",
       "      <td>4919.0</td>\n",
       "      <td>8379.0</td>\n",
       "      <td>19999.0</td>\n",
       "    </tr>\n",
       "    <tr>\n",
       "      <th>MonthlyRate</th>\n",
       "      <td>1470.0</td>\n",
       "      <td>NaN</td>\n",
       "      <td>NaN</td>\n",
       "      <td>NaN</td>\n",
       "      <td>14313.103401</td>\n",
       "      <td>7117.786044</td>\n",
       "      <td>2094.0</td>\n",
       "      <td>8047.0</td>\n",
       "      <td>14235.5</td>\n",
       "      <td>20461.5</td>\n",
       "      <td>26999.0</td>\n",
       "    </tr>\n",
       "    <tr>\n",
       "      <th>NumCompaniesWorked</th>\n",
       "      <td>1470.0</td>\n",
       "      <td>NaN</td>\n",
       "      <td>NaN</td>\n",
       "      <td>NaN</td>\n",
       "      <td>2.693197</td>\n",
       "      <td>2.498009</td>\n",
       "      <td>0.0</td>\n",
       "      <td>1.0</td>\n",
       "      <td>2.0</td>\n",
       "      <td>4.0</td>\n",
       "      <td>9.0</td>\n",
       "    </tr>\n",
       "    <tr>\n",
       "      <th>Over18</th>\n",
       "      <td>1470</td>\n",
       "      <td>1</td>\n",
       "      <td>Y</td>\n",
       "      <td>1470</td>\n",
       "      <td>NaN</td>\n",
       "      <td>NaN</td>\n",
       "      <td>NaN</td>\n",
       "      <td>NaN</td>\n",
       "      <td>NaN</td>\n",
       "      <td>NaN</td>\n",
       "      <td>NaN</td>\n",
       "    </tr>\n",
       "    <tr>\n",
       "      <th>OverTime</th>\n",
       "      <td>1470</td>\n",
       "      <td>2</td>\n",
       "      <td>No</td>\n",
       "      <td>1054</td>\n",
       "      <td>NaN</td>\n",
       "      <td>NaN</td>\n",
       "      <td>NaN</td>\n",
       "      <td>NaN</td>\n",
       "      <td>NaN</td>\n",
       "      <td>NaN</td>\n",
       "      <td>NaN</td>\n",
       "    </tr>\n",
       "    <tr>\n",
       "      <th>PercentSalaryHike</th>\n",
       "      <td>1470.0</td>\n",
       "      <td>NaN</td>\n",
       "      <td>NaN</td>\n",
       "      <td>NaN</td>\n",
       "      <td>15.209524</td>\n",
       "      <td>3.659938</td>\n",
       "      <td>11.0</td>\n",
       "      <td>12.0</td>\n",
       "      <td>14.0</td>\n",
       "      <td>18.0</td>\n",
       "      <td>25.0</td>\n",
       "    </tr>\n",
       "    <tr>\n",
       "      <th>PerformanceRating</th>\n",
       "      <td>1470.0</td>\n",
       "      <td>NaN</td>\n",
       "      <td>NaN</td>\n",
       "      <td>NaN</td>\n",
       "      <td>3.153741</td>\n",
       "      <td>0.360824</td>\n",
       "      <td>3.0</td>\n",
       "      <td>3.0</td>\n",
       "      <td>3.0</td>\n",
       "      <td>3.0</td>\n",
       "      <td>4.0</td>\n",
       "    </tr>\n",
       "    <tr>\n",
       "      <th>RelationshipSatisfaction</th>\n",
       "      <td>1470.0</td>\n",
       "      <td>NaN</td>\n",
       "      <td>NaN</td>\n",
       "      <td>NaN</td>\n",
       "      <td>2.712245</td>\n",
       "      <td>1.081209</td>\n",
       "      <td>1.0</td>\n",
       "      <td>2.0</td>\n",
       "      <td>3.0</td>\n",
       "      <td>4.0</td>\n",
       "      <td>4.0</td>\n",
       "    </tr>\n",
       "    <tr>\n",
       "      <th>StandardHours</th>\n",
       "      <td>1470.0</td>\n",
       "      <td>NaN</td>\n",
       "      <td>NaN</td>\n",
       "      <td>NaN</td>\n",
       "      <td>80.0</td>\n",
       "      <td>0.0</td>\n",
       "      <td>80.0</td>\n",
       "      <td>80.0</td>\n",
       "      <td>80.0</td>\n",
       "      <td>80.0</td>\n",
       "      <td>80.0</td>\n",
       "    </tr>\n",
       "    <tr>\n",
       "      <th>StockOptionLevel</th>\n",
       "      <td>1470.0</td>\n",
       "      <td>NaN</td>\n",
       "      <td>NaN</td>\n",
       "      <td>NaN</td>\n",
       "      <td>0.793878</td>\n",
       "      <td>0.852077</td>\n",
       "      <td>0.0</td>\n",
       "      <td>0.0</td>\n",
       "      <td>1.0</td>\n",
       "      <td>1.0</td>\n",
       "      <td>3.0</td>\n",
       "    </tr>\n",
       "    <tr>\n",
       "      <th>TotalWorkingYears</th>\n",
       "      <td>1470.0</td>\n",
       "      <td>NaN</td>\n",
       "      <td>NaN</td>\n",
       "      <td>NaN</td>\n",
       "      <td>11.279592</td>\n",
       "      <td>7.780782</td>\n",
       "      <td>0.0</td>\n",
       "      <td>6.0</td>\n",
       "      <td>10.0</td>\n",
       "      <td>15.0</td>\n",
       "      <td>40.0</td>\n",
       "    </tr>\n",
       "    <tr>\n",
       "      <th>TrainingTimesLastYear</th>\n",
       "      <td>1470.0</td>\n",
       "      <td>NaN</td>\n",
       "      <td>NaN</td>\n",
       "      <td>NaN</td>\n",
       "      <td>2.79932</td>\n",
       "      <td>1.289271</td>\n",
       "      <td>0.0</td>\n",
       "      <td>2.0</td>\n",
       "      <td>3.0</td>\n",
       "      <td>3.0</td>\n",
       "      <td>6.0</td>\n",
       "    </tr>\n",
       "    <tr>\n",
       "      <th>WorkLifeBalance</th>\n",
       "      <td>1470.0</td>\n",
       "      <td>NaN</td>\n",
       "      <td>NaN</td>\n",
       "      <td>NaN</td>\n",
       "      <td>2.761224</td>\n",
       "      <td>0.706476</td>\n",
       "      <td>1.0</td>\n",
       "      <td>2.0</td>\n",
       "      <td>3.0</td>\n",
       "      <td>3.0</td>\n",
       "      <td>4.0</td>\n",
       "    </tr>\n",
       "    <tr>\n",
       "      <th>YearsAtCompany</th>\n",
       "      <td>1470.0</td>\n",
       "      <td>NaN</td>\n",
       "      <td>NaN</td>\n",
       "      <td>NaN</td>\n",
       "      <td>7.008163</td>\n",
       "      <td>6.126525</td>\n",
       "      <td>0.0</td>\n",
       "      <td>3.0</td>\n",
       "      <td>5.0</td>\n",
       "      <td>9.0</td>\n",
       "      <td>40.0</td>\n",
       "    </tr>\n",
       "    <tr>\n",
       "      <th>YearsInCurrentRole</th>\n",
       "      <td>1470.0</td>\n",
       "      <td>NaN</td>\n",
       "      <td>NaN</td>\n",
       "      <td>NaN</td>\n",
       "      <td>4.229252</td>\n",
       "      <td>3.623137</td>\n",
       "      <td>0.0</td>\n",
       "      <td>2.0</td>\n",
       "      <td>3.0</td>\n",
       "      <td>7.0</td>\n",
       "      <td>18.0</td>\n",
       "    </tr>\n",
       "    <tr>\n",
       "      <th>YearsSinceLastPromotion</th>\n",
       "      <td>1470.0</td>\n",
       "      <td>NaN</td>\n",
       "      <td>NaN</td>\n",
       "      <td>NaN</td>\n",
       "      <td>2.187755</td>\n",
       "      <td>3.22243</td>\n",
       "      <td>0.0</td>\n",
       "      <td>0.0</td>\n",
       "      <td>1.0</td>\n",
       "      <td>3.0</td>\n",
       "      <td>15.0</td>\n",
       "    </tr>\n",
       "    <tr>\n",
       "      <th>YearsWithCurrManager</th>\n",
       "      <td>1470.0</td>\n",
       "      <td>NaN</td>\n",
       "      <td>NaN</td>\n",
       "      <td>NaN</td>\n",
       "      <td>4.123129</td>\n",
       "      <td>3.568136</td>\n",
       "      <td>0.0</td>\n",
       "      <td>2.0</td>\n",
       "      <td>3.0</td>\n",
       "      <td>7.0</td>\n",
       "      <td>17.0</td>\n",
       "    </tr>\n",
       "  </tbody>\n",
       "</table>\n",
       "</div>"
      ],
      "text/plain": [
       "                           count unique                     top  freq  \\\n",
       "Age                       1470.0    NaN                     NaN   NaN   \n",
       "Attrition                   1470      2                      No  1233   \n",
       "BusinessTravel              1470      3           Travel_Rarely  1043   \n",
       "DailyRate                 1470.0    NaN                     NaN   NaN   \n",
       "Department                  1470      3  Research & Development   961   \n",
       "DistanceFromHome          1470.0    NaN                     NaN   NaN   \n",
       "Education                 1470.0    NaN                     NaN   NaN   \n",
       "EducationField              1470      6           Life Sciences   606   \n",
       "EmployeeCount             1470.0    NaN                     NaN   NaN   \n",
       "EmployeeNumber            1470.0    NaN                     NaN   NaN   \n",
       "EnvironmentSatisfaction   1470.0    NaN                     NaN   NaN   \n",
       "Gender                      1470      2                    Male   882   \n",
       "HourlyRate                1470.0    NaN                     NaN   NaN   \n",
       "JobInvolvement            1470.0    NaN                     NaN   NaN   \n",
       "JobLevel                  1470.0    NaN                     NaN   NaN   \n",
       "JobRole                     1470      9         Sales Executive   326   \n",
       "JobSatisfaction           1470.0    NaN                     NaN   NaN   \n",
       "MaritalStatus               1470      3                 Married   673   \n",
       "MonthlyIncome             1470.0    NaN                     NaN   NaN   \n",
       "MonthlyRate               1470.0    NaN                     NaN   NaN   \n",
       "NumCompaniesWorked        1470.0    NaN                     NaN   NaN   \n",
       "Over18                      1470      1                       Y  1470   \n",
       "OverTime                    1470      2                      No  1054   \n",
       "PercentSalaryHike         1470.0    NaN                     NaN   NaN   \n",
       "PerformanceRating         1470.0    NaN                     NaN   NaN   \n",
       "RelationshipSatisfaction  1470.0    NaN                     NaN   NaN   \n",
       "StandardHours             1470.0    NaN                     NaN   NaN   \n",
       "StockOptionLevel          1470.0    NaN                     NaN   NaN   \n",
       "TotalWorkingYears         1470.0    NaN                     NaN   NaN   \n",
       "TrainingTimesLastYear     1470.0    NaN                     NaN   NaN   \n",
       "WorkLifeBalance           1470.0    NaN                     NaN   NaN   \n",
       "YearsAtCompany            1470.0    NaN                     NaN   NaN   \n",
       "YearsInCurrentRole        1470.0    NaN                     NaN   NaN   \n",
       "YearsSinceLastPromotion   1470.0    NaN                     NaN   NaN   \n",
       "YearsWithCurrManager      1470.0    NaN                     NaN   NaN   \n",
       "\n",
       "                                  mean          std     min     25%      50%  \\\n",
       "Age                           36.92381     9.135373    18.0    30.0     36.0   \n",
       "Attrition                          NaN          NaN     NaN     NaN      NaN   \n",
       "BusinessTravel                     NaN          NaN     NaN     NaN      NaN   \n",
       "DailyRate                   802.485714     403.5091   102.0   465.0    802.0   \n",
       "Department                         NaN          NaN     NaN     NaN      NaN   \n",
       "DistanceFromHome              9.192517     8.106864     1.0     2.0      7.0   \n",
       "Education                     2.912925     1.024165     1.0     2.0      3.0   \n",
       "EducationField                     NaN          NaN     NaN     NaN      NaN   \n",
       "EmployeeCount                      1.0          0.0     1.0     1.0      1.0   \n",
       "EmployeeNumber             1024.865306   602.024335     1.0  491.25   1020.5   \n",
       "EnvironmentSatisfaction       2.721769     1.093082     1.0     2.0      3.0   \n",
       "Gender                             NaN          NaN     NaN     NaN      NaN   \n",
       "HourlyRate                   65.891156    20.329428    30.0    48.0     66.0   \n",
       "JobInvolvement                2.729932     0.711561     1.0     2.0      3.0   \n",
       "JobLevel                      2.063946      1.10694     1.0     1.0      2.0   \n",
       "JobRole                            NaN          NaN     NaN     NaN      NaN   \n",
       "JobSatisfaction               2.728571     1.102846     1.0     2.0      3.0   \n",
       "MaritalStatus                      NaN          NaN     NaN     NaN      NaN   \n",
       "MonthlyIncome              6502.931293  4707.956783  1009.0  2911.0   4919.0   \n",
       "MonthlyRate               14313.103401  7117.786044  2094.0  8047.0  14235.5   \n",
       "NumCompaniesWorked            2.693197     2.498009     0.0     1.0      2.0   \n",
       "Over18                             NaN          NaN     NaN     NaN      NaN   \n",
       "OverTime                           NaN          NaN     NaN     NaN      NaN   \n",
       "PercentSalaryHike            15.209524     3.659938    11.0    12.0     14.0   \n",
       "PerformanceRating             3.153741     0.360824     3.0     3.0      3.0   \n",
       "RelationshipSatisfaction      2.712245     1.081209     1.0     2.0      3.0   \n",
       "StandardHours                     80.0          0.0    80.0    80.0     80.0   \n",
       "StockOptionLevel              0.793878     0.852077     0.0     0.0      1.0   \n",
       "TotalWorkingYears            11.279592     7.780782     0.0     6.0     10.0   \n",
       "TrainingTimesLastYear          2.79932     1.289271     0.0     2.0      3.0   \n",
       "WorkLifeBalance               2.761224     0.706476     1.0     2.0      3.0   \n",
       "YearsAtCompany                7.008163     6.126525     0.0     3.0      5.0   \n",
       "YearsInCurrentRole            4.229252     3.623137     0.0     2.0      3.0   \n",
       "YearsSinceLastPromotion       2.187755      3.22243     0.0     0.0      1.0   \n",
       "YearsWithCurrManager          4.123129     3.568136     0.0     2.0      3.0   \n",
       "\n",
       "                              75%      max  \n",
       "Age                          43.0     60.0  \n",
       "Attrition                     NaN      NaN  \n",
       "BusinessTravel                NaN      NaN  \n",
       "DailyRate                  1157.0   1499.0  \n",
       "Department                    NaN      NaN  \n",
       "DistanceFromHome             14.0     29.0  \n",
       "Education                     4.0      5.0  \n",
       "EducationField                NaN      NaN  \n",
       "EmployeeCount                 1.0      1.0  \n",
       "EmployeeNumber            1555.75   2068.0  \n",
       "EnvironmentSatisfaction       4.0      4.0  \n",
       "Gender                        NaN      NaN  \n",
       "HourlyRate                  83.75    100.0  \n",
       "JobInvolvement                3.0      4.0  \n",
       "JobLevel                      3.0      5.0  \n",
       "JobRole                       NaN      NaN  \n",
       "JobSatisfaction               4.0      4.0  \n",
       "MaritalStatus                 NaN      NaN  \n",
       "MonthlyIncome              8379.0  19999.0  \n",
       "MonthlyRate               20461.5  26999.0  \n",
       "NumCompaniesWorked            4.0      9.0  \n",
       "Over18                        NaN      NaN  \n",
       "OverTime                      NaN      NaN  \n",
       "PercentSalaryHike            18.0     25.0  \n",
       "PerformanceRating             3.0      4.0  \n",
       "RelationshipSatisfaction      4.0      4.0  \n",
       "StandardHours                80.0     80.0  \n",
       "StockOptionLevel              1.0      3.0  \n",
       "TotalWorkingYears            15.0     40.0  \n",
       "TrainingTimesLastYear         3.0      6.0  \n",
       "WorkLifeBalance               3.0      4.0  \n",
       "YearsAtCompany                9.0     40.0  \n",
       "YearsInCurrentRole            7.0     18.0  \n",
       "YearsSinceLastPromotion       3.0     15.0  \n",
       "YearsWithCurrManager          7.0     17.0  "
      ]
     },
     "execution_count": 2,
     "metadata": {},
     "output_type": "execute_result"
    }
   ],
   "source": [
    "# ++++++++++++++ THE SECTION TO ADD CODE STARTS. ++++++++++++++++++++\n",
    "df = pd.read_csv(\"WA_Fn-UseC_-HR-Employee-Attrition.xls\")\n",
    "# +++++++++++++ THE SECTION TO ADD CODE ENDS. +++++++++++++++++++++\n",
    "\n",
    "print(\"Size of the DataFrame:\", df.shape)\n",
    "df.describe(include = 'all').T\n"
   ]
  },
  {
   "cell_type": "markdown",
   "id": "4KnDCDS5vh05",
   "metadata": {
    "id": "4KnDCDS5vh05"
   },
   "source": [
    "# **Exercise 3:**"
   ]
  },
  {
   "cell_type": "markdown",
   "id": "H3LIfPWNvhw0",
   "metadata": {
    "id": "H3LIfPWNvhw0"
   },
   "source": [
    "#### **Indicate the difference between using or not using the argument include=\"all\" in the \"describe\" method in the previous exercise.**"
   ]
  },
  {
   "cell_type": "markdown",
   "id": "hf0DL3YcwVAC",
   "metadata": {
    "id": "hf0DL3YcwVAC"
   },
   "source": [
    "++++++++ Section to add text starts ++++++++++++\n",
    "\n",
    "The argument \"include=\"all\"\" ensures that the output also includes non-numeric values; otherwise, they are ignored. Additionally, the metrics \"unique\", \"top\", and \"freq\" are included to analyze those non-numeric values.\n",
    "\n",
    "++++++++ Section to add text ends ++++++++++++"
   ]
  },
  {
   "cell_type": "markdown",
   "id": "-kGON2vOw9_8",
   "metadata": {
    "id": "-kGON2vOw9_8"
   },
   "source": [
    "# **Exercise 4:**"
   ]
  },
  {
   "cell_type": "markdown",
   "id": "Rb0lc1OrxAuY",
   "metadata": {
    "id": "Rb0lc1OrxAuY"
   },
   "source": [
    "#### **Based on the information displayed by the previous instruction, we have decided to exclude the following factors from our problem: Over18, EmployeeCount, StandardHours, EmployeeNumber. Explain the justification that allows us to exclude each of these factors**\n",
    "\n",
    "++++++++ Section to add text starts ++++++++++++\n",
    "\n",
    "**a)   Over18**: When analyzing the data for this attribute in the \"unique\" column, we realize that a single value (Y) fills the entire column, making it irrelevant for analysis\n",
    "\n",
    "**b)\tEmployeeCount**: We can see that this attribute has the same value in its mean, minimum value, maximum value, and all three quartiles. Additionally, its standard deviation is 0, indicating that this column consists of a single value (1). Therefore, it does not provide relevant information.\n",
    "\n",
    "**c)\tStandardHours**: We encounter the same case as seen in \"EmployeeCount\", where the entire column consists of a single value (80).\n",
    "\n",
    "**d)\tEmployeeNumber**: This variable does have different values, as its metrics vary significantly. However, we can observe that this column serves as an identifier, meaning it will always be unique in each case, regardless of other values. As a result, it does not contribute meaningful information for analysis.\n",
    "\n",
    "++++++++ Section to add text ends ++++++++++++\n",
    "\n",
    "\n"
   ]
  },
  {
   "cell_type": "code",
   "execution_count": 3,
   "id": "9b32cb04",
   "metadata": {
    "colab": {
     "base_uri": "https://localhost:8080/"
    },
    "id": "9b32cb04",
    "outputId": "469fd830-60e8-4fb6-8acd-08cb175beff5"
   },
   "outputs": [
    {
     "name": "stdout",
     "output_type": "stream",
     "text": [
      "Size of the new DataFrame: (1470, 31)\n"
     ]
    }
   ],
   "source": [
    "# We eliminate the indicated factors:\n",
    "\n",
    "df = df.drop(['Over18','EmployeeCount','StandardHours','EmployeeNumber'],axis=1)\n",
    "\n",
    "print(\"Size of the new DataFrame:\", df.shape)"
   ]
  },
  {
   "cell_type": "markdown",
   "id": "BFJsH9kx0vFa",
   "metadata": {
    "id": "BFJsH9kx0vFa"
   },
   "source": [
    "# **Exercise 5:**"
   ]
  },
  {
   "cell_type": "markdown",
   "id": "UWcvTjY63Uru",
   "metadata": {
    "id": "UWcvTjY63Uru"
   },
   "source": [
    "**Partition the data into Training, Validation, and Test sets, using 70%, 15%, and 15%, respectively.**\n",
    "\n",
    "Name these sets as follows:\n",
    "- Xtrain, Xval, Xtest for input data\n",
    "- ytrain, yval, ytest for output data\n",
    "\n",
    "Ensure that the partition maintains stratification of the classes in the \"Attrition\" variable.\n",
    "\n",
    "Additionally, display the obtained dimensions of the three sets: Training, Validation, and Test.\n",
    "\n",
    "**NOTE: Use random seeds in each partitioning function to ensure repeatability of your model and allow for better evaluation.**"
   ]
  },
  {
   "cell_type": "code",
   "execution_count": 4,
   "id": "4pYkwIiF1aU9",
   "metadata": {
    "colab": {
     "base_uri": "https://localhost:8080/"
    },
    "id": "4pYkwIiF1aU9",
    "outputId": "39b40258-ffd6-48d7-a960-23dbbb2f6857"
   },
   "outputs": [
    {
     "name": "stdout",
     "output_type": "stream",
     "text": [
      "Training Set    X:(1029, 30) y:(1029, 1)\n",
      "Validation Set    X:(220, 30)  y:(220, 1)\n",
      "Test Set    X:(221, 30)  y:(221, 1)\n"
     ]
    }
   ],
   "source": [
    "# ++++++++++++++ THE SECTION TO ADD CODE STARTS. +++++++++++++++++++++\n",
    "y = df[['Attrition']]\n",
    "X = df.drop(['Attrition'],axis=1)\n",
    "\n",
    "Xtemp,Xtrain, ytemp,ytrain = train_test_split(X,y,test_size=0.7,stratify=y,random_state=1)\n",
    "Xval,Xtest,yval,ytest = train_test_split(Xtemp,ytemp, test_size=0.5,stratify=ytemp,random_state=1)\n",
    "\n",
    "print(f'Training Set    X:{Xtrain.shape} y:{ytrain.shape}')\n",
    "print(f'Validation Set    X:{Xval.shape}  y:{yval.shape}')\n",
    "print(f'Test Set    X:{Xtest.shape}  y:{ytest.shape}')\n",
    "\n",
    "# ++++++++++++++ THE SECTION TO ADD CODE ENDS. +++++++++++++++++++++"
   ]
  },
  {
   "cell_type": "markdown",
   "id": "89133c57",
   "metadata": {
    "id": "89133c57"
   },
   "source": [
    "# **Exercise 6:**\n"
   ]
  },
  {
   "cell_type": "markdown",
   "id": "IE3vDeVW6Laq",
   "metadata": {
    "id": "IE3vDeVW6Laq"
   },
   "source": [
    "Apply the LabelEncoder() transformation from sklearn to the output variable \"Attrition\". The new variables should now be named: ytrainT, yvalT, ytestT. Find the proportion of data at each level of this variable, and based on this information, determine whether we can consider this a class imbalance problem.\n",
    "\n",
    "**NOTE: Apply this transformation while avoiding data leakage.**"
   ]
  },
  {
   "cell_type": "code",
   "execution_count": 5,
   "id": "D6FkTLVBd2N0",
   "metadata": {
    "colab": {
     "base_uri": "https://localhost:8080/"
    },
    "id": "D6FkTLVBd2N0",
    "outputId": "fd27349e-3544-4ca1-89e7-697ee6552152"
   },
   "outputs": [
    {
     "name": "stdout",
     "output_type": "stream",
     "text": [
      "Percentage of data in each training class - Attrition: Attrition\n",
      "0    0.838678\n",
      "1    0.161322\n",
      "Name: count, dtype: float64\n"
     ]
    }
   ],
   "source": [
    "# ++++++++++ THE SECTION TO ADD CODE STARTS ++++++++++++++++++++++++\n",
    "le = LabelEncoder()\n",
    "le.fit(ytrain['Attrition'])\n",
    "\n",
    "ytrainT = pd.DataFrame(le.transform(ytrain['Attrition']), columns=[\"Attrition\"])\n",
    "yvalT = pd.DataFrame(le.transform(yval['Attrition']), columns=[\"Attrition\"])\n",
    "ytestT = pd.DataFrame(le.transform(ytest['Attrition']), columns=[\"Attrition\"])\n",
    "\n",
    "# +++++++++++++++++ THE SECTION TO ADD CODE ENDS ++++++++++++++++++++++++\n",
    "\n",
    "print('Percentage of data in each training class - Attrition:', ytrainT['Attrition'].value_counts() / ytrainT.shape[0])"
   ]
  },
  {
   "cell_type": "markdown",
   "id": "u6ClCT1Z4bqp",
   "metadata": {
    "id": "u6ClCT1Z4bqp"
   },
   "source": [
    "As we can see in the percentages, there is a strong imbalance in the data. More than 80% of the instances are concentrated in a single category.\n"
   ]
  },
  {
   "cell_type": "markdown",
   "id": "3iE95_bh8XF4",
   "metadata": {
    "id": "3iE95_bh8XF4"
   },
   "source": [
    "# **Exercise 7:**\n"
   ]
  },
  {
   "cell_type": "markdown",
   "id": "tj6jEsdS4-1-",
   "metadata": {
    "id": "tj6jEsdS4-1-"
   },
   "source": [
    "**Include the appropriate graphical and descriptive analysis below. Based on these graphs, what type of transformations do you suggest for these variables?**"
   ]
  },
  {
   "cell_type": "code",
   "execution_count": 6,
   "id": "fa966050",
   "metadata": {
    "id": "fa966050"
   },
   "outputs": [],
   "source": [
    "# ++++++++++ THE SECTION TO ADD CODE STARTS ++++++++++++++++++++++++"
   ]
  },
  {
   "cell_type": "markdown",
   "id": "YHZKUsgh5G9M",
   "metadata": {
    "id": "YHZKUsgh5G9M"
   },
   "source": [
    "We can analyze the histograms and boxplots of the numerical variables to get an idea of their distributions and the number of outliers. Based on this, we can decide which transformations will be necessary."
   ]
  },
  {
   "cell_type": "code",
   "execution_count": 7,
   "id": "ih0ITJExKttW",
   "metadata": {
    "colab": {
     "base_uri": "https://localhost:8080/",
     "height": 706
    },
    "id": "ih0ITJExKttW",
    "outputId": "73958c09-1330-4c9e-9464-7f960d4042cb"
   },
   "outputs": [
    {
     "data": {
      "image/png": "[encoded data removed]",
      "text/plain": [
       "<Figure size 3000x1000 with 15 Axes>"
      ]
     },
     "metadata": {},
     "output_type": "display_data"
    }
   ],
   "source": [
    "fig, axes = plt.subplots(3,5, figsize = (30,10))\n",
    "axes = axes.ravel()\n",
    "numCol = ['NumCompaniesWorked','TrainingTimesLastYear','Age','DailyRate','DistanceFromHome','HourlyRate','MonthlyIncome','MonthlyRate','PercentSalaryHike','TotalWorkingYears','YearsAtCompany','YearsInCurrentRole','YearsSinceLastPromotion','YearsWithCurrManager']\n",
    "\n",
    "for col,ax in zip(numCol,axes):\n",
    "  sns.histplot(x=Xtrain[col],ax=ax, bins=10)\n",
    "  ax.set(title=f'{col}',xlabel=None)"
   ]
  },
  {
   "cell_type": "code",
   "execution_count": 8,
   "id": "Z-RHsn7bR0JC",
   "metadata": {
    "colab": {
     "base_uri": "https://localhost:8080/",
     "height": 721
    },
    "id": "Z-RHsn7bR0JC",
    "outputId": "18263008-526c-41a7-f935-36edb364c651"
   },
   "outputs": [
    {
     "data": {
      "image/png": "[encoded data removed]",
      "text/plain": [
       "<Figure size 3000x1000 with 15 Axes>"
      ]
     },
     "metadata": {},
     "output_type": "display_data"
    }
   ],
   "source": [
    "fig, axes = plt.subplots(3,5, figsize = (30,10))\n",
    "axes = axes.ravel()\n",
    "numCol = ['NumCompaniesWorked','TrainingTimesLastYear','Age','DailyRate','DistanceFromHome','HourlyRate','MonthlyIncome','MonthlyRate','PercentSalaryHike','TotalWorkingYears','YearsAtCompany','YearsInCurrentRole','YearsSinceLastPromotion','YearsWithCurrManager']\n",
    "\n",
    "for col,ax in zip(numCol,axes):\n",
    "  sns.boxplot(x=Xtrain[col],ax=ax)\n",
    "  ax.set(title=f'{col}',xlabel=None)"
   ]
  },
  {
   "cell_type": "code",
   "execution_count": 9,
   "id": "rt7xwN_hK6iv",
   "metadata": {
    "colab": {
     "base_uri": "https://localhost:8080/",
     "height": 489
    },
    "id": "rt7xwN_hK6iv",
    "outputId": "2d44c4e7-d077-4bc1-f3e5-4412fcf3ecff"
   },
   "outputs": [
    {
     "data": {
      "text/html": [
       "<div>\n",
       "<style scoped>\n",
       "    .dataframe tbody tr th:only-of-type {\n",
       "        vertical-align: middle;\n",
       "    }\n",
       "\n",
       "    .dataframe tbody tr th {\n",
       "        vertical-align: top;\n",
       "    }\n",
       "\n",
       "    .dataframe thead th {\n",
       "        text-align: right;\n",
       "    }\n",
       "</style>\n",
       "<table border=\"1\" class=\"dataframe\">\n",
       "  <thead>\n",
       "    <tr style=\"text-align: right;\">\n",
       "      <th></th>\n",
       "      <th>count</th>\n",
       "      <th>mean</th>\n",
       "      <th>std</th>\n",
       "      <th>min</th>\n",
       "      <th>25%</th>\n",
       "      <th>50%</th>\n",
       "      <th>75%</th>\n",
       "      <th>max</th>\n",
       "      <th>Kurtosis</th>\n",
       "      <th>Skewness</th>\n",
       "    </tr>\n",
       "  </thead>\n",
       "  <tbody>\n",
       "    <tr>\n",
       "      <th>NumCompaniesWorked</th>\n",
       "      <td>1029.0</td>\n",
       "      <td>2.702624</td>\n",
       "      <td>2.530553</td>\n",
       "      <td>0.0</td>\n",
       "      <td>1.0</td>\n",
       "      <td>2.0</td>\n",
       "      <td>4.0</td>\n",
       "      <td>9.0</td>\n",
       "      <td>-0.045266</td>\n",
       "      <td>1.024641</td>\n",
       "    </tr>\n",
       "    <tr>\n",
       "      <th>TrainingTimesLastYear</th>\n",
       "      <td>1029.0</td>\n",
       "      <td>2.804665</td>\n",
       "      <td>1.275227</td>\n",
       "      <td>0.0</td>\n",
       "      <td>2.0</td>\n",
       "      <td>3.0</td>\n",
       "      <td>3.0</td>\n",
       "      <td>6.0</td>\n",
       "      <td>0.585121</td>\n",
       "      <td>0.583878</td>\n",
       "    </tr>\n",
       "    <tr>\n",
       "      <th>Age</th>\n",
       "      <td>1029.0</td>\n",
       "      <td>36.773567</td>\n",
       "      <td>8.962538</td>\n",
       "      <td>18.0</td>\n",
       "      <td>30.0</td>\n",
       "      <td>35.0</td>\n",
       "      <td>42.0</td>\n",
       "      <td>60.0</td>\n",
       "      <td>-0.334518</td>\n",
       "      <td>0.442179</td>\n",
       "    </tr>\n",
       "    <tr>\n",
       "      <th>DailyRate</th>\n",
       "      <td>1029.0</td>\n",
       "      <td>810.112731</td>\n",
       "      <td>404.094553</td>\n",
       "      <td>103.0</td>\n",
       "      <td>468.0</td>\n",
       "      <td>819.0</td>\n",
       "      <td>1168.0</td>\n",
       "      <td>1499.0</td>\n",
       "      <td>-1.221482</td>\n",
       "      <td>-0.041341</td>\n",
       "    </tr>\n",
       "    <tr>\n",
       "      <th>DistanceFromHome</th>\n",
       "      <td>1029.0</td>\n",
       "      <td>8.966958</td>\n",
       "      <td>8.022274</td>\n",
       "      <td>1.0</td>\n",
       "      <td>2.0</td>\n",
       "      <td>7.0</td>\n",
       "      <td>13.0</td>\n",
       "      <td>29.0</td>\n",
       "      <td>-0.089093</td>\n",
       "      <td>1.014304</td>\n",
       "    </tr>\n",
       "    <tr>\n",
       "      <th>HourlyRate</th>\n",
       "      <td>1029.0</td>\n",
       "      <td>65.714286</td>\n",
       "      <td>20.371979</td>\n",
       "      <td>30.0</td>\n",
       "      <td>48.0</td>\n",
       "      <td>66.0</td>\n",
       "      <td>83.0</td>\n",
       "      <td>100.0</td>\n",
       "      <td>-1.211200</td>\n",
       "      <td>-0.010333</td>\n",
       "    </tr>\n",
       "    <tr>\n",
       "      <th>MonthlyIncome</th>\n",
       "      <td>1029.0</td>\n",
       "      <td>6477.754130</td>\n",
       "      <td>4686.054212</td>\n",
       "      <td>1009.0</td>\n",
       "      <td>2935.0</td>\n",
       "      <td>4876.0</td>\n",
       "      <td>8376.0</td>\n",
       "      <td>19999.0</td>\n",
       "      <td>1.111367</td>\n",
       "      <td>1.398851</td>\n",
       "    </tr>\n",
       "    <tr>\n",
       "      <th>MonthlyRate</th>\n",
       "      <td>1029.0</td>\n",
       "      <td>14276.242954</td>\n",
       "      <td>7158.451921</td>\n",
       "      <td>2094.0</td>\n",
       "      <td>7824.0</td>\n",
       "      <td>14168.0</td>\n",
       "      <td>20431.0</td>\n",
       "      <td>26999.0</td>\n",
       "      <td>-1.218076</td>\n",
       "      <td>0.037745</td>\n",
       "    </tr>\n",
       "    <tr>\n",
       "      <th>PercentSalaryHike</th>\n",
       "      <td>1029.0</td>\n",
       "      <td>15.100097</td>\n",
       "      <td>3.618033</td>\n",
       "      <td>11.0</td>\n",
       "      <td>12.0</td>\n",
       "      <td>14.0</td>\n",
       "      <td>17.0</td>\n",
       "      <td>25.0</td>\n",
       "      <td>-0.208512</td>\n",
       "      <td>0.853905</td>\n",
       "    </tr>\n",
       "    <tr>\n",
       "      <th>TotalWorkingYears</th>\n",
       "      <td>1029.0</td>\n",
       "      <td>11.222546</td>\n",
       "      <td>7.693676</td>\n",
       "      <td>0.0</td>\n",
       "      <td>6.0</td>\n",
       "      <td>10.0</td>\n",
       "      <td>15.0</td>\n",
       "      <td>40.0</td>\n",
       "      <td>0.967725</td>\n",
       "      <td>1.118038</td>\n",
       "    </tr>\n",
       "    <tr>\n",
       "      <th>YearsAtCompany</th>\n",
       "      <td>1029.0</td>\n",
       "      <td>7.077745</td>\n",
       "      <td>6.125454</td>\n",
       "      <td>0.0</td>\n",
       "      <td>3.0</td>\n",
       "      <td>5.0</td>\n",
       "      <td>10.0</td>\n",
       "      <td>40.0</td>\n",
       "      <td>3.957359</td>\n",
       "      <td>1.738087</td>\n",
       "    </tr>\n",
       "    <tr>\n",
       "      <th>YearsInCurrentRole</th>\n",
       "      <td>1029.0</td>\n",
       "      <td>4.280855</td>\n",
       "      <td>3.651106</td>\n",
       "      <td>0.0</td>\n",
       "      <td>2.0</td>\n",
       "      <td>3.0</td>\n",
       "      <td>7.0</td>\n",
       "      <td>18.0</td>\n",
       "      <td>0.451221</td>\n",
       "      <td>0.894886</td>\n",
       "    </tr>\n",
       "    <tr>\n",
       "      <th>YearsSinceLastPromotion</th>\n",
       "      <td>1029.0</td>\n",
       "      <td>2.186589</td>\n",
       "      <td>3.202956</td>\n",
       "      <td>0.0</td>\n",
       "      <td>0.0</td>\n",
       "      <td>1.0</td>\n",
       "      <td>3.0</td>\n",
       "      <td>15.0</td>\n",
       "      <td>3.747712</td>\n",
       "      <td>1.996303</td>\n",
       "    </tr>\n",
       "    <tr>\n",
       "      <th>YearsWithCurrManager</th>\n",
       "      <td>1029.0</td>\n",
       "      <td>4.183673</td>\n",
       "      <td>3.618786</td>\n",
       "      <td>0.0</td>\n",
       "      <td>2.0</td>\n",
       "      <td>3.0</td>\n",
       "      <td>7.0</td>\n",
       "      <td>17.0</td>\n",
       "      <td>0.274706</td>\n",
       "      <td>0.851348</td>\n",
       "    </tr>\n",
       "  </tbody>\n",
       "</table>\n",
       "</div>"
      ],
      "text/plain": [
       "                          count          mean          std     min     25%  \\\n",
       "NumCompaniesWorked       1029.0      2.702624     2.530553     0.0     1.0   \n",
       "TrainingTimesLastYear    1029.0      2.804665     1.275227     0.0     2.0   \n",
       "Age                      1029.0     36.773567     8.962538    18.0    30.0   \n",
       "DailyRate                1029.0    810.112731   404.094553   103.0   468.0   \n",
       "DistanceFromHome         1029.0      8.966958     8.022274     1.0     2.0   \n",
       "HourlyRate               1029.0     65.714286    20.371979    30.0    48.0   \n",
       "MonthlyIncome            1029.0   6477.754130  4686.054212  1009.0  2935.0   \n",
       "MonthlyRate              1029.0  14276.242954  7158.451921  2094.0  7824.0   \n",
       "PercentSalaryHike        1029.0     15.100097     3.618033    11.0    12.0   \n",
       "TotalWorkingYears        1029.0     11.222546     7.693676     0.0     6.0   \n",
       "YearsAtCompany           1029.0      7.077745     6.125454     0.0     3.0   \n",
       "YearsInCurrentRole       1029.0      4.280855     3.651106     0.0     2.0   \n",
       "YearsSinceLastPromotion  1029.0      2.186589     3.202956     0.0     0.0   \n",
       "YearsWithCurrManager     1029.0      4.183673     3.618786     0.0     2.0   \n",
       "\n",
       "                             50%      75%      max  Kurtosis  Skewness  \n",
       "NumCompaniesWorked           2.0      4.0      9.0 -0.045266  1.024641  \n",
       "TrainingTimesLastYear        3.0      3.0      6.0  0.585121  0.583878  \n",
       "Age                         35.0     42.0     60.0 -0.334518  0.442179  \n",
       "DailyRate                  819.0   1168.0   1499.0 -1.221482 -0.041341  \n",
       "DistanceFromHome             7.0     13.0     29.0 -0.089093  1.014304  \n",
       "HourlyRate                  66.0     83.0    100.0 -1.211200 -0.010333  \n",
       "MonthlyIncome             4876.0   8376.0  19999.0  1.111367  1.398851  \n",
       "MonthlyRate              14168.0  20431.0  26999.0 -1.218076  0.037745  \n",
       "PercentSalaryHike           14.0     17.0     25.0 -0.208512  0.853905  \n",
       "TotalWorkingYears           10.0     15.0     40.0  0.967725  1.118038  \n",
       "YearsAtCompany               5.0     10.0     40.0  3.957359  1.738087  \n",
       "YearsInCurrentRole           3.0      7.0     18.0  0.451221  0.894886  \n",
       "YearsSinceLastPromotion      1.0      3.0     15.0  3.747712  1.996303  \n",
       "YearsWithCurrManager         3.0      7.0     17.0  0.274706  0.851348  "
      ]
     },
     "execution_count": 9,
     "metadata": {},
     "output_type": "execute_result"
    }
   ],
   "source": [
    "desc = Xtrain[numCol].describe().T\n",
    "desc[\"Kurtosis\"] = Xtrain[numCol].kurt()\n",
    "desc[\"Skewness\"] = Xtrain[numCol].skew()\n",
    "desc"
   ]
  },
  {
   "cell_type": "markdown",
   "id": "lFjAxpg6MyC6",
   "metadata": {
    "id": "lFjAxpg6MyC6"
   },
   "source": [
    "Observing the results of my descriptive and graphical analysis, I can highlight the following points:\n",
    "\n",
    "*   The following attributes have considerable positive skewness and will be transformed:\n",
    "    * NumCompaniesWorked\n",
    "    * TrainingTimesLastYear\n",
    "    * DistanceFromHome\n",
    "    * MonthlyIncome\n",
    "    * PercentSalaryHike\n",
    "    * TotalWorkingYears\n",
    "    * YearsAtCompany\n",
    "    * YearsInCurrentRole\n",
    "    * YearsSinceLastPromotion\n",
    "    * YearsWithCurrManager\n",
    "\n",
    "*   The attributes have different scales, so they will need to be scaled to prevent some from taking priority over others. Since these have outliers, we will use a standard scaler after transforming the skewed data.\n",
    "\n",
    "* To address both issues, we can use the Yeo-Johnson transformation from sklearn with the attribute \"standardize=True\" to perform both the transformation (to obtain normal distributions) and scaling in a single step.\n"
   ]
  },
  {
   "cell_type": "markdown",
   "id": "W3fDwTV3Lhm5",
   "metadata": {
    "id": "W3fDwTV3Lhm5"
   },
   "source": [
    "We verify how the ordinal variables are displayed."
   ]
  },
  {
   "cell_type": "code",
   "execution_count": 10,
   "id": "TLqUR4sl6cnV",
   "metadata": {
    "colab": {
     "base_uri": "https://localhost:8080/"
    },
    "id": "TLqUR4sl6cnV",
    "outputId": "190caac6-437d-466a-8867-fe1b54f96f3b"
   },
   "outputs": [
    {
     "name": "stdout",
     "output_type": "stream",
     "text": [
      "   Education  EnvironmentSatisfaction  JobInvolvement  JobLevel  \\\n",
      "3      399.0                    322.0           601.0     155.0   \n",
      "4      288.0                    318.0            97.0      72.0   \n",
      "2      198.0                    200.0           277.0     371.0   \n",
      "1      107.0                    189.0            54.0     381.0   \n",
      "5       37.0                      NaN             NaN      50.0   \n",
      "0        NaN                      NaN             NaN       NaN   \n",
      "\n",
      "   JobSatisfaction  PerformanceRating  RelationshipSatisfaction  \\\n",
      "3            300.0              881.0                     320.0   \n",
      "4            315.0              148.0                     316.0   \n",
      "2            203.0                NaN                     207.0   \n",
      "1            211.0                NaN                     186.0   \n",
      "5              NaN                NaN                       NaN   \n",
      "0              NaN                NaN                       NaN   \n",
      "\n",
      "   StockOptionLevel  WorkLifeBalance  \n",
      "3              60.0            629.0  \n",
      "4               NaN            103.0  \n",
      "2             109.0            246.0  \n",
      "1             410.0             51.0  \n",
      "5               NaN              NaN  \n",
      "0             450.0              NaN  \n"
     ]
    }
   ],
   "source": [
    "\n",
    "catOrd_pipeline_names = ['Education' ,'EnvironmentSatisfaction' ,'JobInvolvement','JobLevel','JobSatisfaction','PerformanceRating','RelationshipSatisfaction','StockOptionLevel','WorkLifeBalance']\n",
    "print(pd.DataFrame({col: Xtrain[col].value_counts().to_dict() for col in catOrd_pipeline_names}))"
   ]
  },
  {
   "cell_type": "markdown",
   "id": "BKnYR2QHTkDY",
   "metadata": {
    "id": "BKnYR2QHTkDY"
   },
   "source": [
    "In the case of categorical variables, we would need to perform encoding as follows:\n",
    "\n",
    "* Ordinal (even though these variables are represented as numerical values, we will apply a transformation to ensure they all start at 0):\n",
    "  * Education\n",
    "  * EnvironmentSatisfaction\n",
    "  * JobInvolvement\n",
    "  * JobLevel\n",
    "  * JobSatisfaction\n",
    "  * PerformanceRating\n",
    "  * RelationshipSatisfaction\n",
    "  * StockOptionLevel\n",
    "  * WorkLifeBalance\n",
    "* OneHot:\n",
    "  * BusinessTravel\n",
    "  * Department\n",
    "  * EducationField\n",
    "  * JobRole\n",
    "  * MaritalStatus"
   ]
  },
  {
   "cell_type": "markdown",
   "id": "sZcEA8I9bJwo",
   "metadata": {
    "id": "sZcEA8I9bJwo"
   },
   "source": [
    "Now we examine the binary variables. Both are in text form, so we need to convert them to numerical format. For this, we can use one-hot encoding again."
   ]
  },
  {
   "cell_type": "code",
   "execution_count": 11,
   "id": "Dj_CTTS9bed1",
   "metadata": {
    "colab": {
     "base_uri": "https://localhost:8080/",
     "height": 424
    },
    "id": "Dj_CTTS9bed1",
    "outputId": "84c2f929-f1eb-49d3-b2d7-3e8811aa3732"
   },
   "outputs": [
    {
     "data": {
      "text/html": [
       "<div>\n",
       "<style scoped>\n",
       "    .dataframe tbody tr th:only-of-type {\n",
       "        vertical-align: middle;\n",
       "    }\n",
       "\n",
       "    .dataframe tbody tr th {\n",
       "        vertical-align: top;\n",
       "    }\n",
       "\n",
       "    .dataframe thead th {\n",
       "        text-align: right;\n",
       "    }\n",
       "</style>\n",
       "<table border=\"1\" class=\"dataframe\">\n",
       "  <thead>\n",
       "    <tr style=\"text-align: right;\">\n",
       "      <th></th>\n",
       "      <th>Gender</th>\n",
       "      <th>OverTime</th>\n",
       "    </tr>\n",
       "  </thead>\n",
       "  <tbody>\n",
       "    <tr>\n",
       "      <th>0</th>\n",
       "      <td>Female</td>\n",
       "      <td>Yes</td>\n",
       "    </tr>\n",
       "    <tr>\n",
       "      <th>1</th>\n",
       "      <td>Male</td>\n",
       "      <td>No</td>\n",
       "    </tr>\n",
       "    <tr>\n",
       "      <th>2</th>\n",
       "      <td>Male</td>\n",
       "      <td>Yes</td>\n",
       "    </tr>\n",
       "    <tr>\n",
       "      <th>3</th>\n",
       "      <td>Female</td>\n",
       "      <td>Yes</td>\n",
       "    </tr>\n",
       "    <tr>\n",
       "      <th>4</th>\n",
       "      <td>Male</td>\n",
       "      <td>No</td>\n",
       "    </tr>\n",
       "    <tr>\n",
       "      <th>...</th>\n",
       "      <td>...</td>\n",
       "      <td>...</td>\n",
       "    </tr>\n",
       "    <tr>\n",
       "      <th>1465</th>\n",
       "      <td>Male</td>\n",
       "      <td>No</td>\n",
       "    </tr>\n",
       "    <tr>\n",
       "      <th>1466</th>\n",
       "      <td>Male</td>\n",
       "      <td>No</td>\n",
       "    </tr>\n",
       "    <tr>\n",
       "      <th>1467</th>\n",
       "      <td>Male</td>\n",
       "      <td>Yes</td>\n",
       "    </tr>\n",
       "    <tr>\n",
       "      <th>1468</th>\n",
       "      <td>Male</td>\n",
       "      <td>No</td>\n",
       "    </tr>\n",
       "    <tr>\n",
       "      <th>1469</th>\n",
       "      <td>Male</td>\n",
       "      <td>No</td>\n",
       "    </tr>\n",
       "  </tbody>\n",
       "</table>\n",
       "<p>1470 rows × 2 columns</p>\n",
       "</div>"
      ],
      "text/plain": [
       "      Gender OverTime\n",
       "0     Female      Yes\n",
       "1       Male       No\n",
       "2       Male      Yes\n",
       "3     Female      Yes\n",
       "4       Male       No\n",
       "...      ...      ...\n",
       "1465    Male       No\n",
       "1466    Male       No\n",
       "1467    Male      Yes\n",
       "1468    Male       No\n",
       "1469    Male       No\n",
       "\n",
       "[1470 rows x 2 columns]"
      ]
     },
     "execution_count": 11,
     "metadata": {},
     "output_type": "execute_result"
    }
   ],
   "source": [
    "df[['Gender','OverTime']]"
   ]
  },
  {
   "cell_type": "code",
   "execution_count": 12,
   "id": "5oNp0-9klbFj",
   "metadata": {
    "colab": {
     "base_uri": "https://localhost:8080/",
     "height": 147
    },
    "id": "5oNp0-9klbFj",
    "outputId": "f06ac2ac-045f-4ebf-edab-d7a2b54a82a8"
   },
   "outputs": [
    {
     "data": {
      "text/plain": [
       "Gender      2\n",
       "OverTime    2\n",
       "dtype: int64"
      ]
     },
     "execution_count": 12,
     "metadata": {},
     "output_type": "execute_result"
    }
   ],
   "source": [
    "df[['Gender','OverTime']].nunique()"
   ]
  },
  {
   "cell_type": "markdown",
   "id": "05wcuw5Q833I",
   "metadata": {
    "id": "05wcuw5Q833I"
   },
   "source": [
    "Finally, a simple imputer will be added to each pipeline to prevent potential null values in the test data."
   ]
  },
  {
   "cell_type": "code",
   "execution_count": 13,
   "id": "lWKwlCAkKimS",
   "metadata": {
    "id": "lWKwlCAkKimS"
   },
   "outputs": [],
   "source": [
    "# ++++++++++ THE SECTION TO ADD CODE ENDS ++++++++++++++++++++++++"
   ]
  },
  {
   "cell_type": "markdown",
   "id": "7UnNwVptCnmk",
   "metadata": {
    "id": "7UnNwVptCnmk"
   },
   "source": [
    "# **Exercise 8:**"
   ]
  },
  {
   "cell_type": "markdown",
   "id": "cZJ86ke_DyLC",
   "metadata": {
    "id": "cZJ86ke_DyLC"
   },
   "source": [
    "**Use the Pipeline and ColumnTransformer classes from Sklearn to define the transformations that should be applied to each variable according to its type.**\n",
    "\n"
   ]
  },
  {
   "cell_type": "markdown",
   "id": "E0z9qJCw-Pd8",
   "metadata": {
    "id": "E0z9qJCw-Pd8"
   },
   "source": [
    "Justification:\n",
    "\n",
    "* Numerical Variable Transformers:\n",
    "  * Yeo-Johnson: The \"Yeo-Johnson\" transformer was chosen because our numerical variables have widely varying scales and contain zero values. This transformation helps normalize their distribution. Additionally, with the parameter \"standardize=True\", this transformation also performs standardization in the same step.\n",
    "\n",
    "* Binary Variable Transformers:\n",
    "  * OneHotEncoder: As we observed in the previous exercise, the binary variables in our dataset are represented as text, making it essential to encode them as numbers for our algorithms to function properly. \"OneHotEncoder\" was selected because, using the parameter \"drop=first\", the final output will be a single column with binary values of 0 and 1, exactly as needed.\n"
   ]
  },
  {
   "cell_type": "code",
   "execution_count": 14,
   "id": "5Kvk3CDsFqPE",
   "metadata": {
    "id": "5Kvk3CDsFqPE"
   },
   "outputs": [],
   "source": [
    "# ++++++++++ THE SECTION TO ADD CODE STARTS ++++++++++++++++++++++++\n",
    "\n",
    "# NUMERICAL:\n",
    "numericas_pipeline = Pipeline(steps = [('impnum',SimpleImputer()),\n",
    "                                       ('yeojohn',PowerTransformer(method='yeo-johnson', standardize=True))] )\n",
    "numericas_pipeline_nombres = ['NumCompaniesWorked','TrainingTimesLastYear','DistanceFromHome','MonthlyIncome','PercentSalaryHike','TotalWorkingYears','YearsAtCompany','YearsInCurrentRole','YearsSinceLastPromotion','YearsWithCurrManager','Age','DailyRate','HourlyRate','MonthlyRate']\n",
    "\n",
    "# ORDINAL:\n",
    "catOrd_pipeline = Pipeline( steps = [('impOrd',SimpleImputer(strategy=\"most_frequent\")),\n",
    "                                     ('ordEnc',OrdinalEncoder(handle_unknown='use_encoded_value', unknown_value=-1))] )\n",
    "catOrd_pipeline_names = ['Education' ,'EnvironmentSatisfaction' ,'JobInvolvement','JobLevel','JobSatisfaction','PerformanceRating','RelationshipSatisfaction','StockOptionLevel','WorkLifeBalance']\n",
    "\n",
    "# BINARy:\n",
    "catBin_pipeline = Pipeline( steps = [('impBin',SimpleImputer(strategy=\"most_frequent\")),\n",
    "                                     ('lblEnc',OneHotEncoder(handle_unknown='ignore', drop='first'))]  )\n",
    "catBin_pipeline_nombres = ['Gender','OverTime']\n",
    "\n",
    "# NOMINAL:\n",
    "catNom_pipeline = Pipeline( steps = [('impNom',SimpleImputer(strategy=\"most_frequent\")),\n",
    "                                     ('OneHotE', OneHotEncoder(handle_unknown='ignore', drop='first'))])\n",
    "catNom_pipeline_nombres = ['BusinessTravel','Department','EducationField','JobRole','MaritalStatus']\n",
    "\n",
    "\n",
    "\n",
    "\n",
    "columnsTransformer = ColumnTransformer( transformers = [('numPipe'     ,numericas_pipeline                 ,numericas_pipeline_nombres),\n",
    "                                                         ('ordPipe'     ,catOrd_pipeline                    ,catOrd_pipeline_names),\n",
    "                                                         ('binPipe'     ,catBin_pipeline                    ,catBin_pipeline_nombres ),\n",
    "                                                         ('nomPipe'     ,catNom_pipeline                    ,catNom_pipeline_nombres )] )\n",
    "\n",
    "# ++++++++++ THE SECTION TO ADD CODE ENDS ++++++++++++++++++++++++"
   ]
  },
  {
   "cell_type": "markdown",
   "id": "2WjnvhIrEy8x",
   "metadata": {
    "id": "2WjnvhIrEy8x"
   },
   "source": [
    "# **Exercise 9:**"
   ]
  },
  {
   "cell_type": "markdown",
   "id": "kDhCIvI7E2aY",
   "metadata": {
    "id": "kDhCIvI7E2aY"
   },
   "source": [
    "**Merge the training and validation sets into a single DataFrame.**\n",
    "\n",
    "We name these new DataFrames Xtv and ytv."
   ]
  },
  {
   "cell_type": "code",
   "execution_count": 15,
   "id": "PYHj38QVE_Hv",
   "metadata": {
    "colab": {
     "base_uri": "https://localhost:8080/"
    },
    "id": "PYHj38QVE_Hv",
    "outputId": "bfb6366e-17af-4150-879e-bd3f87cd15b1"
   },
   "outputs": [
    {
     "name": "stdout",
     "output_type": "stream",
     "text": [
      "(1249, 30)\n",
      "(1249, 1)\n"
     ]
    }
   ],
   "source": [
    "# ++++++++++ THE SECTION TO ADD CODE STARTS ++++++++++++++++++++++++\n",
    "\n",
    "Xtv = pd.concat([Xtrain,Xval], axis=0, ignore_index=True)\n",
    "ytv = pd.concat([ytrainT,yvalT], axis=0, ignore_index=True)\n",
    "\n",
    "# ++++++++++ THE SECTION TO ADD CODE ENDS ++++++++++++++++++++++++\n",
    "\n",
    "print(Xtv.shape)\n",
    "print(ytv.shape)"
   ]
  },
  {
   "cell_type": "markdown",
   "id": "FYSK42MxFaHk",
   "metadata": {
    "id": "FYSK42MxFaHk"
   },
   "source": [
    "# **Exercise 10:**"
   ]
  },
  {
   "cell_type": "markdown",
   "id": "GLNcR6ZHFbyt",
   "metadata": {
    "id": "GLNcR6ZHFbyt"
   },
   "source": [
    "**We find the best hyperparameters**"
   ]
  },
  {
   "cell_type": "code",
   "execution_count": 16,
   "id": "BzSCDRquFm5z",
   "metadata": {
    "colab": {
     "base_uri": "https://localhost:8080/",
     "height": 556
    },
    "id": "BzSCDRquFm5z",
    "outputId": "de4acedd-cdcb-4ecb-ffbd-74c16c3147fe"
   },
   "outputs": [
    {
     "name": "stdout",
     "output_type": "stream",
     "text": [
      ">> LR 0.880 (0.013)\n",
      ">> LASSO 0.882 (0.014)\n",
      ">> RIDGE 0.879 (0.013)\n",
      ">> EN 0.880 (0.013)\n",
      ">> kNN 0.844 (0.010)\n"
     ]
    },
    {
     "name": "stderr",
     "output_type": "stream",
     "text": [
      "C:\\Users\\mario\\AppData\\Local\\Temp\\ipykernel_35908\\737763420.py:64: MatplotlibDeprecationWarning: The 'labels' parameter of boxplot() has been renamed 'tick_labels' since Matplotlib 3.9; support for the old name will be dropped in 3.11.\n",
      "  plt.boxplot(resultados, labels=nombres, showmeans=True)   # Box plot to visualize the results.\n"
     ]
    },
    {
     "data": {
      "image/png": "[encoded data removed]",
      "text/plain": [
       "<Figure size 640x480 with 1 Axes>"
      ]
     },
     "metadata": {},
     "output_type": "display_data"
    }
   ],
   "source": [
    "# ++++++++++ THE SECTION TO ADD CODE STARTS ++++++++++++++++++++++++\n",
    "\n",
    "\n",
    "def mis_modelos():\n",
    "  modelos, nombres = list(), list()\n",
    "\n",
    "  # LR - Logistic Regression without Regularization:\n",
    "  modelos.append(LogisticRegression(penalty=None,  # This \"penalty\" value should not be changed, as it defines the model without regularization.\n",
    "                                    solver='lbfgs', max_iter=3000,     # Include all hyperparameters and values you consider appropriate here.\n",
    "                                    random_state=1))\n",
    "  nombres.append('LR')\n",
    "\n",
    "\n",
    "  # Lasso - Logistic Regression with L1 Regularization:\n",
    "  modelos.append(LogisticRegression(penalty='l1',\n",
    "                                    solver='liblinear', max_iter=3000, C=1.,     # Include all hyperparameters and values you consider appropriate here.\n",
    "                                    random_state=1))\n",
    "  nombres.append('LASSO')\n",
    "\n",
    "\n",
    "  # Ridge - Logistic Regression with L2 Regularization:\n",
    "  modelos.append(LogisticRegression(penalty='l2',\n",
    "                                    solver= 'newton-cg', max_iter=3000, C=10.01,     # Include all hyperparameters and values you consider appropriate here.\n",
    "                                    random_state=1))\n",
    "  nombres.append('RIDGE')\n",
    "\n",
    "\n",
    "  # Elastic_Net - Logistic Regression with both L1 and L2 Regularization:\n",
    "  modelos.append(LogisticRegression(penalty='elasticnet',\n",
    "                                    l1_ratio=0.5,solver='saga',max_iter=3000, C=1.,    # Include all hyperparameters and values you consider appropriate here.\n",
    "                                    random_state=1))\n",
    "  nombres.append('EN')\n",
    "\n",
    "\n",
    "\n",
    "  # kNN - k-Nearest Neighbors:\n",
    "  modelos.append(KNeighborsClassifier()) # Include all hyperparameters and values you consider appropriate here.\n",
    "  nombres.append('kNN')\n",
    "\n",
    "  return modelos, nombres\n",
    "\n",
    "# ++++++++++ THE SECTION TO ADD CODE ENDS ++++++++++++++++++++++++\n",
    "\n",
    "\n",
    "\n",
    "# We train the models:\n",
    "\n",
    "modelos, nombres = mis_modelos()  # Accesing the models.\n",
    "resultados = list()    # List where the results will be saved.\n",
    "\n",
    "# Iterating and training every model:\n",
    "for i in range(len(modelos)):\n",
    "\n",
    "  pipeline = Pipeline(steps=[('ct',columnsTransformer),('m',modelos[i])])   # Using the pipeline to transform the model.\n",
    "\n",
    "  cv1 = RepeatedStratifiedKFold(n_splits=5, n_repeats=3, random_state=7)     # Using cross validation.\n",
    "\n",
    "  scores = cross_val_score(pipeline, Xtv, np.ravel(ytv), scoring='accuracy', cv=cv1)   # Training and saving the results.\n",
    "\n",
    "  resultados.append(scores)    # Saving the results in a list.\n",
    "  print('>> %s %.3f (%.3f)' % (nombres[i], np.nanmean(scores), np.nanstd(scores)))  # Displaying each models score.\n",
    "\n",
    "\n",
    "plt.boxplot(resultados, labels=nombres, showmeans=True)   # Box plot to visualize the results.\n",
    "plt.show()"
   ]
  },
  {
   "cell_type": "markdown",
   "id": "hZsec1sDGxly",
   "metadata": {
    "id": "hZsec1sDGxly"
   },
   "source": [
    "# **Exercise 11:**"
   ]
  },
  {
   "cell_type": "markdown",
   "id": "lCepDvlqIhlr",
   "metadata": {
    "id": "lCepDvlqIhlr"
   },
   "source": [
    "**Using the best model and the data Xtv and ytv, perform a grid search to find the optimal hyperparameters. Ensure that the model is neither underfitted nor overfitted.**"
   ]
  },
  {
   "cell_type": "code",
   "execution_count": 17,
   "id": "-J1NiHo6Duhr",
   "metadata": {
    "colab": {
     "base_uri": "https://localhost:8080/"
    },
    "id": "-J1NiHo6Duhr",
    "outputId": "7f8ff982-ed3a-4caa-d43e-c4a8abce2893"
   },
   "outputs": [
    {
     "name": "stdout",
     "output_type": "stream",
     "text": [
      "Best model: 0.882305 using {'C': 1.0, 'class_weight': None, 'solver': 'liblinear'}\n",
      "Averages Train mean(std): 0.8180(0.0151)\n",
      "Averages Val mean(std): 0.8013(0.0226)\n"
     ]
    }
   ],
   "source": [
    "# +++++++++ THE SECTION TO ADD CODE STARTS ++++++++++++++++++++++++\n",
    "\n",
    "\n",
    "best_model = LogisticRegression(penalty='l1',max_iter=5000,random_state=1)\n",
    "\n",
    "dicc_grid = {'C':[.001,.01,.1,1.,10.,100,1000,10000],'solver':['liblinear', 'saga'],'class_weight':['balanced',None]}\n",
    "\n",
    "cv = RepeatedStratifiedKFold(n_splits=5, n_repeats=3, random_state=8)\n",
    "\n",
    "grid = GridSearchCV(estimator=best_model,\n",
    "                    param_grid=dicc_grid,\n",
    "                    cv=cv,\n",
    "                    scoring='accuracy',\n",
    "                    n_jobs=-1,\n",
    "                    return_train_score=True\n",
    "                    )\n",
    "\n",
    "columnsTransformer.fit(Xtrain)\n",
    "Xx = columnsTransformer.transform(Xtv)\n",
    "grid_result = grid.fit(Xx, np.ravel(ytv))\n",
    "# +++++++++ THE SECTION TO ADD CODE ENDS ++++++++++++++++++++++++\n",
    "\n",
    "\n",
    "\n",
    "print(\"Best model: %f using %s\" % (grid_result.best_score_, grid_result.best_params_))\n",
    "print('Averages Train mean(std): %.4f(%.4f)' % (np.nanmean(grid_result.cv_results_['mean_train_score']),\n",
    "                                                 np.nanmean(grid_result.cv_results_['std_train_score'])))\n",
    "print('Averages Val mean(std): %.4f(%.4f)' % (grid_result.cv_results_['mean_test_score'].mean(),\n",
    "                                               grid_result.cv_results_['std_test_score'].mean()))\n"
   ]
  },
  {
   "cell_type": "markdown",
   "id": "O21vnmQ2NGfV",
   "metadata": {
    "id": "O21vnmQ2NGfV"
   },
   "source": [
    "# **Exercise 12:**"
   ]
  },
  {
   "cell_type": "markdown",
   "id": "49YltpUDNBFh",
   "metadata": {
    "id": "49YltpUDNBFh"
   },
   "source": [
    "**With the best hyperparameter values from the optimal model, obtain:**\n",
    "\n",
    "*   **a) Confusion Matrix.**\n",
    "*   **b) Factor Importance Analysis.**\n",
    "*   **c) Metrics Report.**"
   ]
  },
  {
   "cell_type": "code",
   "execution_count": 18,
   "id": "f4saUgimLkxX",
   "metadata": {
    "colab": {
     "base_uri": "https://localhost:8080/",
     "height": 449
    },
    "id": "f4saUgimLkxX",
    "outputId": "5a586e9c-78f4-4fbc-a3bb-9c537db6a8d9"
   },
   "outputs": [
    {
     "data": {
      "image/png": "[encoded data removed]",
      "text/plain": [
       "<Figure size 640x480 with 2 Axes>"
      ]
     },
     "metadata": {},
     "output_type": "display_data"
    }
   ],
   "source": [
    "# +++++++++ THE SECTION TO ADD CODE STARTS ++++++++++++++++++++++++\n",
    "# Include all the cells you deem appropriate to address\n",
    "# these three sections of the exercise.\n",
    "\n",
    "bestModel = grid_result.best_estimator_\n",
    "\n",
    "ConfusionMatrixDisplay.from_estimator(bestModel, Xx, np.ravel(ytv))\n",
    "plt.show()\n",
    "\n",
    "\n",
    "# +++++++++ THE SECTION TO ADD CODE ENDS ++++++++++++++++++++++++"
   ]
  },
  {
   "cell_type": "markdown",
   "id": "EoZYWHR3IXXy",
   "metadata": {
    "id": "EoZYWHR3IXXy"
   },
   "source": [
    "To calculate accuracy:"
   ]
  },
  {
   "cell_type": "code",
   "execution_count": 19,
   "id": "TLlIV8QdHSPi",
   "metadata": {
    "colab": {
     "base_uri": "https://localhost:8080/"
    },
    "id": "TLlIV8QdHSPi",
    "outputId": "8f249366-53ed-4304-8a13-84fa2bfdc972"
   },
   "outputs": [
    {
     "data": {
      "text/plain": [
       "0.8967173738991193"
      ]
     },
     "execution_count": 19,
     "metadata": {},
     "output_type": "execute_result"
    }
   ],
   "source": [
    "cmY = bestModel.predict(Xx)\n",
    "accuracy_score(ytv,cmY)"
   ]
  },
  {
   "cell_type": "markdown",
   "id": "iRhcEZiYIfVn",
   "metadata": {
    "id": "iRhcEZiYIfVn"
   },
   "source": [
    "Factor Importance Analysis\n",
    "\n",
    "The code performs the following steps:\n",
    "* Retrieves the coefficient values of the factors.\n",
    "* Computes the absolute value of the coefficients to compare their influence regardless of the sign.\n",
    "* Identifies the five most important values.\n",
    "\n",
    "With this, we determine that the most significant factors in our problem are\n",
    "- binPipe__OverTime_Yes\n",
    "- nomPipe__BusinessTravel_Travel_Frequently\n",
    "- nomPipe__Department_Research & Development\n",
    "- nomPipe__MaritalStatus_Single\n",
    "- ordPipe__JobInvolvement"
   ]
  },
  {
   "cell_type": "code",
   "execution_count": 20,
   "id": "G-ttwix-CQMd",
   "metadata": {
    "colab": {
     "base_uri": "https://localhost:8080/",
     "height": 199
    },
    "id": "G-ttwix-CQMd",
    "outputId": "6a6a8232-43f6-4c85-e851-e8cc442d0dd3"
   },
   "outputs": [
    {
     "data": {
      "text/html": [
       "<div>\n",
       "<style scoped>\n",
       "    .dataframe tbody tr th:only-of-type {\n",
       "        vertical-align: middle;\n",
       "    }\n",
       "\n",
       "    .dataframe tbody tr th {\n",
       "        vertical-align: top;\n",
       "    }\n",
       "\n",
       "    .dataframe thead th {\n",
       "        text-align: right;\n",
       "    }\n",
       "</style>\n",
       "<table border=\"1\" class=\"dataframe\">\n",
       "  <thead>\n",
       "    <tr style=\"text-align: right;\">\n",
       "      <th></th>\n",
       "      <th>Coefficient</th>\n",
       "      <th>AbsCoef</th>\n",
       "    </tr>\n",
       "  </thead>\n",
       "  <tbody>\n",
       "    <tr>\n",
       "      <th>binPipe__OverTime_Yes</th>\n",
       "      <td>1.828251</td>\n",
       "      <td>1.828251</td>\n",
       "    </tr>\n",
       "    <tr>\n",
       "      <th>nomPipe__BusinessTravel_Travel_Frequently</th>\n",
       "      <td>1.347514</td>\n",
       "      <td>1.347514</td>\n",
       "    </tr>\n",
       "    <tr>\n",
       "      <th>nomPipe__Department_Research &amp; Development</th>\n",
       "      <td>-0.664111</td>\n",
       "      <td>0.664111</td>\n",
       "    </tr>\n",
       "    <tr>\n",
       "      <th>nomPipe__MaritalStatus_Single</th>\n",
       "      <td>0.617866</td>\n",
       "      <td>0.617866</td>\n",
       "    </tr>\n",
       "    <tr>\n",
       "      <th>ordPipe__JobInvolvement</th>\n",
       "      <td>-0.567242</td>\n",
       "      <td>0.567242</td>\n",
       "    </tr>\n",
       "  </tbody>\n",
       "</table>\n",
       "</div>"
      ],
      "text/plain": [
       "                                            Coefficient   AbsCoef\n",
       "binPipe__OverTime_Yes                          1.828251  1.828251\n",
       "nomPipe__BusinessTravel_Travel_Frequently      1.347514  1.347514\n",
       "nomPipe__Department_Research & Development    -0.664111  0.664111\n",
       "nomPipe__MaritalStatus_Single                  0.617866  0.617866\n",
       "ordPipe__JobInvolvement                       -0.567242  0.567242"
      ]
     },
     "execution_count": 20,
     "metadata": {},
     "output_type": "execute_result"
    }
   ],
   "source": [
    "coef = pd.DataFrame(data = bestModel.coef_.reshape(-1,1),\n",
    "             index = columnsTransformer.get_feature_names_out(),columns=[\"Coefficient\"])\n",
    "coef[\"AbsCoef\"] = np.abs(coef[\"Coefficient\"])\n",
    "coef.sort_values(by=\"AbsCoef\", ascending=False).head()"
   ]
  },
  {
   "cell_type": "code",
   "execution_count": 21,
   "id": "CqXjZDlZCglx",
   "metadata": {
    "id": "CqXjZDlZCglx"
   },
   "outputs": [
    {
     "name": "stdout",
     "output_type": "stream",
     "text": [
      "              precision    recall  f1-score   support\n",
      "\n",
      "          No       0.98      0.90      0.94      1137\n",
      "         Yes       0.46      0.82      0.59       112\n",
      "\n",
      "    accuracy                           0.90      1249\n",
      "   macro avg       0.72      0.86      0.76      1249\n",
      "weighted avg       0.93      0.90      0.91      1249\n",
      "\n"
     ]
    }
   ],
   "source": [
    "print(classification_report(bestModel.predict(Xx), np.ravel(ytv), target_names=[\"No\", \"Yes\"]))"
   ]
  },
  {
   "cell_type": "markdown",
   "id": "EmT2jehoOJP-",
   "metadata": {
    "id": "EmT2jehoOJP-"
   },
   "source": [
    "# **Exercise 13**"
   ]
  },
  {
   "cell_type": "markdown",
   "id": "4-gTbTSUOGPv",
   "metadata": {
    "id": "4-gTbTSUOGPv"
   },
   "source": [
    "**Obtain the final performance of the model (accuracy) using the test set (test).**"
   ]
  },
  {
   "cell_type": "code",
   "execution_count": 22,
   "id": "RSQkAnyBN_u4",
   "metadata": {
    "id": "RSQkAnyBN_u4"
   },
   "outputs": [
    {
     "name": "stdout",
     "output_type": "stream",
     "text": [
      "              precision    recall  f1-score   support\n",
      "\n",
      "          No       0.91      0.98      0.95       185\n",
      "         Yes       0.86      0.53      0.66        36\n",
      "\n",
      "    accuracy                           0.91       221\n",
      "   macro avg       0.89      0.76      0.80       221\n",
      "weighted avg       0.91      0.91      0.90       221\n",
      "\n"
     ]
    }
   ],
   "source": [
    "# +++++++++ THE SECTION TO ADD CODE STARTS ++++++++++++++++++++++++\n",
    "XTestTransformed = columnsTransformer.transform(Xtest)\n",
    "yTestPred = bestModel.predict(XTestTransformed)\n",
    "\n",
    "print(classification_report(ytestT, yTestPred , target_names=[\"No\", \"Yes\"]) )\n",
    "\n",
    "# +++++++++ THE SECTION TO ADD CODE ENDS ++++++++++++++++++++++++"
   ]
  },
  {
   "cell_type": "markdown",
   "id": "QnsFJvAHORHW",
   "metadata": {
    "id": "QnsFJvAHORHW"
   },
   "source": [
    "# **Exercise 14**"
   ]
  },
  {
   "cell_type": "markdown",
   "id": "aUFofqzHOVAl",
   "metadata": {
    "id": "aUFofqzHOVAl"
   },
   "source": [
    "**Include your final conclusions for the activity.**"
   ]
  },
  {
   "cell_type": "markdown",
   "id": "Quiag20AOYH0",
   "metadata": {
    "id": "Quiag20AOYH0"
   },
   "source": [
    "Looking at the confusion matrices and metrics, we can observe that our model is particularly effective at classifying \"No\" results. This is due to the dataset being dominated by this class, with very few instances classified as \"Yes.\"\n",
    "\n",
    "\n",
    "Future models could benefit from a higher number of \"Yes\" cases to avoid imbalance and ensure the dataset is more representative of reality.\n"
   ]
  }
 ],
 "metadata": {
  "colab": {
   "collapsed_sections": [
    "ac09ecaf",
    "_FN5RwbGpz0c",
    "4KnDCDS5vh05",
    "-kGON2vOw9_8",
    "BFJsH9kx0vFa",
    "89133c57",
    "3iE95_bh8XF4",
    "7UnNwVptCnmk",
    "2WjnvhIrEy8x",
    "FYSK42MxFaHk",
    "hZsec1sDGxly",
    "O21vnmQ2NGfV",
    "EmT2jehoOJP-",
    "QnsFJvAHORHW"
   ],
   "provenance": []
  },
  "kernelspec": {
   "display_name": "Python 3 (ipykernel)",
   "language": "python",
   "name": "python3"
  },
  "language_info": {
   "codemirror_mode": {
    "name": "ipython",
    "version": 3
   },
   "file_extension": ".py",
   "mimetype": "text/x-python",
   "name": "python",
   "nbconvert_exporter": "python",
   "pygments_lexer": "ipython3",
   "version": "3.11.13"
  }
 },
 "nbformat": 4,
 "nbformat_minor": 5
}
